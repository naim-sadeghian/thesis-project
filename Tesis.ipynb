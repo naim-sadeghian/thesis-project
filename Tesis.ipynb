{
  "nbformat": 4,
  "nbformat_minor": 0,
  "metadata": {
    "colab": {
      "provenance": [],
      "collapsed_sections": [
        "NHg29lKwBvv2",
        "eN7nV4N1wz6I",
        "zGRQ2J2JZrTy",
        "ip6uH8JFRlq9",
        "Thh9gLEqkY_N",
        "a1kF8xjdS5y9",
        "h5eZGg04ynTr"
      ],
      "include_colab_link": true
    },
    "kernelspec": {
      "name": "python3",
      "display_name": "Python 3"
    },
    "language_info": {
      "name": "python"
    }
  },
  "cells": [
    {
      "cell_type": "markdown",
      "metadata": {
        "id": "view-in-github",
        "colab_type": "text"
      },
      "source": [
        "<a href=\"https://colab.research.google.com/github/naim-sadeghian/thesis-project/blob/main/Tesis.ipynb\" target=\"_parent\"><img src=\"https://colab.research.google.com/assets/colab-badge.svg\" alt=\"Open In Colab\"/></a>"
      ]
    },
    {
      "cell_type": "markdown",
      "source": [
        "#Librerias y datos"
      ],
      "metadata": {
        "id": "L1HB1rTzBooy"
      }
    },
    {
      "cell_type": "code",
      "source": [
        "#Clone github (libreria del profesor Omar)\n",
        "!git clone https://github.com/omarcastano/JaverianaML.git"
      ],
      "metadata": {
        "colab": {
          "base_uri": "https://localhost:8080/"
        },
        "id": "IaG8dX4EvY2b",
        "outputId": "3a982bde-ac4c-405f-9e05-8182808243f7"
      },
      "execution_count": null,
      "outputs": [
        {
          "output_type": "stream",
          "name": "stdout",
          "text": [
            "Cloning into 'JaverianaML'...\n",
            "remote: Enumerating objects: 219, done.\u001b[K\n",
            "remote: Total 219 (delta 0), reused 0 (delta 0), pack-reused 219\u001b[K\n",
            "Receiving objects: 100% (219/219), 1.04 MiB | 10.66 MiB/s, done.\n",
            "Resolving deltas: 100% (96/96), done.\n"
          ]
        }
      ]
    },
    {
      "cell_type": "code",
      "execution_count": null,
      "metadata": {
        "id": "8SexyB-leZWn"
      },
      "outputs": [],
      "source": [
        "import pandas as pd\n",
        "import matplotlib.pyplot as plt\n",
        "import seaborn as sns\n",
        "import numpy as np\n",
        "import math\n",
        "import tensorflow as tf\n",
        "import plotly.express as px\n",
        "from sklearn.cluster import DBSCAN\n",
        "from sklearn.cluster import KMeans\n",
        "from sklearn.cluster import AgglomerativeClustering\n",
        "from sklearn.mixture import GaussianMixture\n",
        "from sklearn.metrics import calinski_harabasz_score\n",
        "from sklearn.metrics import davies_bouldin_score\n",
        "from sklearn.metrics import silhouette_score\n",
        "from sklearn.neighbors import NearestCentroid\n",
        "from sklearn.metrics.pairwise import euclidean_distances\n",
        "from JaverianaML import plots_util as pu\n",
        "from JaverianaML import preprocessing_util\n",
        "from sklearn.base import BaseEstimator, TransformerMixin\n",
        "ds = pd.read_csv(\"ds2.csv\")\n",
        "\n"
      ]
    },
    {
      "cell_type": "markdown",
      "source": [
        "#Escalamiento y pre-procesado"
      ],
      "metadata": {
        "id": "NHg29lKwBvv2"
      }
    },
    {
      "cell_type": "markdown",
      "source": [
        "##Escalacion de datos"
      ],
      "metadata": {
        "id": "MrbreFrLB4eV"
      }
    },
    {
      "cell_type": "code",
      "source": [
        "#Escalacion de datos con metodo de pareto\n",
        "class ParetoScaler(BaseEstimator, TransformerMixin):\n",
        "    def __init__(self):\n",
        "        self.factors = None\n",
        "\n",
        "    def fit(self, X, y=None):\n",
        "        self.factors = {col:X[col].std()**(1/2) for col in X}\n",
        "        return self\n",
        "    def transform(self, X, y=None):\n",
        "        X_ = X.copy()\n",
        "        for col in X_:\n",
        "            X_[col] /= self.factors[col]\n",
        "        return X_"
      ],
      "metadata": {
        "id": "zuSAO2S8tVp6",
        "outputId": "0ebbec5b-58fc-4d16-d976-5df89e063343",
        "colab": {
          "base_uri": "https://localhost:8080/",
          "height": 245
        }
      },
      "execution_count": null,
      "outputs": [
        {
          "output_type": "error",
          "ename": "NameError",
          "evalue": "ignored",
          "traceback": [
            "\u001b[0;31m---------------------------------------------------------------------------\u001b[0m",
            "\u001b[0;31mNameError\u001b[0m                                 Traceback (most recent call last)",
            "\u001b[0;32m<ipython-input-1-ab4ac466546d>\u001b[0m in \u001b[0;36m<cell line: 2>\u001b[0;34m()\u001b[0m\n\u001b[1;32m      1\u001b[0m \u001b[0;31m#Escalacion de datos con metodo de pareto\u001b[0m\u001b[0;34m\u001b[0m\u001b[0;34m\u001b[0m\u001b[0m\n\u001b[0;32m----> 2\u001b[0;31m \u001b[0;32mclass\u001b[0m \u001b[0mParetoScaler\u001b[0m\u001b[0;34m(\u001b[0m\u001b[0mBaseEstimator\u001b[0m\u001b[0;34m,\u001b[0m \u001b[0mTransformerMixin\u001b[0m\u001b[0;34m)\u001b[0m\u001b[0;34m:\u001b[0m\u001b[0;34m\u001b[0m\u001b[0;34m\u001b[0m\u001b[0m\n\u001b[0m\u001b[1;32m      3\u001b[0m     \u001b[0;32mdef\u001b[0m \u001b[0m__init__\u001b[0m\u001b[0;34m(\u001b[0m\u001b[0mself\u001b[0m\u001b[0;34m)\u001b[0m\u001b[0;34m:\u001b[0m\u001b[0;34m\u001b[0m\u001b[0;34m\u001b[0m\u001b[0m\n\u001b[1;32m      4\u001b[0m         \u001b[0mself\u001b[0m\u001b[0;34m.\u001b[0m\u001b[0mfactors\u001b[0m \u001b[0;34m=\u001b[0m \u001b[0;32mNone\u001b[0m\u001b[0;34m\u001b[0m\u001b[0;34m\u001b[0m\u001b[0m\n\u001b[1;32m      5\u001b[0m \u001b[0;34m\u001b[0m\u001b[0m\n",
            "\u001b[0;31mNameError\u001b[0m: name 'BaseEstimator' is not defined"
          ]
        }
      ]
    },
    {
      "cell_type": "code",
      "source": [
        "#Escalacion de datos\n",
        "y = ds['y']\n",
        "#print(ds)\n",
        "datos = ds\n",
        "datos = datos.drop('y',axis=1)\n",
        "pareto = ParetoScaler()\n",
        "datos = pareto.fit_transform(datos)"
      ],
      "metadata": {
        "id": "bP7ck4M2tYqk"
      },
      "execution_count": null,
      "outputs": []
    },
    {
      "cell_type": "markdown",
      "source": [
        "##Encontrar correlacionados"
      ],
      "metadata": {
        "id": "tu2tpZViCEVV"
      }
    },
    {
      "cell_type": "code",
      "source": [
        "#Correlacion de datos, observacion de los datos y observacion de los primeros 500 datos.\n",
        "def get_redundant_pairs(datos):\n",
        "    '''Get diagonal and lower triangular pairs of correlation matrix'''\n",
        "    pairs_to_drop = set()\n",
        "    cols = datos.columns\n",
        "    for i in range(0, datos.shape[1]):\n",
        "        for j in range(0, i+1):\n",
        "            pairs_to_drop.add((cols[i], cols[j]))\n",
        "    return pairs_to_drop\n",
        "\n",
        "def get_top_abs_correlations(df, n=5):\n",
        "    au_corr = df.corr().abs().unstack()\n",
        "    labels_to_drop = get_redundant_pairs(df)\n",
        "    au_corr = au_corr.drop(labels=labels_to_drop).sort_values(ascending=False)\n",
        "    l = len(au_corr)\n",
        "    return au_corr[l-n:l]\n",
        "\n",
        "print(\"Top Absolute Correlations\")\n",
        "print(get_top_abs_correlations(datos, 500))"
      ],
      "metadata": {
        "id": "MpHtq_vNzRLB"
      },
      "execution_count": null,
      "outputs": []
    },
    {
      "cell_type": "code",
      "source": [
        "def sacarRelaciones(cor):\n",
        "  #valores = [0 for _ in range(cor.shape[0])] ##Para poder contar relaciones por indice\n",
        "  valores = [[] for _ in range(cor.shape[0])]\n",
        "  for i in range(cor.shape[1]):\n",
        "    valores[i].insert( 0, (1, i) ) #Se agrega a al mismo al inicio\n",
        "    for j in range(i, cor.shape[1]):\n",
        "      if i != j and cor.iloc[i,j] >= 0.875:\n",
        "        #valores[i] += 1\n",
        "        #valores[j] += 1\n",
        "        valores[i].append( (cor.iloc[i,j], j) )\n",
        "        valores[j].append( (cor.iloc[i,j], i) )\n",
        "  return valores\n",
        "\n",
        "from functools import cmp_to_key\n",
        "\n",
        "def comp2(item1, item2):\n",
        "  if len(item1) < len(item2):\n",
        "    return 1\n",
        "\n",
        "  elif len(item1) > len(item2):\n",
        "    return -1\n",
        "\n",
        "  elif len(item1) == 1 and len(item2) == 1:\n",
        "    return 0\n",
        "\n",
        "  else:\n",
        "    prom1 = 0\n",
        "    prom2 = 0\n",
        "    for tupla in item1:\n",
        "      prom1 += tupla[0]\n",
        "    prom1 = prom1 / (len(item1)-1)\n",
        "\n",
        "    for tupla in item2:\n",
        "      prom2 += tupla[0]\n",
        "    prom2 = prom2 / (len(item2)-1)\n",
        "\n",
        "    if prom1 < prom2:\n",
        "      return 1\n",
        "\n",
        "    elif prom1 > prom2:\n",
        "      return -1\n",
        "\n",
        "    else:\n",
        "      return 0\n",
        "\n",
        "\n",
        "def listaDrop(grafo):\n",
        "  visitado = [False for _ in range(len(grafo))] #Metabolitos visitados\n",
        "  #drop = [False for _ in range(len(grafo))]\n",
        "  drop = []\n",
        "  for relacion in grafo:\n",
        "    primero = relacion.pop(0) #Saca el primero, que es el metabolito al que se relacionan el resto\n",
        "    if not(visitado[primero[1]]) and relacion != []:\n",
        "      print(\"Dejo a: \", primero[1])\n",
        "      print(\"----Quito a : \", end=\"\")\n",
        "      visitado[primero[1]] = True\n",
        "      for peso, metabolito in relacion:\n",
        "        if not(visitado[metabolito]):\n",
        "          print(\"|\", metabolito, end=\" \")\n",
        "          visitado[metabolito] = True\n",
        "          #drop[metabolito] = True\n",
        "          drop.append(metabolito)\n",
        "      print()\n",
        "\n",
        "\n",
        "  return drop\n",
        "\n",
        "\n",
        "\n",
        "\n"
      ],
      "metadata": {
        "id": "9qR8D6Hn5mg8"
      },
      "execution_count": null,
      "outputs": []
    },
    {
      "cell_type": "code",
      "source": [
        "df = pd.DataFrame(datos)\n",
        "cor_matrix = df.corr().abs()\n",
        "cor_matrix.shape[1]\n",
        "\n",
        "grafo = sacarRelaciones(cor_matrix)\n",
        "#print(grafo)\n",
        "para_podar = listaDrop( sorted( grafo, key=cmp_to_key(comp2) ) ) #Lista de columnas para drop\n"
      ],
      "metadata": {
        "id": "8pVcVT529kP0"
      },
      "execution_count": null,
      "outputs": []
    },
    {
      "cell_type": "markdown",
      "source": [
        "Es de esperar que haya datos altamente correlacionados con un total aproximado de 14,000 correlaciones donde por la naturaleza de metabolitos hay metabolitos que son casi identicos a otros por lo que su nivel entre estos seria casi igual."
      ],
      "metadata": {
        "id": "Ri3bP3WX8HMI"
      }
    },
    {
      "cell_type": "markdown",
      "source": [
        "#Exploracion de Clusters"
      ],
      "metadata": {
        "id": "PKKw_L2CCSgg"
      }
    },
    {
      "cell_type": "code",
      "source": [
        "data_km = datos.transpose()\n",
        "datos_db = datos.transpose()\n",
        "datos_gm = datos.transpose()\n",
        "datos_h = datos.transpose()\n",
        "datos_podados = datos.transpose()\n",
        "#datos_podados.drop(index=datos_podados.index[para_podar], axis=0, inplace=True)\n",
        "#print(datos_podados)"
      ],
      "metadata": {
        "id": "bHFnDSekL_el"
      },
      "execution_count": null,
      "outputs": []
    },
    {
      "cell_type": "markdown",
      "source": [
        "##Extraccion de cluster\n"
      ],
      "metadata": {
        "id": "eN7nV4N1wz6I"
      }
    },
    {
      "cell_type": "code",
      "source": [
        "def most_frequent(List):\n",
        "      counter = 0\n",
        "      num = List[0]\n",
        "\n",
        "      for i in List:\n",
        "          curr_frequency = List.count(i)\n",
        "          if(curr_frequency> counter):\n",
        "              counter = curr_frequency\n",
        "              num = i\n",
        "\n",
        "      return num\n",
        "\n",
        "def get_cluster(dataset, labels, cluster):\n",
        "  aux = list(labels)\n",
        "  if cluster == -1:\n",
        "    cluster = most_frequent(aux)\n",
        "  mapk = []\n",
        "  i = 0\n",
        "  for i in range(len(aux)):\n",
        "    if aux[i] == cluster:\n",
        "      mapk.append(str(i))\n",
        "  return dataset.transpose()[mapk].copy()"
      ],
      "metadata": {
        "id": "0nxk3hEmw5un"
      },
      "execution_count": null,
      "outputs": []
    },
    {
      "cell_type": "markdown",
      "source": [
        "##K-Vecinos"
      ],
      "metadata": {
        "id": "rDV4z525T7kZ"
      }
    },
    {
      "cell_type": "markdown",
      "source": [
        "### Exploracion"
      ],
      "metadata": {
        "id": "VspUUWG5h8iP"
      }
    },
    {
      "cell_type": "markdown",
      "source": [],
      "metadata": {
        "id": "Nh3589Wlh67B"
      }
    },
    {
      "cell_type": "code",
      "source": [
        "wcss=[]\n",
        "for i in range(1,50):\n",
        "    kmeans=KMeans(n_clusters=i,\n",
        "    init='k-means++', max_iter=300, n_init=10)\n",
        "    kmeans.fit(datos_h)\n",
        "    wcss.append(kmeans.inertia_)\n",
        "plt.plot(range(1,50),wcss)\n",
        "plt.title(\"The Elbow Method\")\n",
        "plt.xlabel(\"Number of clusters\")\n",
        "plt.ylabel(\"WCSS\")\n",
        "plt.show()"
      ],
      "metadata": {
        "colab": {
          "base_uri": "https://localhost:8080/",
          "height": 295
        },
        "id": "Eu5CUVVUSlvd",
        "outputId": "66b8ecac-9e72-4001-f8c1-42354ce72f45"
      },
      "execution_count": null,
      "outputs": [
        {
          "output_type": "display_data",
          "data": {
            "text/plain": [
              "<Figure size 432x288 with 1 Axes>"
            ],
            "image/png": "[encoded data removed]"
          },
          "metadata": {
            "needs_background": "light"
          }
        }
      ]
    },
    {
      "cell_type": "code",
      "source": [
        "wcss=[]\n",
        "for n_clusters in range(2,51):\n",
        "    clusterer = KMeans(n_clusters=n_clusters)\n",
        "    cluster_labels = clusterer.fit_predict(data_km)\n",
        "    calinski_avg = calinski_harabasz_score(data_km, cluster_labels)\n",
        "    wcss.append(calinski_avg)\n",
        "plt.plot(range(2,51),wcss)\n",
        "plt.title(\"Calinski Harabasz Score Per Number of Clusters\")\n",
        "plt.xlabel(\"Number of clusters\")\n",
        "plt.ylabel(\"CH\")\n",
        "plt.show()"
      ],
      "metadata": {
        "id": "mJ30wwN9s7TX",
        "colab": {
          "base_uri": "https://localhost:8080/",
          "height": 295
        },
        "outputId": "10305ad0-9f94-4a60-c206-f5f80b9d9c0e"
      },
      "execution_count": null,
      "outputs": [
        {
          "output_type": "display_data",
          "data": {
            "text/plain": [
              "<Figure size 432x288 with 1 Axes>"
            ],
            "image/png": "[encoded data removed]"
          },
          "metadata": {
            "needs_background": "light"
          }
        }
      ]
    },
    {
      "cell_type": "code",
      "source": [
        "wcss=[]\n",
        "for n_clusters in range(2,51):\n",
        "    clusterer = KMeans(n_clusters=n_clusters)\n",
        "    cluster_labels = clusterer.fit_predict(data_km)\n",
        "    shilhouette_avg = silhouette_score(data_km, cluster_labels)\n",
        "    wcss.append(shilhouette_avg)\n",
        "plt.plot(range(2,51),wcss)\n",
        "plt.title(\"Shilhouette Score Per Number of Clusters\")\n",
        "plt.xlabel(\"Number of clusters\")\n",
        "plt.ylabel(\"SC\")\n",
        "plt.show()"
      ],
      "metadata": {
        "colab": {
          "base_uri": "https://localhost:8080/",
          "height": 295
        },
        "id": "obCb2xeFy0i8",
        "outputId": "e8972ed3-03fe-4235-8d65-59336ea33e55"
      },
      "execution_count": null,
      "outputs": [
        {
          "output_type": "display_data",
          "data": {
            "text/plain": [
              "<Figure size 432x288 with 1 Axes>"
            ],
            "image/png": "[encoded data removed]"
          },
          "metadata": {
            "needs_background": "light"
          }
        }
      ]
    },
    {
      "cell_type": "code",
      "source": [
        "wcss=[]\n",
        "for n_clusters in range(2,51):\n",
        "    clusterer = KMeans(n_clusters=n_clusters)\n",
        "    cluster_labels = clusterer.fit_predict(data_km)\n",
        "    calinski_avg = davies_bouldin_score(data_km, cluster_labels)\n",
        "    wcss.append(calinski_avg)\n",
        "plt.plot(range(2,51),wcss)\n",
        "plt.title(\"Davies Bouldin Score Per Number of Clusters\")\n",
        "plt.xlabel(\"Number of clusters\")\n",
        "plt.ylabel(\"DBC\")\n",
        "plt.show()"
      ],
      "metadata": {
        "colab": {
          "base_uri": "https://localhost:8080/",
          "height": 295
        },
        "id": "x-WJq8mIzlyC",
        "outputId": "c96a8d3e-319b-4aac-9b87-633e7135e7dc"
      },
      "execution_count": null,
      "outputs": [
        {
          "output_type": "display_data",
          "data": {
            "text/plain": [
              "<Figure size 432x288 with 1 Axes>"
            ],
            "image/png": "[encoded data removed]"
          },
          "metadata": {
            "needs_background": "light"
          }
        }
      ]
    },
    {
      "cell_type": "markdown",
      "source": [
        "Vamos a agrupar grupos de metabolitos basados en los pacientes o vamos a agrupar pacientes basados en metabolitos?"
      ],
      "metadata": {
        "id": "BHnBLb9RQ_vA"
      }
    },
    {
      "cell_type": "code",
      "source": [
        "cluster_map_km[cluster_map_km.cluster == 0]"
      ],
      "metadata": {
        "colab": {
          "base_uri": "https://localhost:8080/",
          "height": 166
        },
        "id": "HRestOLS_Jgv",
        "outputId": "6db7f5da-5eb8-4b98-890a-215248095009"
      },
      "execution_count": null,
      "outputs": [
        {
          "output_type": "error",
          "ename": "NameError",
          "evalue": "ignored",
          "traceback": [
            "\u001b[0;31m---------------------------------------------------------------------------\u001b[0m",
            "\u001b[0;31mNameError\u001b[0m                                 Traceback (most recent call last)",
            "\u001b[0;32m<ipython-input-13-04ec0086d410>\u001b[0m in \u001b[0;36m<module>\u001b[0;34m\u001b[0m\n\u001b[0;32m----> 1\u001b[0;31m \u001b[0mcluster_map_km\u001b[0m\u001b[0;34m[\u001b[0m\u001b[0mcluster_map_km\u001b[0m\u001b[0;34m.\u001b[0m\u001b[0mcluster\u001b[0m \u001b[0;34m==\u001b[0m \u001b[0;36m0\u001b[0m\u001b[0;34m]\u001b[0m\u001b[0;34m\u001b[0m\u001b[0;34m\u001b[0m\u001b[0m\n\u001b[0m",
            "\u001b[0;31mNameError\u001b[0m: name 'cluster_map_km' is not defined"
          ]
        }
      ]
    },
    {
      "cell_type": "code",
      "source": [
        "from sklearn.metrics import silhouette_score, silhouette_samples\n",
        "from sklearn.metrics import davies_bouldin_score\n",
        "from sklearn.metrics import calinski_harabasz_score\n",
        "import matplotlib.cm as cm\n",
        "#score1 = davies_bouldin_score(datos_km.transpose(),cluster_labels)\n",
        "#score2 = silhouette_score(datos_km.transpose(),cluster_labels)\n",
        "#print(score1)\n",
        "#score2"
      ],
      "metadata": {
        "id": "iumO51-z1Kqf"
      },
      "execution_count": null,
      "outputs": []
    },
    {
      "cell_type": "code",
      "source": [
        "range_n_clusters = [5, 10, 15, 20, 25, 30, 35, 40, 45, 50]\n",
        "for n_clusters in range_n_clusters:\n",
        "  fig, (ax1) = plt.subplots(1)\n",
        "  fig.set_size_inches(18, 7)\n",
        "  ax1.set_xlim([-0.1, 1])\n",
        "  # The (n_clusters+1)*10 is for inserting blank space between silhouette\n",
        "  # plots of individual clusters, to demarcate them clearly.\n",
        "  ax1.set_ylim([0, len(data_km) + (n_clusters + 1) * 10])\n",
        "  # Initialize the clusterer with n_clusters value and a random generator\n",
        "  # seed of 10 for reproducibility.\n",
        "  clusterer = KMeans(n_clusters=n_clusters)\n",
        "  cluster_labels = clusterer.fit_predict(data_km)\n",
        "  # The silhouette_score gives the average value for all the samples.\n",
        "  # This gives a perspective into the density and separation of the formed\n",
        "  # clusters\n",
        "  silhouette_avg = silhouette_score(data_km, cluster_labels)\n",
        "  bouldin_avg = davies_bouldin_score(data_km, cluster_labels)\n",
        "  calinski_avg = calinski_harabasz_score(data_km, cluster_labels)\n",
        "  print(\n",
        "      \"For n_clusters =\",\n",
        "      n_clusters,\n",
        "      \"The average silhouette_score is :\",\n",
        "      silhouette_avg,\n",
        "  )\n",
        "  print(\n",
        "      \"For n_clusters =\",\n",
        "      n_clusters,\n",
        "      \"The average davies_bouldin_score is :\",\n",
        "      bouldin_avg,\n",
        "  )\n",
        "  print(\n",
        "      \"For n_clusters =\",\n",
        "      n_clusters,\n",
        "      \"The average calinski_harabasz_score is :\",\n",
        "      calinski_avg,\n",
        "  )\n",
        "  print(\"\")\n",
        "  # Compute the silhouette scores for each sample\n",
        "  sample_silhouette_values = silhouette_samples(data_km, cluster_labels)\n",
        "  y_lower = 10\n",
        "  for i in range(n_clusters):\n",
        "    # Aggregate the silhouette scores for samples belonging to\n",
        "    # cluster i, and sort them\n",
        "    ith_cluster_silhouette_values = sample_silhouette_values[cluster_labels == i]\n",
        "    ith_cluster_silhouette_values.sort()\n",
        "    size_cluster_i = ith_cluster_silhouette_values.shape[0]\n",
        "    y_upper = y_lower + size_cluster_i\n",
        "    color = cm.nipy_spectral(float(i) / n_clusters)\n",
        "    ax1.fill_betweenx(\n",
        "        np.arange(y_lower, y_upper),\n",
        "        0,\n",
        "        ith_cluster_silhouette_values,\n",
        "        facecolor=color,\n",
        "        edgecolor=color,\n",
        "        alpha=0.7,\n",
        "    )\n",
        "\n",
        "  # Label the silhouette plots with their cluster numbers at the middle\n",
        "  ax1.text(-0.05, y_lower + 0.5 * size_cluster_i, str(i))\n",
        "\n",
        "  # Compute the new y_lower for next plot\n",
        "  y_lower = y_upper + 10  # 10 for the 0 samples\n",
        "\n",
        "  ax1.set_title(\"The silhouette plot for the various clusters.\")\n",
        "  ax1.set_xlabel(\"The silhouette coefficient values\")\n",
        "  ax1.set_ylabel(\"Cluster label\")\n",
        "\n",
        "  # The vertical line for average silhouette score of all the values\n",
        "  ax1.axvline(x=silhouette_avg, color=\"red\", linestyle=\"--\")\n",
        "  ax1.set_yticks([])  # Clear the yaxis labels / ticks\n",
        "  ax1.set_xticks([-0.1, 0, 0.2, 0.4, 0.6, 0.8, 1])\n",
        "\n",
        "\n",
        "  plt.suptitle(\n",
        "    \"Silhouette analysis for KMeans clustering on sample data with n_clusters = %d\"\n",
        "    % n_clusters,\n",
        "    fontsize=14,\n",
        "    fontweight=\"bold\",\n",
        "  )\n",
        "\n",
        "plt.show()"
      ],
      "metadata": {
        "id": "mVzOjY_RJ5Xk",
        "colab": {
          "base_uri": "https://localhost:8080/",
          "height": 1000
        },
        "outputId": "a1926a18-fc87-4606-e974-fb777d582b98"
      },
      "execution_count": null,
      "outputs": [
        {
          "output_type": "stream",
          "name": "stdout",
          "text": [
            "For n_clusters = 5 The average silhouette_score is : 0.7403449416450807\n",
            "For n_clusters = 5 The average davies_bouldin_score is : 0.7718595044795175\n",
            "For n_clusters = 5 The average calinski_harabasz_score is : 1084.4826726983695\n",
            "\n",
            "For n_clusters = 10 The average silhouette_score is : 0.42806061502458054\n",
            "For n_clusters = 10 The average davies_bouldin_score is : 0.7588328645130963\n",
            "For n_clusters = 10 The average calinski_harabasz_score is : 926.2939556308213\n",
            "\n",
            "For n_clusters = 15 The average silhouette_score is : 0.37882569563863827\n",
            "For n_clusters = 15 The average davies_bouldin_score is : 0.6125808425903055\n",
            "For n_clusters = 15 The average calinski_harabasz_score is : 948.4653069407972\n",
            "\n",
            "For n_clusters = 20 The average silhouette_score is : 0.29832199442788\n",
            "For n_clusters = 20 The average davies_bouldin_score is : 0.9149305341943036\n",
            "For n_clusters = 20 The average calinski_harabasz_score is : 848.3589162062443\n",
            "\n",
            "For n_clusters = 25 The average silhouette_score is : 0.21213824731096584\n",
            "For n_clusters = 25 The average davies_bouldin_score is : 0.8161609981541968\n",
            "For n_clusters = 25 The average calinski_harabasz_score is : 808.8791566672303\n",
            "\n",
            "For n_clusters = 30 The average silhouette_score is : 0.22856321078488243\n",
            "For n_clusters = 30 The average davies_bouldin_score is : 0.9247674634914922\n",
            "For n_clusters = 30 The average calinski_harabasz_score is : 754.0552601617889\n",
            "\n",
            "For n_clusters = 35 The average silhouette_score is : 0.17586268361479354\n",
            "For n_clusters = 35 The average davies_bouldin_score is : 0.8830079076329153\n",
            "For n_clusters = 35 The average calinski_harabasz_score is : 741.03101237418\n",
            "\n",
            "For n_clusters = 40 The average silhouette_score is : 0.1732589681483113\n",
            "For n_clusters = 40 The average davies_bouldin_score is : 0.8063019250277893\n",
            "For n_clusters = 40 The average calinski_harabasz_score is : 718.8356513731076\n",
            "\n",
            "For n_clusters = 45 The average silhouette_score is : 0.1343972907724184\n",
            "For n_clusters = 45 The average davies_bouldin_score is : 0.796524786080058\n",
            "For n_clusters = 45 The average calinski_harabasz_score is : 712.2116816551508\n",
            "\n",
            "For n_clusters = 50 The average silhouette_score is : 0.12704665092765968\n",
            "For n_clusters = 50 The average davies_bouldin_score is : 0.7593813450299571\n",
            "For n_clusters = 50 The average calinski_harabasz_score is : 707.3020045142206\n",
            "\n"
          ]
        },
        {
          "output_type": "display_data",
          "data": {
            "text/plain": [
              "<Figure size 1296x504 with 1 Axes>"
            ],
            "image/png": "[encoded data removed]"
          },
          "metadata": {
            "needs_background": "light"
          }
        },
        {
          "output_type": "display_data",
          "data": {
            "text/plain": [
              "<Figure size 1296x504 with 1 Axes>"
            ],
            "image/png": "[encoded data removed]"
          },
          "metadata": {
            "needs_background": "light"
          }
        },
        {
          "output_type": "display_data",
          "data": {
            "text/plain": [
              "<Figure size 1296x504 with 1 Axes>"
            ],
            "image/png": "[encoded data removed]"
          },
          "metadata": {
            "needs_background": "light"
          }
        },
        {
          "output_type": "display_data",
          "data": {
            "text/plain": [
              "<Figure size 1296x504 with 1 Axes>"
            ],
            "image/png": "[encoded data removed]"
          },
          "metadata": {
            "needs_background": "light"
          }
        },
        {
          "output_type": "display_data",
          "data": {
            "text/plain": [
              "<Figure size 1296x504 with 1 Axes>"
            ],
            "image/png": "[encoded data removed]"
          },
          "metadata": {
            "needs_background": "light"
          }
        },
        {
          "output_type": "display_data",
          "data": {
            "text/plain": [
              "<Figure size 1296x504 with 1 Axes>"
            ],
            "image/png": "[encoded data removed]"
          },
          "metadata": {
            "needs_background": "light"
          }
        },
        {
          "output_type": "display_data",
          "data": {
            "text/plain": [
              "<Figure size 1296x504 with 1 Axes>"
            ],
            "image/png": "[encoded data removed]"
          },
          "metadata": {
            "needs_background": "light"
          }
        },
        {
          "output_type": "display_data",
          "data": {
            "text/plain": [
              "<Figure size 1296x504 with 1 Axes>"
            ],
            "image/png": "[encoded data removed]"
          },
          "metadata": {
            "needs_background": "light"
          }
        },
        {
          "output_type": "display_data",
          "data": {
            "text/plain": [
              "<Figure size 1296x504 with 1 Axes>"
            ],
            "image/png": "[encoded data removed]"
          },
          "metadata": {
            "needs_background": "light"
          }
        },
        {
          "output_type": "display_data",
          "data": {
            "text/plain": [
              "<Figure size 1296x504 with 1 Axes>"
            ],
            "image/png": "[encoded data removed]"
          },
          "metadata": {
            "needs_background": "light"
          }
        }
      ]
    },
    {
      "cell_type": "markdown",
      "source": [
        "###Chosen cluster"
      ],
      "metadata": {
        "id": "oKVSwxZxZt95"
      }
    },
    {
      "cell_type": "code",
      "source": [
        "def tablaKMeans(x, data_km):\n",
        "  def sacarTablaNClusters(x, datos):\n",
        "    clusterer = KMeans(n_clusters=x)\n",
        "    cluster_labels = clusterer.fit_predict(data_km)\n",
        "    centros = clusterer.cluster_centers_\n",
        "    #clusterer.labels_\n",
        "    aux=datos.transpose()\n",
        "    m = len(aux)\n",
        "    n = len(aux.columns)\n",
        "    mas_cercanos = []\n",
        "    for c in range(x):\n",
        "      i = 0\n",
        "      val = -1\n",
        "      minimo1 = math.inf\n",
        "      while i < n:\n",
        "        temp = aux[str(i)]\n",
        "        euc = euclidean_distances([temp.to_numpy()], [centros[c]])\n",
        "        if minimo1 > euc[0]:\n",
        "          minimo1 = euc[0]\n",
        "          val = i\n",
        "        i += 1\n",
        "      mas_cercanos.append(val)\n",
        "      #print(minimo1)\n",
        "    print(mas_cercanos)\n",
        "    return list(map(lambda x: str(x), mas_cercanos))\n",
        "\n",
        "  cols = sacarTablaNClusters(x, data_km)\n",
        "  tablaKM = datos[cols].copy()\n",
        "  return tablaKM\n",
        "\n",
        "tablaKMeans(2, data_km)"
      ],
      "metadata": {
        "id": "SL_3-rityYqm",
        "colab": {
          "base_uri": "https://localhost:8080/",
          "height": 1000
        },
        "outputId": "825bc70f-6fb9-486b-e7aa-1415c58721c2"
      },
      "execution_count": null,
      "outputs": [
        {
          "output_type": "stream",
          "name": "stdout",
          "text": [
            "[175, 77]\n"
          ]
        },
        {
          "output_type": "execute_result",
          "data": {
            "text/plain": [
              "           175            77\n",
              "0   551.562484  11356.782611\n",
              "1   334.903424   7368.989366\n",
              "2   311.536862   9095.142288\n",
              "3   389.768645  10545.007110\n",
              "4   281.756132   7363.740788\n",
              "5   337.775300   7778.801909\n",
              "6   375.167178   8154.989793\n",
              "7   343.544121   8320.305458\n",
              "8   335.056244   8078.671507\n",
              "9   380.551126   7251.548971\n",
              "10  389.170628  11162.681251\n",
              "11  536.559829   9246.733365\n",
              "12  400.457493   8237.856797\n",
              "13  266.435788   7667.046625\n",
              "14  244.376117   6401.429892\n",
              "15  317.191624   8666.471532\n",
              "16  329.954546   7958.614098\n",
              "17  374.968764   8703.289428\n",
              "18  322.480147   7835.308158\n",
              "19  301.291227   7112.335779\n",
              "20  370.456940  10009.719787\n",
              "21  345.498128   8176.705112\n",
              "22  332.753169   7951.314543\n",
              "23  377.975041   9921.338647\n",
              "24  291.507440   9970.622462\n",
              "25  350.180126   9091.863200\n",
              "26  389.161113   8734.286888\n",
              "27  391.046959   9655.539700\n",
              "28  360.597337   9257.067549\n",
              "29  413.699554  11803.312648\n",
              "30  386.205004   7602.345929\n",
              "31  352.318030   9726.186699\n",
              "32  378.681017  11452.234853\n",
              "33  288.894483   7687.833585\n",
              "34  460.573879  10370.529351"
            ],
            "text/html": [
              "\n",
              "  <div id=\"df-cc615883-5951-44aa-81f9-5e8497f4e45d\">\n",
              "    <div class=\"colab-df-container\">\n",
              "      <div>\n",
              "<style scoped>\n",
              "    .dataframe tbody tr th:only-of-type {\n",
              "        vertical-align: middle;\n",
              "    }\n",
              "\n",
              "    .dataframe tbody tr th {\n",
              "        vertical-align: top;\n",
              "    }\n",
              "\n",
              "    .dataframe thead th {\n",
              "        text-align: right;\n",
              "    }\n",
              "</style>\n",
              "<table border=\"1\" class=\"dataframe\">\n",
              "  <thead>\n",
              "    <tr style=\"text-align: right;\">\n",
              "      <th></th>\n",
              "      <th>175</th>\n",
              "      <th>77</th>\n",
              "    </tr>\n",
              "  </thead>\n",
              "  <tbody>\n",
              "    <tr>\n",
              "      <th>0</th>\n",
              "      <td>551.562484</td>\n",
              "      <td>11356.782611</td>\n",
              "    </tr>\n",
              "    <tr>\n",
              "      <th>1</th>\n",
              "      <td>334.903424</td>\n",
              "      <td>7368.989366</td>\n",
              "    </tr>\n",
              "    <tr>\n",
              "      <th>2</th>\n",
              "      <td>311.536862</td>\n",
              "      <td>9095.142288</td>\n",
              "    </tr>\n",
              "    <tr>\n",
              "      <th>3</th>\n",
              "      <td>389.768645</td>\n",
              "      <td>10545.007110</td>\n",
              "    </tr>\n",
              "    <tr>\n",
              "      <th>4</th>\n",
              "      <td>281.756132</td>\n",
              "      <td>7363.740788</td>\n",
              "    </tr>\n",
              "    <tr>\n",
              "      <th>5</th>\n",
              "      <td>337.775300</td>\n",
              "      <td>7778.801909</td>\n",
              "    </tr>\n",
              "    <tr>\n",
              "      <th>6</th>\n",
              "      <td>375.167178</td>\n",
              "      <td>8154.989793</td>\n",
              "    </tr>\n",
              "    <tr>\n",
              "      <th>7</th>\n",
              "      <td>343.544121</td>\n",
              "      <td>8320.305458</td>\n",
              "    </tr>\n",
              "    <tr>\n",
              "      <th>8</th>\n",
              "      <td>335.056244</td>\n",
              "      <td>8078.671507</td>\n",
              "    </tr>\n",
              "    <tr>\n",
              "      <th>9</th>\n",
              "      <td>380.551126</td>\n",
              "      <td>7251.548971</td>\n",
              "    </tr>\n",
              "    <tr>\n",
              "      <th>10</th>\n",
              "      <td>389.170628</td>\n",
              "      <td>11162.681251</td>\n",
              "    </tr>\n",
              "    <tr>\n",
              "      <th>11</th>\n",
              "      <td>536.559829</td>\n",
              "      <td>9246.733365</td>\n",
              "    </tr>\n",
              "    <tr>\n",
              "      <th>12</th>\n",
              "      <td>400.457493</td>\n",
              "      <td>8237.856797</td>\n",
              "    </tr>\n",
              "    <tr>\n",
              "      <th>13</th>\n",
              "      <td>266.435788</td>\n",
              "      <td>7667.046625</td>\n",
              "    </tr>\n",
              "    <tr>\n",
              "      <th>14</th>\n",
              "      <td>244.376117</td>\n",
              "      <td>6401.429892</td>\n",
              "    </tr>\n",
              "    <tr>\n",
              "      <th>15</th>\n",
              "      <td>317.191624</td>\n",
              "      <td>8666.471532</td>\n",
              "    </tr>\n",
              "    <tr>\n",
              "      <th>16</th>\n",
              "      <td>329.954546</td>\n",
              "      <td>7958.614098</td>\n",
              "    </tr>\n",
              "    <tr>\n",
              "      <th>17</th>\n",
              "      <td>374.968764</td>\n",
              "      <td>8703.289428</td>\n",
              "    </tr>\n",
              "    <tr>\n",
              "      <th>18</th>\n",
              "      <td>322.480147</td>\n",
              "      <td>7835.308158</td>\n",
              "    </tr>\n",
              "    <tr>\n",
              "      <th>19</th>\n",
              "      <td>301.291227</td>\n",
              "      <td>7112.335779</td>\n",
              "    </tr>\n",
              "    <tr>\n",
              "      <th>20</th>\n",
              "      <td>370.456940</td>\n",
              "      <td>10009.719787</td>\n",
              "    </tr>\n",
              "    <tr>\n",
              "      <th>21</th>\n",
              "      <td>345.498128</td>\n",
              "      <td>8176.705112</td>\n",
              "    </tr>\n",
              "    <tr>\n",
              "      <th>22</th>\n",
              "      <td>332.753169</td>\n",
              "      <td>7951.314543</td>\n",
              "    </tr>\n",
              "    <tr>\n",
              "      <th>23</th>\n",
              "      <td>377.975041</td>\n",
              "      <td>9921.338647</td>\n",
              "    </tr>\n",
              "    <tr>\n",
              "      <th>24</th>\n",
              "      <td>291.507440</td>\n",
              "      <td>9970.622462</td>\n",
              "    </tr>\n",
              "    <tr>\n",
              "      <th>25</th>\n",
              "      <td>350.180126</td>\n",
              "      <td>9091.863200</td>\n",
              "    </tr>\n",
              "    <tr>\n",
              "      <th>26</th>\n",
              "      <td>389.161113</td>\n",
              "      <td>8734.286888</td>\n",
              "    </tr>\n",
              "    <tr>\n",
              "      <th>27</th>\n",
              "      <td>391.046959</td>\n",
              "      <td>9655.539700</td>\n",
              "    </tr>\n",
              "    <tr>\n",
              "      <th>28</th>\n",
              "      <td>360.597337</td>\n",
              "      <td>9257.067549</td>\n",
              "    </tr>\n",
              "    <tr>\n",
              "      <th>29</th>\n",
              "      <td>413.699554</td>\n",
              "      <td>11803.312648</td>\n",
              "    </tr>\n",
              "    <tr>\n",
              "      <th>30</th>\n",
              "      <td>386.205004</td>\n",
              "      <td>7602.345929</td>\n",
              "    </tr>\n",
              "    <tr>\n",
              "      <th>31</th>\n",
              "      <td>352.318030</td>\n",
              "      <td>9726.186699</td>\n",
              "    </tr>\n",
              "    <tr>\n",
              "      <th>32</th>\n",
              "      <td>378.681017</td>\n",
              "      <td>11452.234853</td>\n",
              "    </tr>\n",
              "    <tr>\n",
              "      <th>33</th>\n",
              "      <td>288.894483</td>\n",
              "      <td>7687.833585</td>\n",
              "    </tr>\n",
              "    <tr>\n",
              "      <th>34</th>\n",
              "      <td>460.573879</td>\n",
              "      <td>10370.529351</td>\n",
              "    </tr>\n",
              "  </tbody>\n",
              "</table>\n",
              "</div>\n",
              "      <button class=\"colab-df-convert\" onclick=\"convertToInteractive('df-cc615883-5951-44aa-81f9-5e8497f4e45d')\"\n",
              "              title=\"Convert this dataframe to an interactive table.\"\n",
              "              style=\"display:none;\">\n",
              "        \n",
              "  <svg xmlns=\"http://www.w3.org/2000/svg\" height=\"24px\"viewBox=\"0 0 24 24\"\n",
              "       width=\"24px\">\n",
              "    <path d=\"M0 0h24v24H0V0z\" fill=\"none\"/>\n",
              "    <path d=\"M18.56 5.44l.94 2.06.94-2.06 2.06-.94-2.06-.94-.94-2.06-.94 2.06-2.06.94zm-11 1L8.5 8.5l.94-2.06 2.06-.94-2.06-.94L8.5 2.5l-.94 2.06-2.06.94zm10 10l.94 2.06.94-2.06 2.06-.94-2.06-.94-.94-2.06-.94 2.06-2.06.94z\"/><path d=\"M17.41 7.96l-1.37-1.37c-.4-.4-.92-.59-1.43-.59-.52 0-1.04.2-1.43.59L10.3 9.45l-7.72 7.72c-.78.78-.78 2.05 0 2.83L4 21.41c.39.39.9.59 1.41.59.51 0 1.02-.2 1.41-.59l7.78-7.78 2.81-2.81c.8-.78.8-2.07 0-2.86zM5.41 20L4 18.59l7.72-7.72 1.47 1.35L5.41 20z\"/>\n",
              "  </svg>\n",
              "      </button>\n",
              "      \n",
              "  <style>\n",
              "    .colab-df-container {\n",
              "      display:flex;\n",
              "      flex-wrap:wrap;\n",
              "      gap: 12px;\n",
              "    }\n",
              "\n",
              "    .colab-df-convert {\n",
              "      background-color: #E8F0FE;\n",
              "      border: none;\n",
              "      border-radius: 50%;\n",
              "      cursor: pointer;\n",
              "      display: none;\n",
              "      fill: #1967D2;\n",
              "      height: 32px;\n",
              "      padding: 0 0 0 0;\n",
              "      width: 32px;\n",
              "    }\n",
              "\n",
              "    .colab-df-convert:hover {\n",
              "      background-color: #E2EBFA;\n",
              "      box-shadow: 0px 1px 2px rgba(60, 64, 67, 0.3), 0px 1px 3px 1px rgba(60, 64, 67, 0.15);\n",
              "      fill: #174EA6;\n",
              "    }\n",
              "\n",
              "    [theme=dark] .colab-df-convert {\n",
              "      background-color: #3B4455;\n",
              "      fill: #D2E3FC;\n",
              "    }\n",
              "\n",
              "    [theme=dark] .colab-df-convert:hover {\n",
              "      background-color: #434B5C;\n",
              "      box-shadow: 0px 1px 3px 1px rgba(0, 0, 0, 0.15);\n",
              "      filter: drop-shadow(0px 1px 2px rgba(0, 0, 0, 0.3));\n",
              "      fill: #FFFFFF;\n",
              "    }\n",
              "  </style>\n",
              "\n",
              "      <script>\n",
              "        const buttonEl =\n",
              "          document.querySelector('#df-cc615883-5951-44aa-81f9-5e8497f4e45d button.colab-df-convert');\n",
              "        buttonEl.style.display =\n",
              "          google.colab.kernel.accessAllowed ? 'block' : 'none';\n",
              "\n",
              "        async function convertToInteractive(key) {\n",
              "          const element = document.querySelector('#df-cc615883-5951-44aa-81f9-5e8497f4e45d');\n",
              "          const dataTable =\n",
              "            await google.colab.kernel.invokeFunction('convertToInteractive',\n",
              "                                                     [key], {});\n",
              "          if (!dataTable) return;\n",
              "\n",
              "          const docLinkHtml = 'Like what you see? Visit the ' +\n",
              "            '<a target=\"_blank\" href=https://colab.research.google.com/notebooks/data_table.ipynb>data table notebook</a>'\n",
              "            + ' to learn more about interactive tables.';\n",
              "          element.innerHTML = '';\n",
              "          dataTable['output_type'] = 'display_data';\n",
              "          await google.colab.output.renderOutput(dataTable, element);\n",
              "          const docLink = document.createElement('div');\n",
              "          docLink.innerHTML = docLinkHtml;\n",
              "          element.appendChild(docLink);\n",
              "        }\n",
              "      </script>\n",
              "    </div>\n",
              "  </div>\n",
              "  "
            ]
          },
          "metadata": {},
          "execution_count": 12
        }
      ]
    },
    {
      "cell_type": "code",
      "source": [
        "\n",
        "def sacarRepresentatesK(x, datos):\n",
        "  clusterer = KMeans(n_clusters=x)\n",
        "  cluster_labels = clusterer.fit_predict(datos)\n",
        "  centros = clusterer.cluster_centers_\n",
        "  #clusterer.labels_\n",
        "  aux=datos.transpose()\n",
        "  m = len(aux)\n",
        "  n = len(aux.columns)\n",
        "  mas_cercanos = []\n",
        "  pos = []\n",
        "  for i in range(5):\n",
        "    for c in range(x):\n",
        "      i = 0\n",
        "      val = -1\n",
        "      minimo1 = math.inf\n",
        "      while i < n:\n",
        "        temp = aux[str(i)]\n",
        "        euc = euclidean_distances([temp.to_numpy()], [centros[c]])\n",
        "        if (minimo1 > euc[0]) and (not( i in mas_cercanos)):\n",
        "          minimo1 = euc[0]\n",
        "          val = i\n",
        "        i += 1\n",
        "\n",
        "      mas_cercanos.append(val)\n",
        "      pos.append(c)\n",
        "  print(mas_cercanos)\n",
        "  print(pos)\n",
        "\n",
        "\n",
        "sacarRepresentatesK(5, data_km)\n"
      ],
      "metadata": {
        "colab": {
          "base_uri": "https://localhost:8080/"
        },
        "id": "a8NlpX1Y2fBH",
        "outputId": "f192b62f-b0f0-4485-8508-5222e3479462"
      },
      "execution_count": null,
      "outputs": [
        {
          "output_type": "stream",
          "name": "stdout",
          "text": [
            "[94, 77, 527, 468, 252, 127, 352, 508, 85, 386, 331, 365, 392, 376, 229, 492, 80, 82, 137, 12, 453, 251, 391, 384, 316]\n",
            "[0, 1, 2, 3, 4, 0, 1, 2, 3, 4, 0, 1, 2, 3, 4, 0, 1, 2, 3, 4, 0, 1, 2, 3, 4]\n"
          ]
        }
      ]
    },
    {
      "cell_type": "code",
      "source": [
        "cols = list(map(lambda x: str(x), [352, 398, 452]))\n",
        "tablaKM_Alt3 = datos[cols].copy()\n",
        "\n",
        "cols = list(map(lambda x: str(x), [77, 127, 316, 392, 376])) #1 0 4 2\n",
        "tablaKM_Alt5 = datos[cols].copy()"
      ],
      "metadata": {
        "id": "6pOnDlwkl3Ue"
      },
      "execution_count": null,
      "outputs": []
    },
    {
      "cell_type": "markdown",
      "source": [
        "##DBSCAN\n"
      ],
      "metadata": {
        "id": "zGRQ2J2JZrTy"
      }
    },
    {
      "cell_type": "markdown",
      "source": [
        "\n",
        "\n",
        "###Encontrar Epsilon con Nearest Neighbors"
      ],
      "metadata": {
        "id": "jG-uW7SzC5AN"
      }
    },
    {
      "cell_type": "code",
      "source": [
        "from sklearn.neighbors import NearestNeighbors\n",
        "def listar_vecinos(num_vecinos):\n",
        "  #num_vecinos = 20 #Valor por ahora\n",
        "  vecinos = NearestNeighbors(n_neighbors=num_vecinos)\n",
        "  cercania_vecino = vecinos.fit(datos_db)\n",
        "  distancias, indices = cercania_vecino.kneighbors(datos_db)\n",
        "  return distancias"
      ],
      "metadata": {
        "id": "LOql-Frke8Nj"
      },
      "execution_count": null,
      "outputs": []
    },
    {
      "cell_type": "code",
      "source": [
        "#Encuentra el vecino mas lejano da cada individuo\n",
        "def vecinoMasLejano(list_vecinos):\n",
        "  lejanos = []\n",
        "  for vecinos in list_vecinos:\n",
        "    mas_lejano = max(vecinos)\n",
        "    lejanos.append(mas_lejano)\n",
        "\n",
        "  return lejanos\n",
        "\n",
        "def encontrar_eps(cant):\n",
        "  lejanos = vecinoMasLejano(listar_vecinos(cant))\n",
        "  lejanos.sort()\n",
        "  plt.plot(lejanos)\n",
        "  return lejanos\n",
        "  #plt.plot([0,536] , [7000,7000], 'r')\n",
        "  #plt.plot([0,536] , [6000,6000], 'r')\n",
        "\n",
        "#encontrar_eps(20)"
      ],
      "metadata": {
        "id": "OkjsJyu8voOP"
      },
      "execution_count": null,
      "outputs": []
    },
    {
      "cell_type": "code",
      "source": [
        "!pip install --upgrade kneed\n",
        "from kneed import KneeLocator\n",
        "def elbow(eps):\n",
        "  y = encontrar_eps(eps)\n",
        "  x = [i for i in range(536)]\n",
        "  kn = KneeLocator(x, y, curve='convex', direction='increasing')\n",
        "  codo = kn.elbow_y\n",
        "\n",
        "  return codo\n",
        "\n",
        "\n",
        "# for i in range(2,20):\n",
        "#   print(elbow(i))\n"
      ],
      "metadata": {
        "id": "NoXAZuL1H_SI",
        "colab": {
          "base_uri": "https://localhost:8080/"
        },
        "outputId": "53593355-7cf0-4685-bc7a-e79f653f163a"
      },
      "execution_count": null,
      "outputs": [
        {
          "output_type": "stream",
          "name": "stdout",
          "text": [
            "Looking in indexes: https://pypi.org/simple, https://us-python.pkg.dev/colab-wheels/public/simple/\n",
            "Collecting kneed\n",
            "  Downloading kneed-0.8.1-py2.py3-none-any.whl (10 kB)\n",
            "Requirement already satisfied: numpy>=1.14.2 in /usr/local/lib/python3.8/dist-packages (from kneed) (1.21.6)\n",
            "Requirement already satisfied: scipy>=1.0.0 in /usr/local/lib/python3.8/dist-packages (from kneed) (1.7.3)\n",
            "Installing collected packages: kneed\n",
            "Successfully installed kneed-0.8.1\n"
          ]
        }
      ]
    },
    {
      "cell_type": "code",
      "source": [
        "for i in range(2, 4):\n",
        "  print(elbow(i))\n",
        "  cluster = [0,0,0,0,0]\n",
        "  clustering = DBSCAN(eps=elbow(i), min_samples=i).fit(datos_db)\n",
        "  print(\"Min samples = \", i)\n",
        "  for c in range(len(clustering.labels_)):\n",
        "    grupo = clustering.labels_[c]\n",
        "    cluster[grupo+1] += 1\n",
        "    if grupo in range(1,3):\n",
        "      print(\"Cluster: \", grupo + 1, \" | Metabolito: \", c)\n",
        "\n",
        "  print(cluster)\n",
        "\n",
        "\n",
        "  #encontrar_eps(i)\n"
      ],
      "metadata": {
        "id": "2bhn3qSBFjA-",
        "colab": {
          "base_uri": "https://localhost:8080/",
          "height": 456
        },
        "outputId": "9fb35439-8c71-4e83-f47c-d71baf8fdac6"
      },
      "execution_count": null,
      "outputs": [
        {
          "output_type": "stream",
          "name": "stdout",
          "text": [
            "15092.699231051778\n",
            "Min samples =  2\n",
            "Cluster:  2  | Metabolito:  77\n",
            "Cluster:  2  | Metabolito:  352\n",
            "[2, 532, 2, 0, 0]\n",
            "3720.298069844392\n",
            "Min samples =  3\n",
            "Cluster:  2  | Metabolito:  379\n",
            "Cluster:  2  | Metabolito:  393\n",
            "Cluster:  2  | Metabolito:  398\n",
            "[26, 507, 3, 0, 0]\n"
          ]
        },
        {
          "output_type": "display_data",
          "data": {
            "text/plain": [
              "<Figure size 432x288 with 1 Axes>"
            ],
            "image/png": "[encoded data removed]"
          },
          "metadata": {
            "needs_background": "light"
          }
        }
      ]
    },
    {
      "cell_type": "markdown",
      "source": [
        "### Con los datos podados"
      ],
      "metadata": {
        "id": "lNSkUqumfMFW"
      }
    },
    {
      "cell_type": "code",
      "source": [],
      "metadata": {
        "id": "_9zqDvs5fLOO"
      },
      "execution_count": null,
      "outputs": []
    },
    {
      "cell_type": "markdown",
      "source": [
        "### Pruebas con diferentes matricas de comparacion de parejas\n"
      ],
      "metadata": {
        "id": "T69cXAgPaihb"
      }
    },
    {
      "cell_type": "markdown",
      "source": [
        "### P = 1 y 3"
      ],
      "metadata": {
        "id": "TgWPbeznyPbR"
      }
    },
    {
      "cell_type": "code",
      "source": [
        "from sklearn.neighbors import NearestNeighbors\n",
        "def listar_vecinos(num_vecinos):\n",
        "  #num_vecinos = 20 #Valor por ahora\n",
        "  vecinos = NearestNeighbors(n_neighbors=num_vecinos, p=3)\n",
        "  cercania_vecino = vecinos.fit(datos_db)\n",
        "  distancias, indices = cercania_vecino.kneighbors(datos_db)\n",
        "  return distancias\n",
        "\n",
        "\n",
        "#Encuentra el vecino mas lejano da cada individuo\n",
        "def vecinoMasLejano(list_vecinos):\n",
        "  lejanos = []\n",
        "  for vecinos in list_vecinos:\n",
        "    mas_lejano = max(vecinos)\n",
        "    lejanos.append(mas_lejano)\n",
        "\n",
        "  return lejanos\n",
        "\n",
        "def encontrar_eps(cant):\n",
        "  lejanos = vecinoMasLejano(listar_vecinos(cant))\n",
        "  lejanos.sort()\n",
        "  plt.plot(lejanos)\n",
        "  return lejanos\n",
        "\n",
        "!pip install --upgrade kneed\n",
        "from kneed import KneeLocator\n",
        "def elbow(eps):\n",
        "  y = encontrar_eps(eps)\n",
        "  x = [i for i in range(536)]\n",
        "  kn = KneeLocator(x, y, curve='convex', direction='increasing')\n",
        "  codo = kn.elbow_y\n",
        "\n",
        "  return codo"
      ],
      "metadata": {
        "id": "FF6oZZgh9sHc",
        "colab": {
          "base_uri": "https://localhost:8080/"
        },
        "outputId": "0c4b2473-06ee-4cc6-a896-511f05939619"
      },
      "execution_count": null,
      "outputs": [
        {
          "output_type": "stream",
          "name": "stdout",
          "text": [
            "Looking in indexes: https://pypi.org/simple, https://us-python.pkg.dev/colab-wheels/public/simple/\n",
            "Requirement already satisfied: kneed in /usr/local/lib/python3.7/dist-packages (0.8.1)\n",
            "Requirement already satisfied: scipy>=1.0.0 in /usr/local/lib/python3.7/dist-packages (from kneed) (1.7.3)\n",
            "Requirement already satisfied: numpy>=1.14.2 in /usr/local/lib/python3.7/dist-packages (from kneed) (1.21.6)\n"
          ]
        }
      ]
    },
    {
      "cell_type": "code",
      "source": [
        "for i in range(2, 20):\n",
        "  print(elbow(i))"
      ],
      "metadata": {
        "id": "CcPPkqOC9-p_",
        "colab": {
          "base_uri": "https://localhost:8080/",
          "height": 577
        },
        "outputId": "5c638753-b60f-4d32-ff79-195f63895a6f"
      },
      "execution_count": null,
      "outputs": [
        {
          "output_type": "stream",
          "name": "stdout",
          "text": [
            "15092.699231051778\n",
            "3720.298069844392\n",
            "3260.9216890809857\n",
            "4315.032532940725\n",
            "4279.3698688575705\n",
            "5932.35497179825\n",
            "4565.474601661919\n",
            "6911.357554688371\n",
            "4434.28987055482\n",
            "4585.283924023103\n",
            "4818.929895056544\n",
            "4859.054076253128\n",
            "4849.45623850161\n",
            "4875.435718136215\n",
            "4963.870860543318\n",
            "5675.553738118178\n",
            "4985.385003260538\n",
            "5007.377491960341\n"
          ]
        },
        {
          "output_type": "display_data",
          "data": {
            "text/plain": [
              "<Figure size 432x288 with 1 Axes>"
            ],
            "image/png": "[encoded data removed]"
          },
          "metadata": {
            "needs_background": "light"
          }
        }
      ]
    },
    {
      "cell_type": "markdown",
      "source": [
        "##Agglomerative (Hierarchy)"
      ],
      "metadata": {
        "id": "ip6uH8JFRlq9"
      }
    },
    {
      "cell_type": "markdown",
      "source": [
        "###Affinity -> *Euclidian*"
      ],
      "metadata": {
        "id": "m3c6oPCiWT3R"
      }
    },
    {
      "cell_type": "markdown",
      "source": [
        "####Linkage -> *Ward*"
      ],
      "metadata": {
        "id": "j9fx0Wh-WfAt"
      }
    },
    {
      "cell_type": "code",
      "source": [
        "from sklearn.cluster import AgglomerativeClustering\n",
        "import scipy.cluster.hierarchy as sch\n",
        "jer = AgglomerativeClustering(n_clusters=None,affinity = 'euclidean',linkage = 'ward', distance_threshold=0)\n",
        "#labels = np.zeros((len(jer.children_),1))\n",
        "Y = data_km\n",
        "jer.fit(Y)"
      ],
      "metadata": {
        "colab": {
          "base_uri": "https://localhost:8080/"
        },
        "id": "Eh5Rz4Dy_-l5",
        "outputId": "a4577f42-4b46-43e8-9693-7c92adcaf923"
      },
      "execution_count": null,
      "outputs": [
        {
          "output_type": "execute_result",
          "data": {
            "text/plain": [
              "AgglomerativeClustering(distance_threshold=0, n_clusters=None)"
            ]
          },
          "metadata": {},
          "execution_count": 10
        }
      ]
    },
    {
      "cell_type": "code",
      "source": [
        "den = sch.dendrogram(sch.linkage(Y, method = 'ward', metric = 'euclidean'), truncate_mode = 'level', p=5)"
      ],
      "metadata": {
        "colab": {
          "base_uri": "https://localhost:8080/",
          "height": 277
        },
        "id": "uBP3BUvoQTfV",
        "outputId": "bcb5316b-1ffc-41ab-ec33-470257fbf909"
      },
      "execution_count": null,
      "outputs": [
        {
          "output_type": "display_data",
          "data": {
            "text/plain": [
              "<Figure size 432x288 with 1 Axes>"
            ],
            "image/png": "[encoded data removed]"
          },
          "metadata": {
            "needs_background": "light"
          }
        }
      ]
    },
    {
      "cell_type": "markdown",
      "source": [
        "####Linkage -> *Average*"
      ],
      "metadata": {
        "id": "lCIvqfRkWqwC"
      }
    },
    {
      "cell_type": "code",
      "source": [
        "from sklearn.cluster import AgglomerativeClustering\n",
        "import scipy.cluster.hierarchy as sch\n",
        "jer = AgglomerativeClustering(n_clusters=20,affinity = 'euclidean',linkage = 'average', compute_full_tree= True)\n",
        "y_predict = jer.fit_predict(datos_h)\n",
        "cluster_labels = jer.labels_\n",
        "print(cluster_labels)\n",
        "silhouette_avg = silhouette_score(datos_h, cluster_labels)\n",
        "print(silhouette_avg)"
      ],
      "metadata": {
        "colab": {
          "base_uri": "https://localhost:8080/"
        },
        "id": "7qpEklYAWD0X",
        "outputId": "79c168ed-0963-44b6-dd96-9fa58fca8aff"
      },
      "execution_count": null,
      "outputs": [
        {
          "output_type": "stream",
          "name": "stdout",
          "text": [
            "[ 4  4  4  4  4  4  4  4  4  4  4  4 13  4  4  4  4  4  4  4  4  4  4  4\n",
            "  4  4  4  6  4  4  4  4  4  4  4  4  4  4  4  4  4  4  4  4  4  4  4  4\n",
            "  4  4  4  4  4  4  4  4  4  4  4  4  4  4  4  4  4  4  4  4  4  4  4  4\n",
            "  4  4  4  4  4 15  4  0  5  4  0  4  4  5  4  4  4  2  0  4  4  4  4  0\n",
            "  4  4  4  4  4  4  4  4  4  4  4  4  4  4  4  4  0  4  4  4  4  4  4  4\n",
            "  4  4  4  4  4  4  4  4  4  4  4  4  4  4  4  4  4 17  4  4 12  4  4  4\n",
            "  4  4  4  4  4  4  4  4  4  4  4  4  4  4  4  4  4  4  4  4  4  4  4  4\n",
            "  4  4  4  4  4  4  4  4  4  4  4  4  4  4  4  4  4  0  4  4  4  4  4  4\n",
            "  4  4  4  4  4  4  4  4  4  4  4  4  4  4  4  4  4  4  4  4  4  4  4  4\n",
            "  4  4  4  2  4  4  4  4  4  4  4  4  4 18  4  0  4  4  4  4  4  4  4  4\n",
            "  4  4  4  4  4  4  4  4  4  4  4 19 11  4  4  4  4  0  4  4  4  4  4  4\n",
            "  4  4  4  4  4  4  0  4  4  4  4  4  4  4  4  4  4  4  4  4  4  4  4  4\n",
            "  4  4  4  4  4  4  0  4  4 16  4  4  4  4  4  4  4  4  4  4  3  4  4  4\n",
            "  4  4  0  4  8  4  4  4  4  4  4  4  0  4  4  4  4  4  4  4  4  4  4  4\n",
            "  4  4  4  4  4  4  0  4  4  4  4  4  4  4  4  4 10  0  4  4  4  4  4  4\n",
            "  4  4  4  4  3  7  0  4  4  4  4  4  4  6  4  4  1  4  4  2  4  4  4  4\n",
            "  1  4  9  4  4  0  4  0  0  2  4  4  4  4  2  4  4  4  4  4  4  4  4  4\n",
            "  4  4  4  4  4  4  4  4  4  4  4  4  4  4  3  4  4  4  4  4  4  4  4  4\n",
            "  4  4  4  4  4  4  4  4  4  4  4  4  4  4  4  4  4  4  4  4  4  4  4  4\n",
            "  0  4  4  4  4  4  0  4  4  4  4  4  5  4  4  4  4  4  0  4  4  4  4  4\n",
            "  4  4  4  4  4  4  4  4  4  4  4  4  4  4  4  4  4  4  4  4  0  4  4  4\n",
            " 14  4  4  4  0  4  4  4  4  4  4  4  4  4  4  4  4  4  4  4  4  4  4  0\n",
            "  4  4  4  4  4  4  4  4]\n",
            "0.6327953970198128\n"
          ]
        }
      ]
    },
    {
      "cell_type": "code",
      "source": [
        "den = sch.dendrogram(sch.linkage(Y, method = 'average', metric = 'euclidean'), truncate_mode = 'level', p=5)"
      ],
      "metadata": {
        "id": "LYnQI8KUWFWT",
        "colab": {
          "base_uri": "https://localhost:8080/",
          "height": 268
        },
        "outputId": "da034195-6146-4c11-b987-fd22ce1813bf"
      },
      "execution_count": null,
      "outputs": [
        {
          "output_type": "display_data",
          "data": {
            "text/plain": [
              "<Figure size 432x288 with 1 Axes>"
            ],
            "image/png": "[encoded data removed]"
          },
          "metadata": {
            "needs_background": "light"
          }
        }
      ]
    },
    {
      "cell_type": "markdown",
      "source": [
        "####Linkage -> *Complete*"
      ],
      "metadata": {
        "id": "rqCJl6lOYfw7"
      }
    },
    {
      "cell_type": "code",
      "source": [
        "from sklearn.cluster import AgglomerativeClustering\n",
        "import scipy.cluster.hierarchy as sch\n",
        "jer = AgglomerativeClustering(n_clusters=20,affinity = 'euclidean',linkage = 'complete')\n",
        "#labels = np.zeros((len(jer.children_),1))\n",
        "y_predict = jer.fit_predict(datos_h)\n",
        "cluster_labels = jer.labels_\n",
        "print(cluster_labels)\n",
        "silhouette_avg = silhouette_score(datos_h, cluster_labels)\n",
        "print(silhouette_avg)"
      ],
      "metadata": {
        "colab": {
          "base_uri": "https://localhost:8080/"
        },
        "outputId": "1bdb9bb1-db12-407b-adbe-15013cccc0fa",
        "id": "OuJclOKvZGsw"
      },
      "execution_count": null,
      "outputs": [
        {
          "output_type": "stream",
          "name": "stdout",
          "text": [
            "[ 1  1  1  1  1  3  1  1  1  1  1  1 11  1  1  1  1  1  1  1  1  1  1  1\n",
            "  1  1  1  0  1  1  3  1  1  1  1  1  1  1  1  1  1  1  1  1  1  1  1  1\n",
            "  1  1  1  1  1  1  1  1  1  1  1  1  1  1  1  1  1  1  3  1  1  1  1  1\n",
            "  1  1  1  1  1 17  1  2  6  1  2  1  1  6  1  1  1  4  2  3  1  1  1  8\n",
            "  1  1  1  1  1  1  1  1  1  1  1  1  1  1  1  1  2  1  1  1  1  1  1  1\n",
            "  1  1  1  1  1  1  1  1  1  1  1  1  1  1  1  1  1 19  1  1 16  1  1  1\n",
            "  1  1  1  1  1  3  1  1  1  1  1  8  1  1  1  1  1  1  1  1  1  1  1  1\n",
            "  1  1  1  1  1  1  1  1  1  1  1  1  1  1  1  1  1  8  1  1  1  1  1  1\n",
            "  1  1  1  1  1  1  1  1  1  1  1  1  1  3  1  1  1  1  1  1  1  1  1  1\n",
            "  1  1  1  4  3  1  1  1  1  1  1  1  1  9  1  3  1  1  1  1  1  1  1  1\n",
            "  1  1  1  1  8  1  1  1  1  1  1 12 13  1  1  1  1  2  1  1  1  1  1  1\n",
            "  1  1  1  1  1  1  2  1  1  1  1  1  1  1  1  1  1  1  3  3  1  1  1  1\n",
            "  1  1  1  1  1  1  2  1  1 15  1  1  1  1  1  1  1  1  1  1  8  1  1  1\n",
            "  1  1  3  3  0  1  1  1  1  1  1  1  3  1  1  1  1  1  1  1  1  1  1  1\n",
            "  1  1  1  1  1  1  2  1  1  1  1  1  3  1  1  1  7  8  1  1  1  1  1  1\n",
            "  1  1  1  3  8  5  3  1  1  1  1  1  1  0  1  1 18  8  1  4  1  3  1  1\n",
            " 18  1 10  1  1  8  8  8  2  4  1  3  1  3  4  1  1  1  1  1  1  1  1  1\n",
            "  1  1  1  1  1  1  1  1  1  1  1  1  1  1  8  1  1  1  1  1  1  1  1  1\n",
            "  1  1  1  1  1  1  1  1  1  1  1  1  1  1  1  1  1  1  1  1  1  1  1  1\n",
            "  2  1  1  1  1  1  2  3  1  8  1  1  6  1  1  1  3  1  2  1  1  1  1  1\n",
            "  1  1  1  1  1  1  1  1  1  1  1  1  1  1  1  1  1  1  1  1  3  1  1  1\n",
            " 14  1  1  1  2  1  1  1  1  3  1  1  1  1  1  1  1  1  1  1  1  1  1  2\n",
            "  1  1  1  1  1  1  1  1]\n",
            "0.605130868880005\n"
          ]
        }
      ]
    },
    {
      "cell_type": "code",
      "source": [
        "den = sch.dendrogram(sch.linkage(Y, method = 'complete', metric = 'euclidean'), truncate_mode = 'level', p=5)"
      ],
      "metadata": {
        "colab": {
          "base_uri": "https://localhost:8080/",
          "height": 268
        },
        "outputId": "a43eff2b-5d50-41a2-b5c1-1f7480657be1",
        "id": "RhbJi69bZGsw"
      },
      "execution_count": null,
      "outputs": [
        {
          "output_type": "display_data",
          "data": {
            "text/plain": [
              "<Figure size 432x288 with 1 Axes>"
            ],
            "image/png": "[encoded data removed]"
          },
          "metadata": {
            "needs_background": "light"
          }
        }
      ]
    },
    {
      "cell_type": "markdown",
      "source": [
        "####Linkage -> *Single*"
      ],
      "metadata": {
        "id": "ln7-7wE7YyjD"
      }
    },
    {
      "cell_type": "code",
      "source": [
        "from sklearn.cluster import AgglomerativeClustering\n",
        "import scipy.cluster.hierarchy as sch\n",
        "jer = AgglomerativeClustering(n_clusters=20,affinity = 'euclidean',linkage = 'single')\n",
        "#labels = np.zeros((len(jer.children_),1))\n",
        "y_predict = jer.fit_predict(datos_h)\n",
        "cluster_labels = jer.labels_\n",
        "print(cluster_labels)\n",
        "silhouette_avg = silhouette_score(datos_h, cluster_labels)\n",
        "print(silhouette_avg)"
      ],
      "metadata": {
        "colab": {
          "base_uri": "https://localhost:8080/"
        },
        "outputId": "7df8e1f5-0a8d-496d-bda3-627f834dd6c8",
        "id": "75E1M87-ZNOo"
      },
      "execution_count": null,
      "outputs": [
        {
          "output_type": "stream",
          "name": "stdout",
          "text": [
            "[ 0  0  0  0  0  0  0  0  0  0  0  0 13  0  0  0  0  0  0  0  0  0  0  0\n",
            "  0  0  0  4  0  0  0  0  0  0  0  0  0  0  0  0  0  0  0  0  0  0  0  0\n",
            "  0  0  0  0  0  0  0  0  0  0  0  0  0  0  0  0  0  0  0  0  0  0  0  0\n",
            "  0  0  0  0  0 19  0  0  1  0  0  0  0 18  0  0  0  0  0  0  0  0  0  0\n",
            "  0  0  0  0  0  0  0  0  0  0  0  0  0  0  0  0  0  0  0  0  0  0  0  0\n",
            "  0  0  0  0  0  0  0  0  0  0  0  0  0  0  0  0  0 12  0  0 10  0  0  0\n",
            "  0  0  0  0  0  0  0  0  0  0  0  0  0  0  0  0  0  0  0  0  0  0  0  0\n",
            "  0  0  0  0  0  0  0  0  0  0  0  0  0  0  0  0  0  0  0  0  0  0  0  0\n",
            "  0  0  0  0  0  0  0  0  0  0  0  0  0  0  0  0  0  0  0  0  0  0  0  0\n",
            "  0  0  0 17  0  0  0  0  0  0  0  0  0 15  0  0  0  0  0  0  0  0  0  0\n",
            "  0  0  0  0  0  0  0  0  0  0  0  8 16  0  0  0  0  0  0  0  0  0  0  0\n",
            "  0  0  0  0  0  0  0  0  0  0  0  0  0  0  0  0  0  0  0  0  0  0  0  0\n",
            "  0  0  0  0  0  0  0  0  0 11  0  0  0  0  0  0  0  0  0  0  0  0  0  0\n",
            "  0  0  0  0  7  0  0  0  0  0  0  0  0  0  0  0  0  0  0  0  0  0  0  0\n",
            "  0  0  0  0  0  0  0  0  0  0  0  0  0  0  0  0  9  0  0  0  0  0  0  0\n",
            "  0  0  0  0  0  5  0  0  0  0  0  0  0  4  0  0 14  0  0  0  0  0  0  0\n",
            "  6  0  2  0  0  0  0  0  0  0  0  0  0  0  0  0  0  0  0  0  0  0  0  0\n",
            "  0  0  0  0  0  0  0  0  0  0  0  0  0  0  0  0  0  0  0  0  0  0  0  0\n",
            "  0  0  0  0  0  0  0  0  0  0  0  0  0  0  0  0  0  0  0  0  0  0  0  0\n",
            "  0  0  0  0  0  0  0  0  0  0  0  0  1  0  0  0  0  0  0  0  0  0  0  0\n",
            "  0  0  0  0  0  0  0  0  0  0  0  0  0  0  0  0  0  0  0  0  0  0  0  0\n",
            "  3  0  0  0  0  0  0  0  0  0  0  0  0  0  0  0  0  0  0  0  0  0  0  0\n",
            "  0  0  0  0  0  0  0  0]\n",
            "0.5982601781812775\n"
          ]
        }
      ]
    },
    {
      "cell_type": "code",
      "source": [
        "den = sch.dendrogram(sch.linkage(Y, method = 'single', metric = 'euclidean'), truncate_mode = 'level', p=10)"
      ],
      "metadata": {
        "colab": {
          "base_uri": "https://localhost:8080/",
          "height": 268
        },
        "outputId": "11dab603-ebf3-4cff-a254-3835ecdfd2fb",
        "id": "JmJWdFcLZNOp"
      },
      "execution_count": null,
      "outputs": [
        {
          "output_type": "display_data",
          "data": {
            "text/plain": [
              "<Figure size 432x288 with 1 Axes>"
            ],
            "image/png": "[encoded data removed]"
          },
          "metadata": {
            "needs_background": "light"
          }
        }
      ]
    },
    {
      "cell_type": "markdown",
      "source": [
        "###Affinity -> *manhatan*"
      ],
      "metadata": {
        "id": "7ILDnzxUZrF6"
      }
    },
    {
      "cell_type": "markdown",
      "source": [
        "####Linkage -> *Ward*"
      ],
      "metadata": {
        "id": "XrDBjXDCZ27F"
      }
    },
    {
      "cell_type": "markdown",
      "source": [
        "NA"
      ],
      "metadata": {
        "id": "yPWtaNvFaHiZ"
      }
    },
    {
      "cell_type": "markdown",
      "source": [
        "####Linkage -> *Average*"
      ],
      "metadata": {
        "id": "sm7xFUmkZ27G"
      }
    },
    {
      "cell_type": "code",
      "source": [
        "from sklearn.cluster import AgglomerativeClustering\n",
        "import scipy.cluster.hierarchy as sch\n",
        "jer = AgglomerativeClustering(n_clusters=20,affinity = 'manhattan',linkage = 'average', )\n",
        "#labels = np.zeros((len(jer.children_),1))\n",
        "y_predict = jer.fit_predict(datos_h)\n",
        "cluster_labels = jer.labels_\n",
        "print(cluster_labels)\n",
        "silhouette_avg = silhouette_score(datos_h, cluster_labels)\n",
        "print(silhouette_avg)"
      ],
      "metadata": {
        "colab": {
          "base_uri": "https://localhost:8080/"
        },
        "outputId": "1722eafc-15ef-4481-b8d9-bd44527f2e80",
        "id": "Mqe6oHguZ27G"
      },
      "execution_count": null,
      "outputs": [
        {
          "output_type": "stream",
          "name": "stdout",
          "text": [
            "[ 6  6  6  6  6  6  6  6  6  6  6  6 13  6  6  6  6  6  6  6  6  6  6  6\n",
            "  6  6  6  1  6  6  6  6  6  6  6  6  6  6  6  6  6  6  6  6  6  6  6  6\n",
            "  6  6  6  6  6  6  6  6  6  6  6  6  6  6  6  6  6  6  6  6  6  6  6  6\n",
            "  6  6  6  6  6 17  6  2  0  6  2  6  6  0  6  6  6  5  2  6  6  6  6  2\n",
            "  6  6  6  6  6  6  6  6  6  6  6  6  6  6  6  6  2  6  6  6  6  6  6  6\n",
            "  6  6  6  6  6  6  6  6  6  6  6  6  6  6  6  6  6 15  6  6 14  6  6  6\n",
            "  6  6  6  6  6  6  6  6  6  6  6  2  6  6  6  6  6  6  6  6  6  6  6  6\n",
            "  6  6  6  6  6  6  6  6  6  6  6  6  6  6  6  6  6  2  6  6  6  6  6  6\n",
            "  6  6  6  6  6  6  6  6  6  6  6  6  6  6  6  6  6  6  6  6  6  6  6  6\n",
            "  6  6  6 19  6  6  6  6  6  6  6  6  6 16  6  2  6  6  6  6  6  6  6  6\n",
            "  6  6  6  6  2  6  6  6  6  6  6 10 11  6  6  6  6  2  6  6  6  6  6  6\n",
            "  6  6  6  6  6  6  2  6  6  6  6  6  6  6  6  6  6  6  6  6  6  6  6  6\n",
            "  6  6  6  6  6  6  2  6  6  6  6  6  6  6  6  6  6  6  6  6  2  6  6  6\n",
            "  6  6  2  6  7  6  6  6  6  6  6  6  2  6  6  6  6  6  6  6  6  6  6  6\n",
            "  6  6  6  6  6  6  2  6  6  6  6  6  6  6  6  6 12  2  6  6  6  6  6  6\n",
            "  6  6  6  6  2 18  2  6  6  6  6  6  6  1  6  6  8  6  6  5  6  6  6  6\n",
            "  9  6  4  6  6  2  2  2  2  5  6  6  6  2  5  6  6  6  6  6  6  6  6  6\n",
            "  6  6  6  6  6  6  6  6  6  6  6  6  6  6  6  6  6  6  6  6  6  6  6  6\n",
            "  6  6  6  6  6  6  6  6  6  6  6  6  6  6  6  6  6  6  6  6  6  6  6  6\n",
            "  2  6  6  6  6  6  2  6  6  2  6  6  0  6  6  6  2  6  2  6  6  6  6  6\n",
            "  6  6  6  6  6  6  6  6  6  6  6  6  6  6  6  6  6  6  6  6  2  6  6  6\n",
            "  3  6  6  6  2  6  6  6  6  6  6  6  6  6  6  6  6  6  6  6  6  6  6  2\n",
            "  6  6  6  6  6  6  6  6]\n",
            "0.7058147420596993\n"
          ]
        }
      ]
    },
    {
      "cell_type": "code",
      "source": [
        "den = sch.dendrogram(sch.linkage(Y, method = 'average', metric = 'cityblock'), truncate_mode = 'level', p=5)"
      ],
      "metadata": {
        "colab": {
          "base_uri": "https://localhost:8080/",
          "height": 281
        },
        "outputId": "40f491f2-4555-4c7f-a7df-32be22e54114",
        "id": "PnCN851vZ27G"
      },
      "execution_count": null,
      "outputs": [
        {
          "output_type": "display_data",
          "data": {
            "text/plain": [
              "<Figure size 432x288 with 1 Axes>"
            ],
            "image/png": "[encoded data removed]"
          },
          "metadata": {
            "needs_background": "light"
          }
        }
      ]
    },
    {
      "cell_type": "markdown",
      "source": [
        "####Linkage -> *Complete*"
      ],
      "metadata": {
        "id": "9_qPb2ItZ27G"
      }
    },
    {
      "cell_type": "code",
      "source": [
        "from sklearn.cluster import AgglomerativeClustering\n",
        "import scipy.cluster.hierarchy as sch\n",
        "jer = AgglomerativeClustering(n_clusters=20,affinity = 'manhattan',linkage = 'complete')\n",
        "#labels = np.zeros((len(jer.children_),1))\n",
        "y_predict = jer.fit_predict(datos_h)\n",
        "cluster_labels = jer.labels_\n",
        "print(cluster_labels)\n",
        "silhouette_avg = silhouette_score(datos_h, cluster_labels)\n",
        "print(silhouette_avg)"
      ],
      "metadata": {
        "colab": {
          "base_uri": "https://localhost:8080/"
        },
        "outputId": "61dda13d-6d0c-437a-c90e-da279e032641",
        "id": "mKtWd2WMZ27G"
      },
      "execution_count": null,
      "outputs": [
        {
          "output_type": "stream",
          "name": "stdout",
          "text": [
            "[14 14 14 14 14  1 14 14  1  1 14 14 11  1 14  1 14  1 14 14 14 14 14 14\n",
            " 14 14  1  8 14 14  1 14 14 14  1 14 14 14 14  1  1 14 14 14 14 14  1  1\n",
            "  1 14  1 14  1 14 14 14 14 14 14 14 14 14 14  1 14 14  1 14  1 14 14  1\n",
            " 14  1 14 14 14 10  1  3  2  1  3  1  1  2 14  1 14  0  3  1  1 14 14  7\n",
            "  1 14 14 14  1 14 14  1  1  1 14  1 14 14 14 14  3  1 14  1  1  1 14 14\n",
            " 14 14 14  1  1 14  1 14 14 14 14 14  1 14  1  1 14 19 14 14 16 14 14 14\n",
            " 14  1  1  1 14  1  1 14 14  1  1  7  1  1  1 14  1 14 14 14 14 14 14 14\n",
            " 14  1 14 14 14 14 14  1 14  1 14 14  1 14 14  1  1  7 14 14 14 14  1 14\n",
            " 14 14  1 14  1 14 14 14 14 14 14 14 14  1 14 14 14 14 14  1 14 14 14 14\n",
            " 14 14 14  0  1  1 14 14 14 14 14  1 14  9 14  7  1 14  1 14 14 14  1 14\n",
            " 14 14 14  1  7 14 14 14 14 14 14 12 13 14  1 14 14  3 14  1  1 14 14 14\n",
            " 14  1 14  1 14  1  3  1  1 14  1 14 14 14 14 14  1 14  1  1 14 14 14 14\n",
            " 14 14 14  1 14 14  3 14  1 14  1 14 14  1 14 14 14 14 14 14  1 14 14  1\n",
            " 14 14  7  1 17  1  1 14 14 14  1 14  7 14  1  1 14  1 14 14 14 14 14  1\n",
            "  1  1 14  1 14 14  3 14 14 14  1 14  1 14  1 14 15  7 14 14 14 14 14 14\n",
            "  1 14 14  1  1  4  7 14 14 14 14 14  1  8  1 14  6  7 14  0 14  1 14  1\n",
            "  6 14  5 14 14  7  7  7  3  0  1  1  1  7  0 14  1 14 14 14 14 14  1 14\n",
            " 14 14  1 14 14 14 14 14 14 14 14  1 14  1  1  1 14 14 14 14 14  1  1 14\n",
            " 14 14 14 14 14 14 14 14 14  1 14 14 14 14 14  1 14 14  1 14  1 14  1 14\n",
            "  3 14  1 14  1  1  3  1 14  7 14 14  2 14 14  1  7  1  3  1 14 14 14 14\n",
            " 14  1 14 14 14 14  1  1 14 14 14 14 14  1  1  1  1  1  1 14  7 14 14 14\n",
            " 18 14  1  1  3 14 14  1 14  1 14 14 14 14 14 14 14 14 14 14 14 14  1  3\n",
            "  1  1 14 14 14 14 14 14]\n",
            "0.41708682670029\n"
          ]
        }
      ]
    },
    {
      "cell_type": "code",
      "source": [
        "den = sch.dendrogram(sch.linkage(Y, method = 'complete', metric = 'cityblock'), truncate_mode = 'level', p=5)"
      ],
      "metadata": {
        "colab": {
          "base_uri": "https://localhost:8080/"
        },
        "outputId": "d6914741-7c14-44c3-efee-529d85877736",
        "id": "HDVpMIiIZ27G"
      },
      "execution_count": null,
      "outputs": [
        {
          "output_type": "display_data",
          "data": {
            "text/plain": [
              "<Figure size 432x288 with 1 Axes>"
            ],
            "image/png": "[encoded data removed]"
          },
          "metadata": {
            "needs_background": "light"
          }
        }
      ]
    },
    {
      "cell_type": "markdown",
      "source": [
        "####Linkage -> *Single*"
      ],
      "metadata": {
        "id": "ovh7nSB_Z27G"
      }
    },
    {
      "cell_type": "code",
      "source": [
        "from sklearn.cluster import AgglomerativeClustering\n",
        "import scipy.cluster.hierarchy as sch\n",
        "jer = AgglomerativeClustering(n_clusters=20,affinity = 'manhattan',linkage = 'single')\n",
        "#labels = np.zeros((len(jer.children_),1))\n",
        "y_predict = jer.fit_predict(datos_h)\n",
        "cluster_labels = jer.labels_\n",
        "print(cluster_labels)\n",
        "silhouette_avg = silhouette_score(datos_h, cluster_labels)\n",
        "print(silhouette_avg)"
      ],
      "metadata": {
        "colab": {
          "base_uri": "https://localhost:8080/"
        },
        "outputId": "40589fbc-6aa2-45c7-afda-f97c80764513",
        "id": "9hflBUT9Z27G"
      },
      "execution_count": null,
      "outputs": [
        {
          "output_type": "stream",
          "name": "stdout",
          "text": [
            "[ 0  0  0  0  0  0  0  0  0  0  0  0 19  0  0  0  0  0  0  0  0  0  0  0\n",
            "  0  0  0  1  0  0  0  0  0  0  0  0  0  0  0  0  0  0  0  0  0  0  0  0\n",
            "  0  0  0  0  0  0  0  0  0  0  0  0  0  0  0  0  0  0  0  0  0  0  0  0\n",
            "  0  0  0  0  0 15  0  0 14  0  0  0  0 17  0  0  0  0  0  0  0  0  0  0\n",
            "  0  0  0  0  0  0  0  0  0  0  0  0  0  0  0  0  0  0  0  0  0  0  0  0\n",
            "  0  0  0  0  0  0  0  0  0  0  0  0  0  0  0  0  0 16  0  0 10  0  0  0\n",
            "  0  0  0  0  0  0  0  0  0  0  0  0  0  0  0  0  0  0  0  0  0  0  0  0\n",
            "  0  0  0  0  0  0  0  0  0  0  0  0  0  0  0  0  0  0  0  0  0  0  0  0\n",
            "  0  0  0  0  0  0  0  0  0  0  0  0  0  0  0  0  0  0  0  0  0  0  0  0\n",
            "  0  0  0 18  0  0  0  0  0  0  0  0  0  8  0  0  0  0  0  0  0  0  0  0\n",
            "  0  0  0  0  0  0  0  0  0  0  0  7  9  0  0  0  0  0  0  0  0  0  0  0\n",
            "  0  0  0  0  0  0  0  0  0  0  0  0  0  0  0  0  0  0  0  0  0  0  0  0\n",
            "  0  0  0  0  0  0  0  0  0  0  0  0  0  0  0  0  0  0  0  0  0  0  0  0\n",
            "  0  0  0  0  3  0  0  0  0  0  0  0  0  0  0  0  0  0  0  0  0  0  0  0\n",
            "  0  0  0  0  0  0  0  0  0  0  0  0  0  0  0  0 13  0  0  0  0  0  0  0\n",
            "  0  0  0  0  0 11  0  0  0  0  0  0  0  1  0  0  6  0  0  0  0  0  0  0\n",
            " 12  0  5  0  0  0  0  0  0  0  0  0  0  0  0  0  0  0  0  0  0  0  0  0\n",
            "  0  0  0  0  0  0  0  0  0  0  0  0  0  0  0  0  0  0  0  0  0  0  0  0\n",
            "  0  0  0  0  0  0  0  0  0  0  0  0  0  0  0  0  0  0  0  0  0  0  0  0\n",
            "  0  0  0  0  0  0  0  0  0  0  0  0  4  0  0  0  0  0  0  0  0  0  0  0\n",
            "  0  0  0  0  0  0  0  0  0  0  0  0  0  0  0  0  0  0  0  0  0  0  0  0\n",
            "  2  0  0  0  0  0  0  0  0  0  0  0  0  0  0  0  0  0  0  0  0  0  0  0\n",
            "  0  0  0  0  0  0  0  0]\n",
            "0.6476943514466971\n"
          ]
        }
      ]
    },
    {
      "cell_type": "code",
      "source": [
        "den = sch.dendrogram(sch.linkage(Y, method = 'single', metric = 'cityblock'), truncate_mode = 'level', p=20)"
      ],
      "metadata": {
        "colab": {
          "base_uri": "https://localhost:8080/"
        },
        "outputId": "c64dde04-f7c9-4556-8dfd-a952d8617063",
        "id": "Zxz5Ouu9Z27H"
      },
      "execution_count": null,
      "outputs": [
        {
          "output_type": "display_data",
          "data": {
            "text/plain": [
              "<Figure size 432x288 with 1 Axes>"
            ],
            "image/png": "[encoded data removed]"
          },
          "metadata": {
            "needs_background": "light"
          }
        }
      ]
    },
    {
      "cell_type": "markdown",
      "source": [],
      "metadata": {
        "id": "f6zjKJYDazc2"
      }
    },
    {
      "cell_type": "markdown",
      "source": [
        "###Affinity -> *cosine*"
      ],
      "metadata": {
        "id": "PgRGf001a0G7"
      }
    },
    {
      "cell_type": "markdown",
      "source": [
        "####Linkage -> *Ward*"
      ],
      "metadata": {
        "id": "VZZAzEq3a0G8"
      }
    },
    {
      "cell_type": "markdown",
      "source": [
        "NA"
      ],
      "metadata": {
        "id": "rYRMa0K-a0G8"
      }
    },
    {
      "cell_type": "markdown",
      "source": [
        "####Linkage -> *Average*"
      ],
      "metadata": {
        "id": "gl980qLBa0G8"
      }
    },
    {
      "cell_type": "code",
      "source": [
        "from sklearn.cluster import AgglomerativeClustering\n",
        "import scipy.cluster.hierarchy as sch\n",
        "jer = AgglomerativeClustering(n_clusters=20,affinity = 'cosine',linkage = 'average')\n",
        "#labels = np.zeros((len(jer.children_),1))\n",
        "y_predict = jer.fit_predict(datos_h)\n",
        "cluster_labels = jer.labels_\n",
        "print(cluster_labels)\n",
        "silhouette_avg = silhouette_score(datos_h, cluster_labels)\n",
        "print(silhouette_avg)"
      ],
      "metadata": {
        "colab": {
          "base_uri": "https://localhost:8080/"
        },
        "outputId": "d0ccb075-5fb2-4f4b-eb88-036df27eeabd",
        "id": "fkm512JJa0G8"
      },
      "execution_count": null,
      "outputs": [
        {
          "output_type": "stream",
          "name": "stdout",
          "text": [
            "[ 0  0  0  0  0  0  0  0  3  0  0  0  0  0  0  0  0  0  0  0  0  0  0  0\n",
            "  0  0  0  0  0  0  0  0  0  0  0  0  0  0  0  0  0  0  0  0  0  0  0  0\n",
            "  0  0  0  0  0  0  0  6  0  0  0  0  0  1  0  0 15  0  0  3  0  0  0  0\n",
            "  0  0  0  0  0  0  0  0  0  0  0  0  0  0  0  0  0  0  0  0  0  0  0  0\n",
            "  0  0  0  0  0  0  0  0  0  0  0  0  0  0  0  0  0  0  0  0  0  0  0  0\n",
            "  0  0  8  0  0  0  0  0  0  2  0  0  0  0  0  0 12  0  0  0  0  0  5  0\n",
            "  0  0  0  0  0  0  0  0  0  0  0  0  0  0  0  0  0  0  0  0  5  0  0  0\n",
            "  0  0  0  0  0  0  0  0  0  0  1  0  0  0  0  1  0  0  0  0  1  0  0  0\n",
            "  0  0  0  0  0  0  0  0  0 12  0  0  0  0  0  0  0  0  0  0  0  0  0  0\n",
            "  0  0 17  0  0  0  0  0  0  0  0  0  0  0  5  0  0  0  0  0  0  0  0  0\n",
            "  0  2  8  0  0  0  0  0 11 19  0  0  0  0  0  0  0  0  0  0  0  0  0  0\n",
            "  0  0  0  0  0  0  0  0  0  0  0  0  0  0  0  0  0  0  0  0  0  0  0  0\n",
            "  0  0 16  0  0  0  0  0  0  5  0  0  0  0  0  0  0  0  0  0  0  0  0  0\n",
            "  0  0  0  0  0  0  0  0  0  0  0  0  0  0  0  0  0  0  0  0  0  0  0  0\n",
            "  0  0  2  0  0  0  0  0  0  0  0  0  0  1  0  0  0  0  0  0  0  0  0  0\n",
            "  0  0  0  0  0  0  0  0  0  0  0  0  0  0  0  0  0  0  0  0  0  0  0  0\n",
            "  0 14  0  0  0  0  0  0  0  0  0  0  0  0  0  0  0  9  0  0  0  0  0  0\n",
            "  0  0  0  0  0  0  0  8  0  0  3  0  0  0  0  0  0  0  0  0  0  0  0  0\n",
            "  0  0  4 18  0  0  0  0  0  0  0  0  0  0  0  0  0  0  0  0  0  0  0  0\n",
            "  0  0  0  0  0  0  0  0  0  0  0  0  0  0  0  0  0  0  0  0  0  0  0  0\n",
            "  0  0  0  0  0  0  1  0 12  0  1  0  0  0  0  0  0  0  0  0  0  0  0  0\n",
            "  4  0  0  0  0  6  0  0  0  0  0  0 12  0  0  0  0  0 10  7  0  0  0  0\n",
            "  0  0  0  0  0  0 13  0]\n",
            "-0.5162952811651814\n"
          ]
        }
      ]
    },
    {
      "cell_type": "code",
      "source": [
        "den = sch.dendrogram(sch.linkage(Y, method = 'average', metric = 'cosine'), truncate_mode = 'level', p=6)"
      ],
      "metadata": {
        "colab": {
          "base_uri": "https://localhost:8080/",
          "height": 268
        },
        "outputId": "4d381441-d1bb-48ce-ab4f-2b7eff1e9e37",
        "id": "lw9JDx8Ta0G9"
      },
      "execution_count": null,
      "outputs": [
        {
          "output_type": "display_data",
          "data": {
            "text/plain": [
              "<Figure size 432x288 with 1 Axes>"
            ],
            "image/png": "[encoded data removed]"
          },
          "metadata": {
            "needs_background": "light"
          }
        }
      ]
    },
    {
      "cell_type": "markdown",
      "source": [
        "####Linkage -> *Complete*"
      ],
      "metadata": {
        "id": "KuuoGVT2a0G9"
      }
    },
    {
      "cell_type": "code",
      "source": [
        "from sklearn.cluster import AgglomerativeClustering\n",
        "import scipy.cluster.hierarchy as sch\n",
        "jer = AgglomerativeClustering(n_clusters=20,affinity = 'cosine',linkage = 'complete')\n",
        "#labels = np.zeros((len(jer.children_),1))\n",
        "y_predict = jer.fit_predict(datos_h)\n",
        "cluster_labels = jer.labels_\n",
        "print(cluster_labels)\n",
        "silhouette_avg = silhouette_score(datos_h, cluster_labels)\n",
        "print(silhouette_avg)"
      ],
      "metadata": {
        "colab": {
          "base_uri": "https://localhost:8080/"
        },
        "outputId": "c364268d-11ba-4092-d49b-840784f1e1fd",
        "id": "kNiYUpGma0G9"
      },
      "execution_count": null,
      "outputs": [
        {
          "output_type": "stream",
          "name": "stdout",
          "text": [
            "[ 1  5  1  0  0  0  0  1 14  0  0  0  0  0  1  0  0  2  0  1  1  0  1  0\n",
            "  1  1  1  0  2  2  0  1  0  2  0  1  0  1  0  0  0  0  1  3  0  1  1  1\n",
            "  1  0  1  1  1  1  1 11  1  0  1  1  2  0  0  1  3  0  1 14  1  1  1  1\n",
            "  1  2  2  2  1  1  0  2  1  2  0  1  1  1  1  1  1  1  1  0  1  0  1  0\n",
            "  1  0  0  1  1  1  2  1  2  1  1  1  0  1  1  8  0  0  0  0  0  1  0  1\n",
            "  1  1 18  1  1  1  1  1  0  4  0  0  1  1  1  1  6  1  1  1  0  1  7  1\n",
            "  1  1  2  1  2  1  1  0  1  2  1  1  1  0  1  1  1  1  1  0  3  0  1  2\n",
            "  1  1  1  0  8  1  1  1  0  1 15  1  2  0  2  0  1  1  1  1 15  1  1  1\n",
            "  1  2  0  1  1  2  1  2  1  6  1  0  1  1  0  2  2  0  8  8  0  2  0  1\n",
            "  1  2 19  1  1  1  2  2  0  0  2  0  8  1  7  2  1  2  0  2  1  0  0  0\n",
            "  0  4 18  1  1  8  0  2  9 10  1  1  1  1  0  1  0  0  0  1  1  2  1  1\n",
            "  1  1  1  1  1  1  1  1  1  2  1  2  1  2  0  1  2  2  1  2  8  0  1  1\n",
            "  1  2 16  1  0  1  0  1  0  7  1  0  0  0  1  1  1  0  0  0  0  2  0  0\n",
            "  1  2  0  0  1  0  0  1  2  0  1  0  1  0  1  1  1  1  5  1  1  5  1  1\n",
            "  2  0  4  1  1  1  1  0  1  0  2  1  1 15  2  0  1  0  0  2  0  0  2  2\n",
            "  1  0  0  0  1  1  0  2  2  1  0  1  1  0  0  1  1  1  1  1  1  1  1  2\n",
            "  1  5  1  0  1  1  1  1  1  1  1  0  1  2  1  2  2 11  0  0  2  1  2  1\n",
            "  1  2  2  1  1  1  2 18  0  0 14  0  1  1  1  1  0  0  1  0  1  5  2  1\n",
            "  1  0 12  7  1  0  0  0  0  0  1  1  1  1  0  1  1  1  0  2  1  1  1  0\n",
            "  2  0  1  2  2  1  1  0  1  2  0  1  1  1  1  1  1  1  2  1  1  1  0  2\n",
            "  0  0  2  1  1  0  0  0  6  2  0  2  1  0  0  0  1  0  0  1  0  0  0  0\n",
            " 12  1  0  0  0 11  1  1  1  2  1  0  6  0  1  1  0  1 13 12  1  1  1  1\n",
            "  1  1  1  0  1  1 17  1]\n",
            "-0.4814130304141553\n"
          ]
        }
      ]
    },
    {
      "cell_type": "code",
      "source": [
        "den = sch.dendrogram(sch.linkage(Y, method = 'complete', metric = 'cosine'), truncate_mode = 'level', p=5)"
      ],
      "metadata": {
        "colab": {
          "base_uri": "https://localhost:8080/"
        },
        "outputId": "94162a3d-a45c-4ffe-b60f-d0e6918917a7",
        "id": "r8huLGaJa0G9"
      },
      "execution_count": null,
      "outputs": [
        {
          "output_type": "display_data",
          "data": {
            "text/plain": [
              "<Figure size 432x288 with 1 Axes>"
            ],
            "image/png": "[encoded data removed]"
          },
          "metadata": {
            "needs_background": "light"
          }
        }
      ]
    },
    {
      "cell_type": "markdown",
      "source": [
        "####Linkage -> *Single*"
      ],
      "metadata": {
        "id": "YwGLybiOa0G9"
      }
    },
    {
      "cell_type": "code",
      "source": [
        "from sklearn.cluster import AgglomerativeClustering\n",
        "import scipy.cluster.hierarchy as sch\n",
        "jer = AgglomerativeClustering(n_clusters=20,affinity = 'cosine',linkage = 'single')\n",
        "y_predict = jer.fit_predict(datos_h)\n",
        "cluster_labels = jer.labels_\n",
        "print(cluster_labels)\n",
        "silhouette_avg = silhouette_score(datos_h, cluster_labels)\n",
        "print(silhouette_avg)"
      ],
      "metadata": {
        "colab": {
          "base_uri": "https://localhost:8080/"
        },
        "outputId": "d35f7a59-905f-45de-cf23-3e6239e8b855",
        "id": "wyueNpjya0G9"
      },
      "execution_count": null,
      "outputs": [
        {
          "output_type": "stream",
          "name": "stdout",
          "text": [
            "[ 0  0  0  0  0  0  0  0  0  0  0  0  0  0  0  0  0  0  0  0  0  0  0  0\n",
            "  0  0  0  0  0  0  0  0  0  0  0  0  0  0  0  0  0  0  0  0  0  0  0  0\n",
            "  0  0  0  0  0  0  0 10  0  0  0  0  0  0  0  0 15  0  0  0  0  0  0  0\n",
            "  0  0  0  0  0  0  0  0  0  0  0  0  0  0  0  0  0  0  0  0  0  0  0  0\n",
            "  0  0  0  0  0  0  0  0  0  0  0  0  0  0  0  0  0  0  0  0  0  0  0  0\n",
            "  0  0 16  0  0  0  0  0  0  0  0  0  0  0  0  0  1  0  0  0  0  0  0  0\n",
            "  0  0  0  0  0  0  0  0 11  0  0  0  0  0  0  0  0  0  0  0  0  0  0  0\n",
            "  0  0  0  0  7  0  0  0  0  0  0  0  0  0  0  0  0  0  0  0  0  0  0  0\n",
            "  0  0  0  0  0  0  0  0  0  1  0  0  0  0  0  0  0  0  0  0  0  0  0  0\n",
            "  0  0 19  0  0  0  0  0  0  0  0  0  0  0  0  0  0  0  0  0  0  0  0  0\n",
            "  0  0  2  0  0  0  0  0  9 17  0  0  0  0  0  0  0  0  0  0  0  0  0  0\n",
            "  0  0  0  0  0  0  0  0  0  0  0  0  0  0  0  0  0  0  0  0  4  0  0  0\n",
            "  0  0 18  0  0  0  0  0  0  0  0  0  0  0  0  0  0  0  0  0  0  0  0  0\n",
            "  0  0  0  0  0  0  0  0  0  0  0  0  0  0  0  0  0  0  0  0  0  0  0  0\n",
            "  0  0  0  0  0  0  0  0  0  0  0  0  0  0  0  0  0  0  0  0  0  0  0  0\n",
            "  0  0  0  0  0  0  0  0  0  0  0  0  0  0  0  0  0  0  0  0  0  0  0  0\n",
            "  0  0  0  0  0  0  0  0  0  0  0  0  0  0  0  0  0 13  0  0  0  0  0  0\n",
            "  0  0  0  0  0  0  0  2  0  0  0  0  0  0  0  0  0  0  0  0  0  0  0  0\n",
            "  0  0  6  0  0  0  0  0  0  0  0  0  0  0  0  0  0  0  0  0  0  0  0  0\n",
            "  0  0  0  0  0  0  0  0  0  0  0  0  0  0  0  0  0  0  0  0  0  0  0  0\n",
            "  0  0  0  0  0  0  0  0  8  0  0  0  0  0  0  0  0  0  0  0  0  0  0  0\n",
            "  6  0  0  0  0  3  0  0  0  0  0  0  1  0  0  0  0  0 12  5  0  0  0  0\n",
            "  0  0  0  0  0  0 14  0]\n",
            "-0.5244331853065\n"
          ]
        }
      ]
    },
    {
      "cell_type": "code",
      "source": [
        "den = sch.dendrogram(sch.linkage(Y, method = 'single', metric = 'cosine'), truncate_mode = 'level', p=10)"
      ],
      "metadata": {
        "colab": {
          "base_uri": "https://localhost:8080/",
          "height": 268
        },
        "outputId": "575f9e8e-bdcd-4bdb-f1f1-aeea9b5cb87b",
        "id": "onDsZYXRa0G-"
      },
      "execution_count": null,
      "outputs": [
        {
          "output_type": "display_data",
          "data": {
            "text/plain": [
              "<Figure size 432x288 with 1 Axes>"
            ],
            "image/png": "[encoded data removed]"
          },
          "metadata": {
            "needs_background": "light"
          }
        }
      ]
    },
    {
      "cell_type": "markdown",
      "source": [
        "###Grilla Jerarquico\n"
      ],
      "metadata": {
        "id": "rk_TxbGm2VUS"
      }
    },
    {
      "cell_type": "code",
      "source": [
        "n = 2\n",
        "while n < 50:\n",
        "  affinity = ['euclidean', 'manhattan','cosine','l1','l2' ]\n",
        "  linkage = ['average', 'complete', 'single', 'ward']\n",
        "  print(\"Para Cluster numero\",n)\n",
        "  max_link = ''\n",
        "  max_aff = ''\n",
        "  max_score = -1\n",
        "  for link in linkage:\n",
        "    if link == 'ward':\n",
        "      temp = 'euclidean'\n",
        "      jer = AgglomerativeClustering(n_clusters=n,affinity = temp,linkage = link, compute_full_tree= True)\n",
        "      cluster_labels = jer.fit_predict(datos_h)\n",
        "      silhouette_avg = silhouette_score(datos_h, cluster_labels)\n",
        "      if silhouette_avg > max_score:\n",
        "        max_link = link\n",
        "        max_aff = temp\n",
        "        max_score = silhouette_avg\n",
        "\n",
        "    else:\n",
        "      for elem in affinity:\n",
        "        jer = AgglomerativeClustering(n_clusters=n,affinity = elem,linkage = link, compute_full_tree= True)\n",
        "        cluster_labels = jer.fit_predict(datos_h)\n",
        "        silhouette_avg = silhouette_score(datos_h, cluster_labels)\n",
        "        if silhouette_avg > max_score:\n",
        "          max_link = link\n",
        "          max_aff = elem\n",
        "          max_score = silhouette_avg\n",
        "  print(max_aff,max_link,max_score)\n",
        "  n += 1"
      ],
      "metadata": {
        "id": "yY60huJe2eTr",
        "colab": {
          "base_uri": "https://localhost:8080/"
        },
        "outputId": "7acd49f2-cc16-4b17-b444-fb6f631d0639"
      },
      "execution_count": null,
      "outputs": [
        {
          "output_type": "stream",
          "name": "stdout",
          "text": [
            "Para Cluster numero 2\n",
            "euclidean single 0.9369191909466671\n",
            "Para Cluster numero 3\n",
            "euclidean single 0.9285805879970199\n",
            "Para Cluster numero 4\n",
            "euclidean single 0.9196569845429825\n",
            "Para Cluster numero 5\n",
            "euclidean single 0.914088552033675\n",
            "Para Cluster numero 6\n",
            "euclidean single 0.8826348403682871\n",
            "Para Cluster numero 7\n",
            "euclidean single 0.86778809716228\n",
            "Para Cluster numero 8\n",
            "euclidean single 0.8662221000548753\n",
            "Para Cluster numero 9\n",
            "euclidean average 0.8292241605980522\n",
            "Para Cluster numero 10\n",
            "euclidean average 0.823341170043717\n",
            "Para Cluster numero 11\n",
            "manhattan single 0.7806814640036093\n",
            "Para Cluster numero 12\n",
            "manhattan single 0.7761432026327373\n",
            "Para Cluster numero 13\n",
            "euclidean average 0.7400187343647381\n",
            "Para Cluster numero 14\n",
            "euclidean average 0.7177771326332163\n",
            "Para Cluster numero 15\n",
            "manhattan average 0.7090881449867205\n",
            "Para Cluster numero 16\n",
            "manhattan average 0.7087006385340703\n",
            "Para Cluster numero 17\n",
            "manhattan average 0.7076845252846449\n",
            "Para Cluster numero 18\n",
            "manhattan average 0.7075311844019747\n",
            "Para Cluster numero 19\n",
            "manhattan average 0.7064468073396034\n",
            "Para Cluster numero 20\n",
            "manhattan average 0.7058147420596993\n",
            "Para Cluster numero 21\n",
            "manhattan average 0.7052730004288502\n",
            "Para Cluster numero 22\n",
            "manhattan average 0.6634980180392934\n",
            "Para Cluster numero 23\n",
            "manhattan single 0.6567260905158009\n",
            "Para Cluster numero 24\n",
            "manhattan average 0.6523349097056026\n",
            "Para Cluster numero 25\n",
            "manhattan average 0.650697426073015\n",
            "Para Cluster numero 26\n",
            "manhattan average 0.6478750411471627\n",
            "Para Cluster numero 27\n",
            "manhattan average 0.6475655599041631\n",
            "Para Cluster numero 28\n",
            "manhattan average 0.6471151528512636\n",
            "Para Cluster numero 29\n",
            "manhattan average 0.644946750633911\n",
            "Para Cluster numero 30\n",
            "manhattan average 0.643604914796128\n",
            "Para Cluster numero 31\n",
            "manhattan average 0.6395585007882639\n",
            "Para Cluster numero 32\n",
            "manhattan average 0.6393911480910286\n",
            "Para Cluster numero 33\n",
            "manhattan single 0.5780901260888008\n",
            "Para Cluster numero 34\n",
            "manhattan single 0.5772593941661428\n",
            "Para Cluster numero 35\n",
            "manhattan single 0.5883697110262376\n",
            "Para Cluster numero 36\n",
            "manhattan single 0.6015626829693906\n",
            "Para Cluster numero 37\n",
            "euclidean average 0.5639311484416556\n",
            "Para Cluster numero 38\n",
            "euclidean average 0.5631345950260945\n",
            "Para Cluster numero 39\n",
            "euclidean average 0.5592099642579847\n",
            "Para Cluster numero 40\n",
            "euclidean average 0.5584693385045281\n",
            "Para Cluster numero 41\n",
            "euclidean average 0.5586060002286585\n",
            "Para Cluster numero 42\n",
            "euclidean average 0.5422877646047365\n",
            "Para Cluster numero 43\n",
            "euclidean average 0.541649351648957\n",
            "Para Cluster numero 44\n",
            "euclidean average 0.5415036445186064\n",
            "Para Cluster numero 45\n",
            "euclidean average 0.541302928743073\n",
            "Para Cluster numero 46\n",
            "euclidean average 0.5212644326147564\n",
            "Para Cluster numero 47\n",
            "euclidean average 0.5219400569867226\n",
            "Para Cluster numero 48\n",
            "manhattan average 0.520225048211261\n",
            "Para Cluster numero 49\n",
            "manhattan average 0.5151517652906449\n"
          ]
        }
      ]
    },
    {
      "cell_type": "markdown",
      "source": [
        "###Chosen Cluster"
      ],
      "metadata": {
        "id": "5c-Roa0Fzj4Y"
      }
    },
    {
      "cell_type": "code",
      "source": [
        "def sacarCentrosJerarquico(n,aff,link,datos):\n",
        "  jer = AgglomerativeClustering(n_clusters=n,affinity = aff,linkage = link, compute_full_tree= True)\n",
        "  cluster_labels = jer.fit_predict(datos_h)\n",
        "  clf = NearestCentroid()\n",
        "  clf.fit(datos_h, cluster_labels)\n",
        "  centros = clf.centroids_\n",
        "  print(cluster_labels)\n",
        "  aux=datos.transpose()\n",
        "  m = len(aux)\n",
        "  k = len(aux.columns)\n",
        "  mas_cercanos = []\n",
        "  for c in range(n):\n",
        "    i = 0\n",
        "    val1 = -1\n",
        "    val2= -1\n",
        "    minimo1 = math.inf\n",
        "    minimo2 = math.inf\n",
        "    while i < k:\n",
        "      temp = aux[str(i)]\n",
        "      euc = euclidean_distances([temp], [centros[c]])\n",
        "      if minimo1 > euc[0] or minimo2 == math.inf:\n",
        "        minimo2 = minimo1\n",
        "        minimo1 = euc[0]\n",
        "        val2 = val1\n",
        "        val1 = i\n",
        "      i += 1\n",
        "    mas_cercanos.append(val2)\n",
        "    #mas_cercanos.append(val1)\n",
        "  #print(mas_cercanos)\n",
        "  return list(map(lambda x: str(x), mas_cercanos))\n",
        "\n",
        "n=3\n",
        "aff = 'euclidean'\n",
        "link = 'average'\n",
        "cols = sacarCentrosJerarquico(n,aff,link, data_km)\n",
        "tablaJ = datos[cols].copy()\n",
        "print(tablaJ)\n",
        "#tablaJerarquico(5, datos_h)"
      ],
      "metadata": {
        "id": "8N7tHUBxzoFG",
        "colab": {
          "base_uri": "https://localhost:8080/"
        },
        "outputId": "35fe4410-0575-490c-b63b-79c8f2195d21"
      },
      "execution_count": null,
      "outputs": [
        {
          "output_type": "stream",
          "name": "stdout",
          "text": [
            "[2 2 2 2 2 2 2 2 2 2 2 2 1 2 2 2 2 2 2 2 2 2 2 2 2 2 2 2 2 2 2 2 2 2 2 2 2\n",
            " 2 2 2 2 2 2 2 2 2 2 2 2 2 2 2 2 2 2 2 2 2 2 2 2 2 2 2 2 2 2 2 2 2 2 2 2 2\n",
            " 2 2 2 0 2 2 1 2 2 2 2 1 2 2 2 2 2 2 2 2 2 2 2 2 2 2 2 2 2 2 2 2 2 2 2 2 2\n",
            " 2 2 2 2 2 2 2 2 2 2 2 2 2 2 2 2 2 2 2 2 2 2 2 2 2 2 1 2 2 2 2 2 2 2 2 2 2\n",
            " 2 2 2 2 2 2 2 2 2 2 2 2 2 2 2 2 2 2 2 2 2 2 2 2 2 2 2 2 2 2 2 2 2 2 2 2 2\n",
            " 2 2 2 2 2 2 2 2 2 2 2 2 2 2 2 2 2 2 2 2 2 2 2 2 2 2 2 2 2 2 2 2 2 2 2 2 2\n",
            " 2 2 2 2 2 2 2 1 2 2 2 2 2 2 2 2 2 2 2 2 2 2 2 2 2 2 2 2 2 1 0 2 2 2 2 2 2\n",
            " 2 2 2 2 2 2 2 2 2 2 2 2 2 2 2 2 2 2 2 2 2 2 2 2 2 2 2 2 2 2 2 2 2 2 2 2 2\n",
            " 2 2 2 2 2 2 2 2 2 2 2 2 2 2 2 2 2 2 2 2 2 2 2 2 2 2 2 2 2 2 2 2 2 2 2 2 2\n",
            " 2 2 2 2 2 2 2 2 2 2 2 2 2 2 2 2 2 2 2 0 2 2 2 2 2 2 2 2 2 2 2 2 1 2 2 2 2\n",
            " 2 2 2 2 2 2 1 2 2 2 2 2 2 2 1 2 0 2 2 2 2 2 2 2 2 2 2 2 2 2 2 2 2 2 2 2 2\n",
            " 2 2 2 2 2 2 2 2 2 2 2 2 2 2 2 2 2 2 2 2 2 2 2 2 2 2 2 2 2 2 2 2 2 2 2 2 2\n",
            " 2 2 2 2 2 2 2 2 2 2 2 2 2 2 2 2 2 2 2 2 2 2 2 2 1 2 2 2 2 2 2 2 2 2 2 2 2\n",
            " 2 2 2 2 2 2 2 2 2 2 2 2 2 2 2 2 2 2 2 2 2 2 2 2 2 2 2 2 2 2 2 2 2 2 2 2 2\n",
            " 2 2 2 2 2 2 2 2 2 2 2 2 2 2 2 2 2 2]\n",
            "             352           80         175\n",
            "0   10240.417875  3816.325393  551.562484\n",
            "1    7118.028364  4012.321661  334.903424\n",
            "2    9857.798905  2892.722333  311.536862\n",
            "3    9465.830322  4361.119395  389.768645\n",
            "4   10907.984028  3942.163782  281.756132\n",
            "5    5701.498668  4156.099514  337.775300\n",
            "6   15660.875038  4058.065269  375.167178\n",
            "7   10780.584027  4071.339311  343.544121\n",
            "8   10780.425380  3245.015407  335.056244\n",
            "9    9988.691755  4842.797405  380.551126\n",
            "10   9683.229236  3904.558392  389.170628\n",
            "11   5611.772345  2829.764925  536.559829\n",
            "12   8050.794618  3755.371110  400.457493\n",
            "13  10125.382645  3489.869259  266.435788\n",
            "14   7499.233979  3246.524056  244.376117\n",
            "15   9392.612857  3652.679849  317.191624\n",
            "16  10693.857084  3845.525075  329.954546\n",
            "17   9823.475206  5059.779093  374.968764\n",
            "18   9649.115020  4186.250317  322.480147\n",
            "19   7708.165037  4706.766468  301.291227\n",
            "20  10352.911258  4157.637969  370.456940\n",
            "21   7898.284674  3383.474014  345.498128\n",
            "22  11871.255512  4414.488020  332.753169\n",
            "23  10677.518266  4030.287110  377.975041\n",
            "24  11030.022484  4199.432266  291.507440\n",
            "25   9044.271133  5162.246426  350.180126\n",
            "26   8242.939844  5305.094557  389.161113\n",
            "27   9278.841539  4759.435414  391.046959\n",
            "28  17315.848828  4003.728327  360.597337\n",
            "29   9927.427983  4902.308766  413.699554\n",
            "30   6430.756762  3115.720655  386.205004\n",
            "31   9943.665126  3436.825826  352.318030\n",
            "32   8830.952321  4877.604459  378.681017\n",
            "33   8409.834888  4793.908104  288.894483\n",
            "34   9965.008753  4732.062312  460.573879\n"
          ]
        }
      ]
    },
    {
      "cell_type": "markdown",
      "source": [
        "## Gaussian Mixtures\n"
      ],
      "metadata": {
        "id": "4xLQkIdn-awL"
      }
    },
    {
      "cell_type": "code",
      "source": [
        "for componentes in range(2,7):\n",
        "  for cov in [\"tied\", \"spherical\", \"diag\", \"full\"]:\n",
        "    gm = GaussianMixture(n_components=componentes, random_state=0, covariance_type=cov).fit(datos_gm)\n",
        "    #print(gm.weights_)\n",
        "    suma = 0\n",
        "    cluster = gm.predict(datos_gm)\n",
        "    print(componentes, cov, silhouette_score(datos_gm, cluster))"
      ],
      "metadata": {
        "id": "J47q1TVd_HMg",
        "colab": {
          "base_uri": "https://localhost:8080/"
        },
        "outputId": "7fb6a193-0003-421f-9cbc-41b2f128995d"
      },
      "execution_count": null,
      "outputs": [
        {
          "output_type": "stream",
          "name": "stdout",
          "text": [
            "2 tied 0.9271590087239318\n",
            "2 spherical 0.6468082347616955\n",
            "2 diag 0.644030845949704\n",
            "2 full 0.9271590087239318\n",
            "3 tied 0.8109599818747479\n",
            "3 spherical 0.3108947189211348\n",
            "3 diag 0.31760480676709635\n",
            "3 full 0.809609910880182\n",
            "4 tied 0.7477877114271598\n",
            "4 spherical 0.2763183496400148\n",
            "4 diag 0.28128325856992265\n",
            "4 full 0.49926731388987866\n",
            "5 tied 0.719931870973662\n",
            "5 spherical 0.14682287805966854\n",
            "5 diag 0.2779092229595688\n",
            "5 full 0.7203750578087253\n",
            "6 tied 0.6901194048088648\n",
            "6 spherical 0.2593703922388291\n",
            "6 diag 0.2800651297016287\n",
            "6 full 0.4985066372623718\n"
          ]
        }
      ]
    },
    {
      "cell_type": "code",
      "source": [
        "gm = GaussianMixture(n_components=2, random_state=0, covariance_type=\"tied\").fit(datos_gm)\n",
        "cluster = gm.predict(datos_gm)\n",
        "probabilidad = gm.predict_proba(datos_gm)\n",
        "cluster1 = []\n",
        "cluster2 =  []\n",
        "\n",
        "for i in range(len(probabilidad)):\n",
        "  if probabilidad[i][0] > probabilidad[i][1]:\n",
        "    cluster1.append(i)\n",
        "  else:\n",
        "    cluster2.append(i)\n",
        "print(cluster2)"
      ],
      "metadata": {
        "id": "o1Z7sSZUOV6x",
        "colab": {
          "base_uri": "https://localhost:8080/"
        },
        "outputId": "39858c22-7d97-46c3-b452-f1a5de091198"
      },
      "execution_count": null,
      "outputs": [
        {
          "output_type": "stream",
          "name": "stdout",
          "text": [
            "[77, 229, 252, 352, 365, 386]\n"
          ]
        }
      ]
    },
    {
      "cell_type": "code",
      "source": [
        "#Hacemos 3 clusters\n",
        "gm = GaussianMixture(n_components=3, random_state=0, covariance_type=\"tied\").fit(datos_gm)\n",
        "cluster = gm.predict(datos_gm)\n",
        "probabilidad = gm.predict_proba(datos_gm)\n",
        "# print(probabilidad)\n",
        "clusterGrande = [] #499\n",
        "clusterMediano = [] #32\n",
        "clusterMini = [] #5\n",
        "for i in range(len(probabilidad)):\n",
        "  if probabilidad[i][2] > probabilidad[i][0] and probabilidad[i][2] > probabilidad[i][1]:\n",
        "    clusterMediano.append(i)\n",
        "\n",
        "  elif probabilidad[i][1] > probabilidad[i][0] and probabilidad[i][1] > probabilidad[i][2]:\n",
        "    clusterMini.append(i)\n",
        "\n",
        "  else:\n",
        "    clusterGrande.append(i)\n",
        "\n",
        "#Cantidad por cluster\n",
        "cantidad = [0 for _ in range(3)]\n",
        "for c in cluster:\n",
        "  cantidad[c] += 1\n",
        "print(cantidad)\n",
        "print(clusterMini)\n",
        "print(clusterMediano)\n",
        "print(clusterGrande)\n",
        "#gm.predict(datos_gm)\n",
        "## Cluster 2: 80, 316\n",
        "## Cluster 1: 252, 270\n",
        "## Cluster 0: 520, 451 (Escogi los que deje de representantes)\n",
        "cols = list(map(lambda x: str(x), [80, 316, 252, 270, 520, 451]))\n",
        "#columnas = datos_gm.index[cols]\n",
        "#tablaGM6 = datos[cols].copy()\n",
        "cols = list(map(lambda x: str(x), [80, 252,520]))\n",
        "tablaGM3P = datos[cols].copy()\n",
        "cols = list(map(lambda x: str(x), [316, 270,451]))\n",
        "tablaGM_Alt = datos[cols].copy()\n"
      ],
      "metadata": {
        "id": "tZyiUpbMcXuo",
        "colab": {
          "base_uri": "https://localhost:8080/"
        },
        "outputId": "07e01a90-cdee-4715-c398-646619c57913"
      },
      "execution_count": null,
      "outputs": [
        {
          "output_type": "stream",
          "name": "stdout",
          "text": [
            "[499, 5, 32]\n",
            "[77, 252, 352, 365, 386]\n",
            "[12, 27, 79, 80, 82, 85, 89, 90, 112, 137, 140, 219, 229, 251, 257, 270, 294, 316, 373, 376, 379, 384, 389, 392, 393, 398, 456, 462, 468, 474, 508, 527]\n",
            "[0, 1, 2, 3, 4, 5, 6, 7, 8, 9, 10, 11, 13, 14, 15, 16, 17, 18, 19, 20, 21, 22, 23, 24, 25, 26, 28, 29, 30, 31, 32, 33, 34, 35, 36, 37, 38, 39, 40, 41, 42, 43, 44, 45, 46, 47, 48, 49, 50, 51, 52, 53, 54, 55, 56, 57, 58, 59, 60, 61, 62, 63, 64, 65, 66, 67, 68, 69, 70, 71, 72, 73, 74, 75, 76, 78, 81, 83, 84, 86, 87, 88, 91, 92, 93, 94, 95, 96, 97, 98, 99, 100, 101, 102, 103, 104, 105, 106, 107, 108, 109, 110, 111, 113, 114, 115, 116, 117, 118, 119, 120, 121, 122, 123, 124, 125, 126, 127, 128, 129, 130, 131, 132, 133, 134, 135, 136, 138, 139, 141, 142, 143, 144, 145, 146, 147, 148, 149, 150, 151, 152, 153, 154, 155, 156, 157, 158, 159, 160, 161, 162, 163, 164, 165, 166, 167, 168, 169, 170, 171, 172, 173, 174, 175, 176, 177, 178, 179, 180, 181, 182, 183, 184, 185, 186, 187, 188, 189, 190, 191, 192, 193, 194, 195, 196, 197, 198, 199, 200, 201, 202, 203, 204, 205, 206, 207, 208, 209, 210, 211, 212, 213, 214, 215, 216, 217, 218, 220, 221, 222, 223, 224, 225, 226, 227, 228, 230, 231, 232, 233, 234, 235, 236, 237, 238, 239, 240, 241, 242, 243, 244, 245, 246, 247, 248, 249, 250, 253, 254, 255, 256, 258, 259, 260, 261, 262, 263, 264, 265, 266, 267, 268, 269, 271, 272, 273, 274, 275, 276, 277, 278, 279, 280, 281, 282, 283, 284, 285, 286, 287, 288, 289, 290, 291, 292, 293, 295, 296, 297, 298, 299, 300, 301, 302, 303, 304, 305, 306, 307, 308, 309, 310, 311, 312, 313, 314, 315, 317, 318, 319, 320, 321, 322, 323, 324, 325, 326, 327, 328, 329, 330, 331, 332, 333, 334, 335, 336, 337, 338, 339, 340, 341, 342, 343, 344, 345, 346, 347, 348, 349, 350, 351, 353, 354, 355, 356, 357, 358, 359, 360, 361, 362, 363, 364, 366, 367, 368, 369, 370, 371, 372, 374, 375, 377, 378, 380, 381, 382, 383, 385, 387, 388, 390, 391, 394, 395, 396, 397, 399, 400, 401, 402, 403, 404, 405, 406, 407, 408, 409, 410, 411, 412, 413, 414, 415, 416, 417, 418, 419, 420, 421, 422, 423, 424, 425, 426, 427, 428, 429, 430, 431, 432, 433, 434, 435, 436, 437, 438, 439, 440, 441, 442, 443, 444, 445, 446, 447, 448, 449, 450, 451, 452, 453, 454, 455, 457, 458, 459, 460, 461, 463, 464, 465, 466, 467, 469, 470, 471, 472, 473, 475, 476, 477, 478, 479, 480, 481, 482, 483, 484, 485, 486, 487, 488, 489, 490, 491, 492, 493, 494, 495, 496, 497, 498, 499, 500, 501, 502, 503, 504, 505, 506, 507, 509, 510, 511, 512, 513, 514, 515, 516, 517, 518, 519, 520, 521, 522, 523, 524, 525, 526, 528, 529, 530, 531, 532, 533, 534, 535]\n"
          ]
        }
      ]
    },
    {
      "cell_type": "code",
      "source": [
        "print(tablaGM3P)"
      ],
      "metadata": {
        "colab": {
          "base_uri": "https://localhost:8080/"
        },
        "id": "435p1NeFa7Kn",
        "outputId": "c287d36a-92ab-4c9e-e822-2342482cb222"
      },
      "execution_count": null,
      "outputs": [
        {
          "output_type": "stream",
          "name": "stdout",
          "text": [
            "             80           252         520\n",
            "0   3816.325393  13219.667260  129.014818\n",
            "1   4012.321661  15096.327067  177.705374\n",
            "2   2892.722333  13726.883506   54.693575\n",
            "3   4361.119395  15513.528228  149.013414\n",
            "4   3942.163782  13994.537001   14.066115\n",
            "5   4156.099514  11215.221428   58.767516\n",
            "6   4058.065269  15120.586327  338.132983\n",
            "7   4071.339311  12707.823737  278.785348\n",
            "8   3245.015407  12982.110784  154.765014\n",
            "9   4842.797405  12727.020589  180.360629\n",
            "10  3904.558392  13790.850622  130.832574\n",
            "11  2829.764925  12804.653434   38.781422\n",
            "12  3755.371110  15083.106690  578.155760\n",
            "13  3489.869259  13150.928309   30.836913\n",
            "14  3246.524056  12704.357294   74.999383\n",
            "15  3652.679849  12447.551400  226.775631\n",
            "16  3845.525075  13660.380074   51.632684\n",
            "17  5059.779093  14250.120733   26.920180\n",
            "18  4186.250317  12268.442598   70.763867\n",
            "19  4706.766468  12360.202585   37.795933\n",
            "20  4157.637969  13333.664173   75.241139\n",
            "21  3383.474014  12390.193012   55.494008\n",
            "22  4414.488020  13837.425656   85.532393\n",
            "23  4030.287110  11693.302177   37.226675\n",
            "24  4199.432266  13736.830182   44.956934\n",
            "25  5162.246426  16336.382067  424.684611\n",
            "26  5305.094557  12752.807187   91.021744\n",
            "27  4759.435414  13822.943693   80.146902\n",
            "28  4003.728327  16706.260586  157.717671\n",
            "29  4902.308766  11347.516458   97.804854\n",
            "30  3115.720655  12617.398345   42.178343\n",
            "31  3436.825826  14004.670579   51.630330\n",
            "32  4877.604459  10834.854510   80.029182\n",
            "33  4793.908104  11647.675522   83.284134\n",
            "34  4732.062312  13221.753843   59.889033\n"
          ]
        }
      ]
    },
    {
      "cell_type": "markdown",
      "source": [
        "Se va a escoger el metabolido mas probable, pero como todos son virtualmente igual escogeremos 2 al azar."
      ],
      "metadata": {
        "id": "nAoSRGDYNtCc"
      }
    },
    {
      "cell_type": "code",
      "source": [
        "silhouette_score(datos_gm, cluster)\n"
      ],
      "metadata": {
        "id": "dtZj5zSCYzOe",
        "colab": {
          "base_uri": "https://localhost:8080/"
        },
        "outputId": "e1b4e6cc-8bf1-46fe-bb25-808497329b45"
      },
      "execution_count": null,
      "outputs": [
        {
          "output_type": "execute_result",
          "data": {
            "text/plain": [
              "0.8109599818747479"
            ]
          },
          "metadata": {},
          "execution_count": 47
        }
      ]
    },
    {
      "cell_type": "code",
      "source": [
        "gm.means_"
      ],
      "metadata": {
        "colab": {
          "base_uri": "https://localhost:8080/"
        },
        "id": "agpW2-uX6dtB",
        "outputId": "4210e596-9d1c-4f8c-98ab-877302e0cb83"
      },
      "execution_count": null,
      "outputs": [
        {
          "output_type": "execute_result",
          "data": {
            "text/plain": [
              "array([[  287.89654112,   305.87084456,   276.98541917,   289.89451459,\n",
              "          274.38904882,   260.53786171,   278.04011161,   276.4008717 ,\n",
              "          302.30116962,   330.01566424,   286.54739312,   289.20323345,\n",
              "          313.43987297,   237.5193482 ,   236.46233812,   260.86002141,\n",
              "          275.31927599,   261.15864468,   270.10388232,   247.27846925,\n",
              "          288.90908447,   262.5201875 ,   261.88846687,   278.40641516,\n",
              "          326.41436288,   336.5310045 ,   251.15605886,   296.9866711 ,\n",
              "          297.66336701,   271.64504907,   264.57771118,   268.44029232,\n",
              "          272.34019244,   190.42205964,   281.09791833],\n",
              "       [10479.63111442, 10139.61042176,  9737.64066597, 10677.98673232,\n",
              "        10448.31096842,  7995.83666983, 11384.94482166,  9406.76326401,\n",
              "         9826.68872253,  9498.59348503, 10342.4821548 ,  9674.07487537,\n",
              "         9428.4246887 ,  9156.8585374 ,  8145.29181115,  9175.29847897,\n",
              "        10094.25743442, 10839.71223216,  9774.30681004,  9825.28786387,\n",
              "         9792.50331666,  9493.24249691, 10418.18289285, 10431.81442625,\n",
              "        10868.29689368, 10492.703194  , 10477.72935277, 10455.15210282,\n",
              "        13409.02068241,  9646.21635744,  8738.90360052, 10575.36958096,\n",
              "         9934.44933461,  8828.14675546, 10224.21330802],\n",
              "       [ 2802.62997439,  2624.78907142,  2599.91708214,  2666.79352538,\n",
              "         2394.86658866,  2294.21202387,  2618.54839523,  2440.34053207,\n",
              "         2905.2420245 ,  3370.31859241,  2544.89783257,  2343.47886687,\n",
              "         2974.58668991,  2254.71697638,  2199.24380767,  2484.75297538,\n",
              "         2240.50796115,  2405.33863837,  2709.24896189,  2241.66334834,\n",
              "         2692.74144485,  2331.77352901,  2480.89392183,  2477.10187053,\n",
              "         2925.31381328,  2839.53627319,  2425.31477893,  2780.18539949,\n",
              "         2546.38804873,  2708.89101788,  2244.79836083,  2550.2366463 ,\n",
              "         2679.07735187,  1753.78837213,  2649.93796952]])"
            ]
          },
          "metadata": {},
          "execution_count": 14
        }
      ]
    },
    {
      "cell_type": "code",
      "source": [
        "#Tabla de means\n",
        "def tablaGauss(x, datos, centros):\n",
        "  def sacarTablaNClusters(x, datos, centros):\n",
        "    clusterer = KMeans(n_clusters=x)\n",
        "    aux=datos.transpose()\n",
        "    m = len(aux)\n",
        "    n = len(aux.columns)\n",
        "    mas_cercanos = []\n",
        "    for c in range(x):\n",
        "      i = 0\n",
        "      val = -1\n",
        "      minimo1 = math.inf\n",
        "      while i < n:\n",
        "        temp = aux[str(i)]\n",
        "        euc = euclidean_distances([temp.to_numpy()], [centros[c]])\n",
        "        if minimo1 > euc[0]:\n",
        "          minimo1 = euc[0]\n",
        "          val = i\n",
        "        i += 1\n",
        "      mas_cercanos.append(val)\n",
        "\n",
        "    print(mas_cercanos)\n",
        "    return list(map(lambda x: str(x), mas_cercanos))\n",
        "\n",
        "  cols = sacarTablaNClusters(x, data_km, centros)\n",
        "  datos = datos.transpose()\n",
        "  tablaGM = datos[cols].copy()\n",
        "  return tablaGM\n",
        "\n",
        "tablaGM3 = tablaGauss(3, datos_gm, gm.means_)\n",
        "print(tablaGM3)\n"
      ],
      "metadata": {
        "colab": {
          "base_uri": "https://localhost:8080/",
          "height": 363
        },
        "id": "1VQ_7gQK5jwS",
        "outputId": "a3f8e59a-77d9-4de5-fba9-728e4b2f2f74"
      },
      "execution_count": null,
      "outputs": [
        {
          "output_type": "error",
          "ename": "IndexError",
          "evalue": "ignored",
          "traceback": [
            "\u001b[0;31m---------------------------------------------------------------------------\u001b[0m",
            "\u001b[0;31mIndexError\u001b[0m                                Traceback (most recent call last)",
            "\u001b[0;32m<ipython-input-11-cdd2ab4c5c51>\u001b[0m in \u001b[0;36m<module>\u001b[0;34m\u001b[0m\n\u001b[1;32m     28\u001b[0m   \u001b[0;32mreturn\u001b[0m \u001b[0mtablaGM\u001b[0m\u001b[0;34m\u001b[0m\u001b[0;34m\u001b[0m\u001b[0m\n\u001b[1;32m     29\u001b[0m \u001b[0;34m\u001b[0m\u001b[0m\n\u001b[0;32m---> 30\u001b[0;31m \u001b[0mtablaGM3\u001b[0m \u001b[0;34m=\u001b[0m \u001b[0mtablaGauss\u001b[0m\u001b[0;34m(\u001b[0m\u001b[0;36m3\u001b[0m\u001b[0;34m,\u001b[0m \u001b[0mdatos_gm\u001b[0m\u001b[0;34m,\u001b[0m \u001b[0mgm\u001b[0m\u001b[0;34m.\u001b[0m\u001b[0mmeans_\u001b[0m\u001b[0;34m)\u001b[0m\u001b[0;34m\u001b[0m\u001b[0;34m\u001b[0m\u001b[0m\n\u001b[0m\u001b[1;32m     31\u001b[0m \u001b[0mprint\u001b[0m\u001b[0;34m(\u001b[0m\u001b[0mtablaGM3\u001b[0m\u001b[0;34m)\u001b[0m\u001b[0;34m\u001b[0m\u001b[0;34m\u001b[0m\u001b[0m\n",
            "\u001b[0;32m<ipython-input-11-cdd2ab4c5c51>\u001b[0m in \u001b[0;36mtablaGauss\u001b[0;34m(x, datos, centros)\u001b[0m\n\u001b[1;32m     23\u001b[0m     \u001b[0;32mreturn\u001b[0m \u001b[0mlist\u001b[0m\u001b[0;34m(\u001b[0m\u001b[0mmap\u001b[0m\u001b[0;34m(\u001b[0m\u001b[0;32mlambda\u001b[0m \u001b[0mx\u001b[0m\u001b[0;34m:\u001b[0m \u001b[0mstr\u001b[0m\u001b[0;34m(\u001b[0m\u001b[0mx\u001b[0m\u001b[0;34m)\u001b[0m\u001b[0;34m,\u001b[0m \u001b[0mmas_cercanos\u001b[0m\u001b[0;34m)\u001b[0m\u001b[0;34m)\u001b[0m\u001b[0;34m\u001b[0m\u001b[0;34m\u001b[0m\u001b[0m\n\u001b[1;32m     24\u001b[0m \u001b[0;34m\u001b[0m\u001b[0m\n\u001b[0;32m---> 25\u001b[0;31m   \u001b[0mcols\u001b[0m \u001b[0;34m=\u001b[0m \u001b[0msacarTablaNClusters\u001b[0m\u001b[0;34m(\u001b[0m\u001b[0mx\u001b[0m\u001b[0;34m,\u001b[0m \u001b[0mdata_km\u001b[0m\u001b[0;34m,\u001b[0m \u001b[0mcentros\u001b[0m\u001b[0;34m)\u001b[0m\u001b[0;34m\u001b[0m\u001b[0;34m\u001b[0m\u001b[0m\n\u001b[0m\u001b[1;32m     26\u001b[0m   \u001b[0mdatos\u001b[0m \u001b[0;34m=\u001b[0m \u001b[0mdatos\u001b[0m\u001b[0;34m.\u001b[0m\u001b[0mtranspose\u001b[0m\u001b[0;34m(\u001b[0m\u001b[0;34m)\u001b[0m\u001b[0;34m\u001b[0m\u001b[0;34m\u001b[0m\u001b[0m\n\u001b[1;32m     27\u001b[0m   \u001b[0mtablaGM\u001b[0m \u001b[0;34m=\u001b[0m \u001b[0mdatos\u001b[0m\u001b[0;34m[\u001b[0m\u001b[0mcols\u001b[0m\u001b[0;34m]\u001b[0m\u001b[0;34m.\u001b[0m\u001b[0mcopy\u001b[0m\u001b[0;34m(\u001b[0m\u001b[0;34m)\u001b[0m\u001b[0;34m\u001b[0m\u001b[0;34m\u001b[0m\u001b[0m\n",
            "\u001b[0;32m<ipython-input-11-cdd2ab4c5c51>\u001b[0m in \u001b[0;36msacarTablaNClusters\u001b[0;34m(x, datos, centros)\u001b[0m\n\u001b[1;32m     13\u001b[0m       \u001b[0;32mwhile\u001b[0m \u001b[0mi\u001b[0m \u001b[0;34m<\u001b[0m \u001b[0mn\u001b[0m\u001b[0;34m:\u001b[0m\u001b[0;34m\u001b[0m\u001b[0;34m\u001b[0m\u001b[0m\n\u001b[1;32m     14\u001b[0m         \u001b[0mtemp\u001b[0m \u001b[0;34m=\u001b[0m \u001b[0maux\u001b[0m\u001b[0;34m[\u001b[0m\u001b[0mstr\u001b[0m\u001b[0;34m(\u001b[0m\u001b[0mi\u001b[0m\u001b[0;34m)\u001b[0m\u001b[0;34m]\u001b[0m\u001b[0;34m\u001b[0m\u001b[0;34m\u001b[0m\u001b[0m\n\u001b[0;32m---> 15\u001b[0;31m         \u001b[0meuc\u001b[0m \u001b[0;34m=\u001b[0m \u001b[0meuclidean_distances\u001b[0m\u001b[0;34m(\u001b[0m\u001b[0;34m[\u001b[0m\u001b[0mtemp\u001b[0m\u001b[0;34m.\u001b[0m\u001b[0mto_numpy\u001b[0m\u001b[0;34m(\u001b[0m\u001b[0;34m)\u001b[0m\u001b[0;34m]\u001b[0m\u001b[0;34m,\u001b[0m \u001b[0;34m[\u001b[0m\u001b[0mcentros\u001b[0m\u001b[0;34m[\u001b[0m\u001b[0mc\u001b[0m\u001b[0;34m]\u001b[0m\u001b[0;34m]\u001b[0m\u001b[0;34m)\u001b[0m\u001b[0;34m\u001b[0m\u001b[0;34m\u001b[0m\u001b[0m\n\u001b[0m\u001b[1;32m     16\u001b[0m         \u001b[0;32mif\u001b[0m \u001b[0mminimo1\u001b[0m \u001b[0;34m>\u001b[0m \u001b[0meuc\u001b[0m\u001b[0;34m[\u001b[0m\u001b[0;36m0\u001b[0m\u001b[0;34m]\u001b[0m\u001b[0;34m:\u001b[0m\u001b[0;34m\u001b[0m\u001b[0;34m\u001b[0m\u001b[0m\n\u001b[1;32m     17\u001b[0m           \u001b[0mminimo1\u001b[0m \u001b[0;34m=\u001b[0m \u001b[0meuc\u001b[0m\u001b[0;34m[\u001b[0m\u001b[0;36m0\u001b[0m\u001b[0;34m]\u001b[0m\u001b[0;34m\u001b[0m\u001b[0;34m\u001b[0m\u001b[0m\n",
            "\u001b[0;31mIndexError\u001b[0m: index 2 is out of bounds for axis 0 with size 2"
          ]
        }
      ]
    },
    {
      "cell_type": "code",
      "source": [
        "#Encontrar 5 representantes de cada cluster\n",
        "def sacarTablaNClusters(x, datos, centros):\n",
        "    clusterer = KMeans(n_clusters=x)\n",
        "    aux=datos.transpose()\n",
        "    m = len(aux)\n",
        "    n = len(aux.columns)\n",
        "    mas_cercanos = []\n",
        "    posicion = []\n",
        "    for v in range(5):\n",
        "      for c in range(x):\n",
        "        i = 0\n",
        "        val = -1\n",
        "        minimo1 = math.inf\n",
        "        while i < n:\n",
        "          temp = aux[str(i)]\n",
        "          euc = euclidean_distances([temp.to_numpy()], [centros[c]])\n",
        "          if minimo1 > euc[0] and not(i in mas_cercanos):\n",
        "            minimo1 = euc[0]\n",
        "            val = i\n",
        "          i += 1\n",
        "        mas_cercanos.append(val)\n",
        "        posicion.append(c)\n",
        "\n",
        "    print(mas_cercanos)\n",
        "    print(posicion)\n",
        "\n",
        "sacarTablaNClusters(2, datos_gm, gm.means_)"
      ],
      "metadata": {
        "colab": {
          "base_uri": "https://localhost:8080/"
        },
        "id": "R5YJsJ0kNuHA",
        "outputId": "294b53be-7521-4df5-8bda-08429c7185c7"
      },
      "execution_count": null,
      "outputs": [
        {
          "output_type": "stream",
          "name": "stdout",
          "text": [
            "[175, 77, 92, 352, 458, 365, 196, 386, 160, 229]\n",
            "[0, 1, 0, 1, 0, 1, 0, 1, 0, 1]\n"
          ]
        }
      ]
    },
    {
      "cell_type": "code",
      "source": [
        "cols = list(map(lambda x: str(x), [135, 386,384 ]))\n",
        "tablaGM_Alt2 = datos[cols].copy()"
      ],
      "metadata": {
        "id": "owWM-_v5kMu4"
      },
      "execution_count": null,
      "outputs": []
    },
    {
      "cell_type": "markdown",
      "source": [
        "#Siguiente etapa\n",
        "1. crear subdatasets\n",
        "2. tecnicas de prediccion:\n",
        "  - estadistica clasica\n",
        "  - regresion logistica\n",
        "  - random forest\n",
        "  - maquinas de vectores de soporte\n",
        "  - perceptron multicapa\n",
        "  - kvecinos mas cercanos(a tener en cuenta)\n",
        "\n",
        "hacer grilla con jerarquico\n",
        "\n",
        "como construir los data sets - a discutir\n",
        "\n",
        "\n"
      ],
      "metadata": {
        "id": "uDWtn54scq6J"
      }
    },
    {
      "cell_type": "code",
      "source": [
        "from sklearn.linear_model import LogisticRegression\n",
        "from sklearn.neighbors import KNeighborsClassifier\n",
        "from sklearn.ensemble import RandomForestClassifier\n",
        "from sklearn.datasets import make_classification\n",
        "from sklearn.model_selection import RepeatedKFold\n",
        "from sklearn.model_selection import cross_val_score\n",
        "from sklearn.model_selection import GridSearchCV\n",
        "from sklearn.linear_model import LogisticRegression\n",
        "from sklearn.pipeline import Pipeline\n",
        "#X = tablaGM3, tablaGM3P\n",
        "#X = data_km, tablaKM_Alt3, tablaKM_Alt5\n",
        "#X = tablaAH"
      ],
      "metadata": {
        "id": "PJQdFARIkb5W"
      },
      "execution_count": null,
      "outputs": []
    },
    {
      "cell_type": "markdown",
      "source": [
        "# Mixutras Gaussianas con Probabilidad (2 clusters / 2 representantes)"
      ],
      "metadata": {
        "id": "WDqH7rlmIZjb"
      }
    },
    {
      "cell_type": "code",
      "source": [
        "modelos_GM_3 = []\n",
        "cols = list(map(lambda x: str(x), [252,520]))\n",
        "tablaGM3 = datos[cols].copy()\n",
        "X = tablaGM3\n"
      ],
      "metadata": {
        "id": "VwYYh2hDIZjd"
      },
      "execution_count": null,
      "outputs": []
    },
    {
      "cell_type": "markdown",
      "source": [
        "##Regresion Logistica"
      ],
      "metadata": {
        "id": "2yuNFd_kIZje"
      }
    },
    {
      "cell_type": "markdown",
      "source": [
        "###Regresion con CV"
      ],
      "metadata": {
        "id": "pG_ZeOKWIZjf"
      }
    },
    {
      "cell_type": "code",
      "source": [
        "cv = RepeatedKFold(n_splits=7, n_repeats=3, random_state=0)\n",
        "# create model\n",
        "model = LogisticRegression()\n",
        "# evaluate model\n",
        "scores = cross_val_score(model, X, y, scoring='f1', cv=cv, n_jobs=-1)\n",
        "# report performance\n",
        "print(scores)\n",
        "np.mean(scores)"
      ],
      "metadata": {
        "colab": {
          "base_uri": "https://localhost:8080/"
        },
        "outputId": "856d89e6-8144-4d82-9bd0-47367f7a3d04",
        "id": "sCGn4KXhIZjf"
      },
      "execution_count": null,
      "outputs": [
        {
          "output_type": "stream",
          "name": "stdout",
          "text": [
            "[0.66666667 0.57142857 0.         1.         0.75       1.\n",
            " 0.75       0.75       1.         0.         0.88888889 0.88888889\n",
            " 0.         1.         0.85714286 0.75       1.         0.5\n",
            " 0.75       0.33333333 0.75      ]\n"
          ]
        },
        {
          "output_type": "execute_result",
          "data": {
            "text/plain": [
              "0.6764928193499623"
            ]
          },
          "metadata": {},
          "execution_count": 25
        }
      ]
    },
    {
      "cell_type": "markdown",
      "source": [
        "###Gridsearch"
      ],
      "metadata": {
        "id": "Q5ZDWY85IZjg"
      }
    },
    {
      "cell_type": "code",
      "source": [
        "\n",
        "grid={\"C\":np.logspace(-3,3,7), \"penalty\":[\"l1\",\"l2\"]}# l1 lasso l2 ridge\n",
        "logreg=LogisticRegression(solver='liblinear', max_iter=300)\n",
        "logreg_cv=GridSearchCV(logreg, grid, cv=cv)\n",
        "logreg_cv.fit(X,y)\n",
        "print(\"best parameters: \",logreg_cv.best_params_)\n",
        "print(\"accuracy :\",logreg_cv.best_score_)\n",
        "\n",
        "modelos_GM_3.append( [\"Logistic Reg\", logreg_cv.best_params_, logreg_cv.best_score_ ] )"
      ],
      "metadata": {
        "colab": {
          "base_uri": "https://localhost:8080/"
        },
        "outputId": "3dec642e-d980-40e7-940e-5f4349556401",
        "id": "W7FvBsK7IZjg"
      },
      "execution_count": null,
      "outputs": [
        {
          "output_type": "stream",
          "name": "stdout",
          "text": [
            "best parameters:  {'C': 0.001, 'penalty': 'l2'}\n",
            "accuracy : 0.6285714285714284\n"
          ]
        }
      ]
    },
    {
      "cell_type": "markdown",
      "source": [
        "##K-vecinos mas cercanos"
      ],
      "metadata": {
        "id": "BIXS5GdfIZjh"
      }
    },
    {
      "cell_type": "markdown",
      "source": [
        "### CV"
      ],
      "metadata": {
        "id": "vDz1FGEmIZjh"
      }
    },
    {
      "cell_type": "code",
      "source": [
        "cv = RepeatedKFold(n_splits=7, n_repeats=3, random_state=0)\n",
        "# create model\n",
        "model = KNeighborsClassifier(n_neighbors=3)\n",
        "# evaluate model\n",
        "scores = cross_val_score(model, X, y, scoring='f1', cv=cv, n_jobs=-1)\n",
        "# report performance\n",
        "print(scores)\n",
        "np.mean(scores)"
      ],
      "metadata": {
        "colab": {
          "base_uri": "https://localhost:8080/"
        },
        "outputId": "24621dac-f34a-4de5-accc-461efd92ab2c",
        "id": "bXo8COtMIZjh"
      },
      "execution_count": null,
      "outputs": [
        {
          "output_type": "stream",
          "name": "stdout",
          "text": [
            "[0.4        0.66666667 0.         1.         0.85714286 0.75\n",
            " 0.75       0.85714286 1.         0.         0.88888889 0.33333333\n",
            " 0.         0.85714286 0.57142857 0.75       1.         0.66666667\n",
            " 0.85714286 0.57142857 0.85714286]\n"
          ]
        },
        {
          "output_type": "execute_result",
          "data": {
            "text/plain": [
              "0.649244142101285"
            ]
          },
          "metadata": {},
          "execution_count": 27
        }
      ]
    },
    {
      "cell_type": "markdown",
      "source": [
        "### GridSearch"
      ],
      "metadata": {
        "id": "cifNqIRpIZji"
      }
    },
    {
      "cell_type": "code",
      "source": [
        "params = {\n",
        "    'n_neighbors': range(2,6),\n",
        "    'weights': ['uniform', 'distance'],\n",
        "    'p': [1,2,3]\n",
        "    }\n",
        "\n",
        "kn_cv = GridSearchCV(\n",
        "    KNeighborsClassifier(),\n",
        "    params,\n",
        "    cv=cv,\n",
        "    n_jobs=-1\n",
        ")\n",
        "\n",
        "kn_cv.fit(X,y)\n",
        "print(\"best parameters \",kn_cv.best_params_)\n",
        "print(\"accuracy :\",kn_cv.best_score_)\n",
        "\n",
        "modelos_GM_3.append( [\"K Vecinos\", kn_cv.best_params_, kn_cv.best_score_ ] )"
      ],
      "metadata": {
        "colab": {
          "base_uri": "https://localhost:8080/"
        },
        "outputId": "c73a7dab-8514-420a-ef0f-a39d40c45da0",
        "id": "7xLIfe0_IZji"
      },
      "execution_count": null,
      "outputs": [
        {
          "output_type": "stream",
          "name": "stdout",
          "text": [
            "best parameters  {'n_neighbors': 5, 'p': 3, 'weights': 'distance'}\n",
            "accuracy : 0.6952380952380953\n"
          ]
        }
      ]
    },
    {
      "cell_type": "markdown",
      "source": [],
      "metadata": {
        "id": "uV_aSwYbIZji"
      }
    },
    {
      "cell_type": "markdown",
      "source": [
        "##Random Forest"
      ],
      "metadata": {
        "id": "NZd5k_P7IZjj"
      }
    },
    {
      "cell_type": "code",
      "source": [
        "pipeline = Pipeline((\n",
        "    ('clf', RandomForestClassifier(random_state=0)),\n",
        "    ))\n",
        "\n",
        "parameters = {\n",
        "    'clf__n_estimators': [10, 100, 200],\n",
        "    'clf__criterion': ['gini', 'entropy'],\n",
        "    'clf__max_depth': [10, 100, 1000]\n",
        "    }\n",
        "grid = GridSearchCV(pipeline, param_grid = parameters, scoring=\"f1\", cv=10, n_jobs=-1)\n",
        "clf = RandomForestClassifier(n_estimators=1000)\n",
        "grid.fit(X,y)\n",
        "print(grid.best_params_)\n",
        "print(grid.best_score_)\n",
        "clf_randomForest = grid.best_estimator_\n",
        "\n",
        "modelos_GM_3.append( [\"Random Forest\", grid.best_params_, grid.best_score_ ] )"
      ],
      "metadata": {
        "colab": {
          "base_uri": "https://localhost:8080/"
        },
        "outputId": "a8cc2a04-bb81-4716-bde5-98202482ab9a",
        "id": "9AouMAwCIZjj"
      },
      "execution_count": null,
      "outputs": [
        {
          "output_type": "stream",
          "name": "stdout",
          "text": [
            "{'clf__criterion': 'entropy', 'clf__max_depth': 10, 'clf__n_estimators': 10}\n",
            "0.6766666666666666\n"
          ]
        }
      ]
    },
    {
      "cell_type": "code",
      "source": [
        "for modelo in modelos_GM_3:\n",
        "  print(modelo[0], \":\")\n",
        "  print(\"---Parametros: \", modelo[1])\n",
        "  print(\"---f1 score:\", modelo[2])"
      ],
      "metadata": {
        "colab": {
          "base_uri": "https://localhost:8080/"
        },
        "outputId": "b013939e-cfc0-4e51-bb58-998a3a08b4f5",
        "id": "0XL4gBDvIZjk"
      },
      "execution_count": null,
      "outputs": [
        {
          "output_type": "stream",
          "name": "stdout",
          "text": [
            "Logistic Reg :\n",
            "---Parametros:  {'C': 0.001, 'penalty': 'l2'}\n",
            "---f1 score: 0.6285714285714284\n",
            "K Vecinos :\n",
            "---Parametros:  {'n_neighbors': 5, 'p': 3, 'weights': 'distance'}\n",
            "---f1 score: 0.6952380952380953\n",
            "Random Forest :\n",
            "---Parametros:  {'clf__criterion': 'entropy', 'clf__max_depth': 10, 'clf__n_estimators': 10}\n",
            "---f1 score: 0.6766666666666666\n"
          ]
        }
      ]
    },
    {
      "cell_type": "markdown",
      "source": [
        "# Mixutras Gaussianas con Cercania (2 clusters / 2 representantes)"
      ],
      "metadata": {
        "id": "4ioAkUYYJW75"
      }
    },
    {
      "cell_type": "code",
      "source": [
        "modelos_GM_3 = []\n",
        "cols = list(map(lambda x: str(x), [77,175]))\n",
        "tablaGM3 = datos[cols].copy()\n",
        "X = tablaGM3\n"
      ],
      "metadata": {
        "id": "8fMQ6DeXJW75"
      },
      "execution_count": null,
      "outputs": []
    },
    {
      "cell_type": "markdown",
      "source": [
        "##Regresion Logistica"
      ],
      "metadata": {
        "id": "dPUKSbamJW76"
      }
    },
    {
      "cell_type": "markdown",
      "source": [
        "###Regresion con CV"
      ],
      "metadata": {
        "id": "UMTOKJbWJW76"
      }
    },
    {
      "cell_type": "code",
      "source": [
        "cv = RepeatedKFold(n_splits=7, n_repeats=3, random_state=0)\n",
        "# create model\n",
        "model = LogisticRegression()\n",
        "# evaluate model\n",
        "scores = cross_val_score(model, X, y, scoring='f1', cv=cv, n_jobs=-1)\n",
        "# report performance\n",
        "print(scores)\n",
        "np.mean(scores)"
      ],
      "metadata": {
        "colab": {
          "base_uri": "https://localhost:8080/"
        },
        "outputId": "8c6ecadf-2b99-499b-fbe2-c01bf284a874",
        "id": "jrFEowx1JW76"
      },
      "execution_count": null,
      "outputs": [
        {
          "output_type": "stream",
          "name": "stdout",
          "text": [
            "[0.4        0.33333333 0.         0.75       0.85714286 0.88888889\n",
            " 0.88888889 0.85714286 0.66666667 0.         0.88888889 0.57142857\n",
            " 0.57142857 1.         0.33333333 0.75       0.88888889 0.33333333\n",
            " 0.85714286 0.57142857 0.75      ]\n"
          ]
        },
        {
          "output_type": "execute_result",
          "data": {
            "text/plain": [
              "0.6265684051398337"
            ]
          },
          "metadata": {},
          "execution_count": 42
        }
      ]
    },
    {
      "cell_type": "markdown",
      "source": [
        "###Gridsearch"
      ],
      "metadata": {
        "id": "k5Mi6xhpJW76"
      }
    },
    {
      "cell_type": "code",
      "source": [
        "\n",
        "grid={\"C\":np.logspace(-3,3,7), \"penalty\":[\"l1\",\"l2\"]}# l1 lasso l2 ridge\n",
        "logreg=LogisticRegression(solver='liblinear', max_iter=300)\n",
        "logreg_cv=GridSearchCV(logreg, grid, cv=cv)\n",
        "logreg_cv.fit(X,y)\n",
        "print(\"best parameters: \",logreg_cv.best_params_)\n",
        "print(\"accuracy :\",logreg_cv.best_score_)\n",
        "\n",
        "modelos_GM_3.append( [\"Logistic Reg\", logreg_cv.best_params_, logreg_cv.best_score_ ] )"
      ],
      "metadata": {
        "colab": {
          "base_uri": "https://localhost:8080/"
        },
        "outputId": "0abd7fd8-1637-4925-ec0d-fb0bc22c4bb3",
        "id": "uockArHhJW77"
      },
      "execution_count": null,
      "outputs": [
        {
          "output_type": "stream",
          "name": "stdout",
          "text": [
            "best parameters:  {'C': 0.001, 'penalty': 'l1'}\n",
            "accuracy : 0.6285714285714287\n"
          ]
        }
      ]
    },
    {
      "cell_type": "markdown",
      "source": [
        "##K-vecinos mas cercanos"
      ],
      "metadata": {
        "id": "wQ6BrEUBJW79"
      }
    },
    {
      "cell_type": "markdown",
      "source": [
        "### CV"
      ],
      "metadata": {
        "id": "p6ub-E2VJW79"
      }
    },
    {
      "cell_type": "code",
      "source": [
        "cv = RepeatedKFold(n_splits=7, n_repeats=3, random_state=0)\n",
        "# create model\n",
        "model = KNeighborsClassifier(n_neighbors=3)\n",
        "# evaluate model\n",
        "scores = cross_val_score(model, X, y, scoring='f1', cv=cv, n_jobs=-1)\n",
        "# report performance\n",
        "print(scores)\n",
        "np.mean(scores)"
      ],
      "metadata": {
        "colab": {
          "base_uri": "https://localhost:8080/"
        },
        "outputId": "0736f076-ef31-4a29-a0ec-c9dd4a8d9674",
        "id": "J9bP5ivUJW7-"
      },
      "execution_count": null,
      "outputs": [
        {
          "output_type": "stream",
          "name": "stdout",
          "text": [
            "[0.33333333 0.66666667 0.         0.75       1.         1.\n",
            " 0.57142857 0.85714286 0.57142857 0.         0.88888889 0.4\n",
            " 0.         0.88888889 0.66666667 0.75       0.75       0.4\n",
            " 0.85714286 0.66666667 0.66666667]\n"
          ]
        },
        {
          "output_type": "execute_result",
          "data": {
            "text/plain": [
              "0.6040438397581255"
            ]
          },
          "metadata": {},
          "execution_count": 44
        }
      ]
    },
    {
      "cell_type": "markdown",
      "source": [
        "### GridSearch"
      ],
      "metadata": {
        "id": "tchg7yLxJW7-"
      }
    },
    {
      "cell_type": "code",
      "source": [
        "params = {\n",
        "    'n_neighbors': range(2,6),\n",
        "    'weights': ['uniform', 'distance'],\n",
        "    'p': [1,2,3]\n",
        "    }\n",
        "\n",
        "kn_cv = GridSearchCV(\n",
        "    KNeighborsClassifier(),\n",
        "    params,\n",
        "    cv=cv,\n",
        "    n_jobs=-1\n",
        ")\n",
        "\n",
        "kn_cv.fit(X,y)\n",
        "print(\"best parameters \",kn_cv.best_params_)\n",
        "print(\"accuracy :\",kn_cv.best_score_)\n",
        "\n",
        "modelos_GM_3.append( [\"K Vecinos\", kn_cv.best_params_, kn_cv.best_score_ ] )"
      ],
      "metadata": {
        "colab": {
          "base_uri": "https://localhost:8080/"
        },
        "outputId": "64e4aae8-0e55-4796-95d3-dab8673dc49f",
        "id": "ySLvJfULJW7-"
      },
      "execution_count": null,
      "outputs": [
        {
          "output_type": "stream",
          "name": "stdout",
          "text": [
            "best parameters  {'n_neighbors': 5, 'p': 1, 'weights': 'uniform'}\n",
            "accuracy : 0.6095238095238096\n"
          ]
        }
      ]
    },
    {
      "cell_type": "markdown",
      "source": [],
      "metadata": {
        "id": "3prS5kU3JW7_"
      }
    },
    {
      "cell_type": "markdown",
      "source": [
        "##Random Forest"
      ],
      "metadata": {
        "id": "OX-gcozBJW7_"
      }
    },
    {
      "cell_type": "code",
      "source": [
        "pipeline = Pipeline((\n",
        "    ('clf', RandomForestClassifier(random_state=0)),\n",
        "    ))\n",
        "\n",
        "parameters = {\n",
        "    'clf__n_estimators': [10, 100, 200],\n",
        "    'clf__criterion': ['gini', 'entropy'],\n",
        "    'clf__max_depth': [10, 100, 1000]\n",
        "    }\n",
        "grid = GridSearchCV(pipeline, param_grid = parameters, scoring=\"f1\", cv=10, n_jobs=-1)\n",
        "clf = RandomForestClassifier(n_estimators=1000)\n",
        "grid.fit(X,y)\n",
        "print(grid.best_params_)\n",
        "print(grid.best_score_)\n",
        "clf_randomForest = grid.best_estimator_\n",
        "\n",
        "modelos_GM_3.append( [\"Random Forest\", grid.best_params_, grid.best_score_ ] )"
      ],
      "metadata": {
        "colab": {
          "base_uri": "https://localhost:8080/"
        },
        "outputId": "df042e4e-2724-45a5-df79-53042a9ccc7b",
        "id": "YYR2tI3kJW7_"
      },
      "execution_count": null,
      "outputs": [
        {
          "output_type": "stream",
          "name": "stdout",
          "text": [
            "{'clf__criterion': 'gini', 'clf__max_depth': 10, 'clf__n_estimators': 100}\n",
            "0.62\n"
          ]
        }
      ]
    },
    {
      "cell_type": "code",
      "source": [
        "for modelo in modelos_GM_3:\n",
        "  print(modelo[0], \":\")\n",
        "  print(\"---Parametros: \", modelo[1])\n",
        "  print(\"---f1 score:\", modelo[2])"
      ],
      "metadata": {
        "colab": {
          "base_uri": "https://localhost:8080/"
        },
        "outputId": "3f60f8a7-d51c-4de0-e8db-d58ef2242cb3",
        "id": "Xpxm5lYLJW7_"
      },
      "execution_count": null,
      "outputs": [
        {
          "output_type": "stream",
          "name": "stdout",
          "text": [
            "Logistic Reg :\n",
            "---Parametros:  {'C': 0.001, 'penalty': 'l1'}\n",
            "---f1 score: 0.6285714285714287\n",
            "K Vecinos :\n",
            "---Parametros:  {'n_neighbors': 5, 'p': 1, 'weights': 'uniform'}\n",
            "---f1 score: 0.6095238095238096\n",
            "Random Forest :\n",
            "---Parametros:  {'clf__criterion': 'gini', 'clf__max_depth': 10, 'clf__n_estimators': 100}\n",
            "---f1 score: 0.62\n"
          ]
        }
      ]
    },
    {
      "cell_type": "markdown",
      "source": [
        "# Mixutras Gaussianas con Cercania (3 clusters / 3 representantes)"
      ],
      "metadata": {
        "id": "a1kF8xjdS5y9"
      }
    },
    {
      "cell_type": "code",
      "source": [
        "modelos_GM_3 = []\n",
        "X = tablaGM3\n"
      ],
      "metadata": {
        "id": "91t36n_xS5y-"
      },
      "execution_count": null,
      "outputs": []
    },
    {
      "cell_type": "markdown",
      "source": [
        "##Regresion Logistica"
      ],
      "metadata": {
        "id": "E3k1hLb3S5y9"
      }
    },
    {
      "cell_type": "markdown",
      "source": [
        "###Regresion con CV"
      ],
      "metadata": {
        "id": "r7Z1QwUGS5y-"
      }
    },
    {
      "cell_type": "code",
      "source": [
        "cv = RepeatedKFold(n_splits=7, n_repeats=3, random_state=0)\n",
        "# create model\n",
        "model = LogisticRegression()\n",
        "# evaluate model\n",
        "scores = cross_val_score(model, X, y, scoring='f1', cv=cv, n_jobs=-1)\n",
        "# report performance\n",
        "print(scores)\n",
        "np.mean(scores)"
      ],
      "metadata": {
        "colab": {
          "base_uri": "https://localhost:8080/"
        },
        "outputId": "660518d1-a873-4463-a528-32640eaa4620",
        "id": "NVg2MDeGS5y-"
      },
      "execution_count": null,
      "outputs": [
        {
          "output_type": "stream",
          "name": "stdout",
          "text": [
            "[0.57142857 0.88888889 0.         0.75       0.57142857 0.75\n",
            " 0.88888889 0.75       0.88888889 0.         0.88888889 0.88888889\n",
            " 0.75       0.88888889 0.75       0.75       0.88888889 0.33333333\n",
            " 0.75       0.75       0.88888889]\n"
          ]
        },
        {
          "output_type": "execute_result",
          "data": {
            "text/plain": [
              "0.6946334089191232"
            ]
          },
          "metadata": {},
          "execution_count": 28
        }
      ]
    },
    {
      "cell_type": "markdown",
      "source": [
        "###Gridsearch"
      ],
      "metadata": {
        "id": "jgail-tRS5y-"
      }
    },
    {
      "cell_type": "code",
      "source": [
        "\n",
        "grid={\"C\":np.logspace(-3,3,7), \"penalty\":[\"l1\",\"l2\"]}# l1 lasso l2 ridge\n",
        "logreg=LogisticRegression(solver='liblinear', max_iter=300)\n",
        "logreg_cv=GridSearchCV(logreg, grid, cv=cv)\n",
        "logreg_cv.fit(X,y)\n",
        "print(\"best parameters: \",logreg_cv.best_params_)\n",
        "print(\"accuracy :\",logreg_cv.best_score_)\n",
        "\n",
        "modelos_GM_3.append( [\"Logistic Reg\", logreg_cv.best_params_, logreg_cv.best_score_ ] )"
      ],
      "metadata": {
        "colab": {
          "base_uri": "https://localhost:8080/"
        },
        "outputId": "dfb92957-406b-459f-f4b2-0dee6f0e0351",
        "id": "YBhpESCcS5y-"
      },
      "execution_count": null,
      "outputs": [
        {
          "output_type": "stream",
          "name": "stdout",
          "text": [
            "best parameters:  {'C': 0.001, 'penalty': 'l1'}\n",
            "accuracy : 0.6285714285714287\n"
          ]
        }
      ]
    },
    {
      "cell_type": "markdown",
      "source": [
        "##K-vecinos mas cercanos"
      ],
      "metadata": {
        "id": "3yseiO3QS5y_"
      }
    },
    {
      "cell_type": "markdown",
      "source": [
        "### CV"
      ],
      "metadata": {
        "id": "8Lkz2NxhS5y_"
      }
    },
    {
      "cell_type": "code",
      "source": [
        "cv = RepeatedKFold(n_splits=7, n_repeats=3, random_state=0)\n",
        "# create model\n",
        "model = KNeighborsClassifier(n_neighbors=3)\n",
        "# evaluate model\n",
        "scores = cross_val_score(model, X, y, scoring='f1', cv=cv, n_jobs=-1)\n",
        "# report performance\n",
        "print(scores)\n",
        "np.mean(scores)"
      ],
      "metadata": {
        "colab": {
          "base_uri": "https://localhost:8080/"
        },
        "outputId": "d1a9a7b7-1307-481a-d11a-ce8ab8aba652",
        "id": "AdEpv-PFS5y_"
      },
      "execution_count": null,
      "outputs": [
        {
          "output_type": "stream",
          "name": "stdout",
          "text": [
            "[0.8        0.66666667 0.         0.57142857 0.85714286 0.85714286\n",
            " 0.85714286 0.57142857 1.         0.         0.57142857 0.75\n",
            " 0.66666667 0.85714286 0.4        0.85714286 0.57142857 0.66666667\n",
            " 0.57142857 0.75       0.85714286]\n"
          ]
        },
        {
          "output_type": "execute_result",
          "data": {
            "text/plain": [
              "0.6523809523809524"
            ]
          },
          "metadata": {},
          "execution_count": 30
        }
      ]
    },
    {
      "cell_type": "markdown",
      "source": [
        "### GridSearch"
      ],
      "metadata": {
        "id": "qQ1Hq7G4S5y_"
      }
    },
    {
      "cell_type": "code",
      "source": [
        "params = {\n",
        "    'n_neighbors': range(2,6),\n",
        "    'weights': ['uniform', 'distance'],\n",
        "    'p': [1,2,3]\n",
        "    }\n",
        "\n",
        "kn_cv = GridSearchCV(\n",
        "    KNeighborsClassifier(),\n",
        "    params,\n",
        "    cv=cv,\n",
        "    n_jobs=-1\n",
        ")\n",
        "\n",
        "kn_cv.fit(X,y)\n",
        "print(\"best parameters \",kn_cv.best_params_)\n",
        "print(\"accuracy :\",kn_cv.best_score_)\n",
        "\n",
        "modelos_GM_3.append( [\"K Vecinos\", kn_cv.best_params_, kn_cv.best_score_ ] )"
      ],
      "metadata": {
        "colab": {
          "base_uri": "https://localhost:8080/"
        },
        "outputId": "c941a28d-02b9-4b68-f627-50fd92dd0030",
        "id": "-qcuzc08S5y_"
      },
      "execution_count": null,
      "outputs": [
        {
          "output_type": "stream",
          "name": "stdout",
          "text": [
            "best parameters  {'n_neighbors': 3, 'p': 3, 'weights': 'uniform'}\n",
            "accuracy : 0.6095238095238097\n"
          ]
        }
      ]
    },
    {
      "cell_type": "markdown",
      "source": [],
      "metadata": {
        "id": "9nmNA4tUS5y_"
      }
    },
    {
      "cell_type": "markdown",
      "source": [
        "##Random Forest"
      ],
      "metadata": {
        "id": "f7Pe2e6SS5zA"
      }
    },
    {
      "cell_type": "code",
      "source": [
        "pipeline = Pipeline((\n",
        "    ('clf', RandomForestClassifier(random_state=0)),\n",
        "    ))\n",
        "\n",
        "parameters = {\n",
        "    'clf__n_estimators': [10, 100, 200],\n",
        "    'clf__criterion': ['gini', 'entropy'],\n",
        "    'clf__max_depth': [10, 100, 1000]\n",
        "    }\n",
        "grid = GridSearchCV(pipeline, param_grid = parameters, scoring=\"f1\", cv=10, n_jobs=-1)\n",
        "clf = RandomForestClassifier(n_estimators=1000)\n",
        "grid.fit(X,y)\n",
        "print(grid.best_params_)\n",
        "print(grid.best_score_)\n",
        "clf_randomForest = grid.best_estimator_\n",
        "\n",
        "modelos_GM_3.append( [\"Random Forest\", grid.best_params_, grid.best_score_ ] )"
      ],
      "metadata": {
        "colab": {
          "base_uri": "https://localhost:8080/"
        },
        "outputId": "f0f1039c-1160-4aa3-8200-381d79bed156",
        "id": "lPmGp5yCS5zA"
      },
      "execution_count": null,
      "outputs": [
        {
          "output_type": "stream",
          "name": "stdout",
          "text": [
            "{'clf__criterion': 'gini', 'clf__max_depth': 10, 'clf__n_estimators': 100}\n",
            "0.8166666666666668\n"
          ]
        }
      ]
    },
    {
      "cell_type": "code",
      "source": [
        "for modelo in modelos_GM_3:\n",
        "  print(modelo[0], \":\")\n",
        "  print(\"---Parametros: \", modelo[1])\n",
        "  print(\"---f1 score:\", modelo[2])"
      ],
      "metadata": {
        "colab": {
          "base_uri": "https://localhost:8080/"
        },
        "outputId": "cbfdb5ba-cb1e-4bdd-cb2b-1d3a7dc37519",
        "id": "8IFAnxjpS5zA"
      },
      "execution_count": null,
      "outputs": [
        {
          "output_type": "stream",
          "name": "stdout",
          "text": [
            "Logistic Reg :\n",
            "---Parametros:  {'C': 0.001, 'penalty': 'l1'}\n",
            "---f1 score: 0.6285714285714287\n",
            "K Vecinos :\n",
            "---Parametros:  {'n_neighbors': 3, 'p': 3, 'weights': 'uniform'}\n",
            "---f1 score: 0.6095238095238097\n",
            "Random Forest :\n",
            "---Parametros:  {'clf__criterion': 'gini', 'clf__max_depth': 10, 'clf__n_estimators': 100}\n",
            "---f1 score: 0.8166666666666668\n"
          ]
        }
      ]
    },
    {
      "cell_type": "markdown",
      "source": [
        "# Mixutras Gaussianas Con probabilidad (3 clusters / 3 representantes aleatorios)"
      ],
      "metadata": {
        "id": "uhpEafn--tRY"
      }
    },
    {
      "cell_type": "code",
      "source": [
        "modelos_GM_Alt = []\n",
        "X = tablaGM_Alt"
      ],
      "metadata": {
        "id": "w2hhCmd1-tRZ"
      },
      "execution_count": null,
      "outputs": []
    },
    {
      "cell_type": "markdown",
      "source": [
        "##Regresion Logistica"
      ],
      "metadata": {
        "id": "rOh1BVQA-tRZ"
      }
    },
    {
      "cell_type": "markdown",
      "source": [
        "###Regresion con CV"
      ],
      "metadata": {
        "id": "Svyg0cBA-tRZ"
      }
    },
    {
      "cell_type": "code",
      "source": [
        "cv = RepeatedKFold(n_splits=7, n_repeats=3, random_state=0)\n",
        "# create model\n",
        "model = LogisticRegression()\n",
        "# evaluate model\n",
        "scores = cross_val_score(model, X, y, scoring='f1', cv=cv, n_jobs=-1)\n",
        "# report performance\n",
        "print(scores)\n",
        "np.mean(scores)"
      ],
      "metadata": {
        "colab": {
          "base_uri": "https://localhost:8080/"
        },
        "outputId": "ee4b71f8-6d6f-48a8-c683-6393b112af46",
        "id": "JKmsdTBS-tRZ"
      },
      "execution_count": null,
      "outputs": [
        {
          "output_type": "stream",
          "name": "stdout",
          "text": [
            "[0.33333333 0.57142857 0.         0.88888889 0.57142857 0.88888889\n",
            " 0.75       0.33333333 0.57142857 0.         0.88888889 0.88888889\n",
            " 0.75       0.88888889 0.66666667 0.75       0.33333333 0.33333333\n",
            " 0.75       0.57142857 0.57142857]\n"
          ]
        },
        {
          "output_type": "execute_result",
          "data": {
            "text/plain": [
              "0.5857898715041573"
            ]
          },
          "metadata": {},
          "execution_count": 17
        }
      ]
    },
    {
      "cell_type": "markdown",
      "source": [
        "###Gridsearch"
      ],
      "metadata": {
        "id": "aOappEFe-tRa"
      }
    },
    {
      "cell_type": "code",
      "source": [
        "\n",
        "grid={\"C\":np.logspace(-3,3,7), \"penalty\":[\"l1\",\"l2\"]}# l1 lasso l2 ridge\n",
        "logreg=LogisticRegression(solver='liblinear', max_iter=300)\n",
        "logreg_cv=GridSearchCV(logreg, grid, cv=cv)\n",
        "logreg_cv.fit(X,y)\n",
        "print(\"best parameters: \",logreg_cv.best_params_)\n",
        "print(\"accuracy :\",logreg_cv.best_score_)\n",
        "\n",
        "modelos_GM_Alt.append( [\"Logistic Reg\", logreg_cv.best_params_, logreg_cv.best_score_ ] )"
      ],
      "metadata": {
        "colab": {
          "base_uri": "https://localhost:8080/"
        },
        "outputId": "b2b896b3-c915-459e-b897-adcaeeece800",
        "id": "Nr_0OoPO-tRa"
      },
      "execution_count": null,
      "outputs": [
        {
          "output_type": "stream",
          "name": "stdout",
          "text": [
            "best parameters:  {'C': 0.001, 'penalty': 'l1'}\n",
            "accuracy : 0.6285714285714287\n"
          ]
        }
      ]
    },
    {
      "cell_type": "markdown",
      "source": [
        "##K-vecinos mas cercanos"
      ],
      "metadata": {
        "id": "IneE8KTo-tRa"
      }
    },
    {
      "cell_type": "markdown",
      "source": [
        "### CV"
      ],
      "metadata": {
        "id": "x3jqnuqC-tRa"
      }
    },
    {
      "cell_type": "code",
      "source": [
        "cv = RepeatedKFold(n_splits=7, n_repeats=3, random_state=0)\n",
        "# create model\n",
        "model = KNeighborsClassifier(n_neighbors=3)\n",
        "# evaluate model\n",
        "scores = cross_val_score(model, X, y, scoring='f1', cv=cv, n_jobs=-1)\n",
        "# report performance\n",
        "print(scores)\n",
        "np.mean(scores)"
      ],
      "metadata": {
        "colab": {
          "base_uri": "https://localhost:8080/"
        },
        "outputId": "35c30ad3-2fd8-41bd-9a83-3b84ec4fd22c",
        "id": "7OPmmvmW-tRa"
      },
      "execution_count": null,
      "outputs": [
        {
          "output_type": "stream",
          "name": "stdout",
          "text": [
            "[0.66666667 0.57142857 0.         0.57142857 0.75       0.85714286\n",
            " 0.57142857 0.33333333 0.57142857 0.         0.66666667 0.57142857\n",
            " 0.57142857 0.75       0.33333333 0.33333333 0.85714286 0.4\n",
            " 1.         0.57142857 0.33333333]\n"
          ]
        },
        {
          "output_type": "execute_result",
          "data": {
            "text/plain": [
              "0.5371882086167802"
            ]
          },
          "metadata": {},
          "execution_count": 19
        }
      ]
    },
    {
      "cell_type": "markdown",
      "source": [
        "### GridSearch"
      ],
      "metadata": {
        "id": "rryStQaa-tRa"
      }
    },
    {
      "cell_type": "code",
      "source": [
        "params = {\n",
        "    'n_neighbors': range(2,6),\n",
        "    'weights': ['uniform', 'distance'],\n",
        "    'p': [1,2,3]\n",
        "    }\n",
        "\n",
        "kn_cv = GridSearchCV(\n",
        "    KNeighborsClassifier(),\n",
        "    params,\n",
        "    cv=cv,\n",
        "    n_jobs=-1\n",
        ")\n",
        "\n",
        "kn_cv.fit(X,y)\n",
        "print(\"best parameters \",kn_cv.best_params_)\n",
        "print(\"accuracy :\",kn_cv.best_score_)\n",
        "\n",
        "modelos_GM_Alt.append( [\"K Vecinos\", kn_cv.best_params_, kn_cv.best_score_ ] )"
      ],
      "metadata": {
        "colab": {
          "base_uri": "https://localhost:8080/"
        },
        "outputId": "b2ae8d89-8b15-4b28-b711-3490d8bc176f",
        "id": "Abvqf55_-tRa"
      },
      "execution_count": null,
      "outputs": [
        {
          "output_type": "stream",
          "name": "stdout",
          "text": [
            "best parameters  {'n_neighbors': 5, 'p': 3, 'weights': 'uniform'}\n",
            "accuracy : 0.5142857142857145\n"
          ]
        }
      ]
    },
    {
      "cell_type": "markdown",
      "source": [],
      "metadata": {
        "id": "D2Lp2MGQ-tRb"
      }
    },
    {
      "cell_type": "markdown",
      "source": [
        "##Random Forest"
      ],
      "metadata": {
        "id": "suUItyX1-tRb"
      }
    },
    {
      "cell_type": "code",
      "source": [
        "pipeline = Pipeline((\n",
        "    ('clf', RandomForestClassifier(random_state=0)),\n",
        "    ))\n",
        "\n",
        "parameters = {\n",
        "    'clf__n_estimators': [10, 100, 200],\n",
        "    'clf__criterion': ['gini', 'entropy'],\n",
        "    'clf__max_depth': [10, 100, 1000]\n",
        "    }\n",
        "grid = GridSearchCV(pipeline, param_grid = parameters, scoring=\"f1\", cv=10, n_jobs=-1)\n",
        "clf = RandomForestClassifier(n_estimators=1000)\n",
        "grid.fit(X,y)\n",
        "print(grid.best_params_)\n",
        "print(grid.best_score_)\n",
        "clf_randomForest = grid.best_estimator_\n",
        "\n",
        "modelos_GM_Alt.append( [\"Random Forest\", grid.best_params_, grid.best_score_ ] )"
      ],
      "metadata": {
        "colab": {
          "base_uri": "https://localhost:8080/"
        },
        "outputId": "ae677d55-d7af-4e73-c930-45e7a70f890d",
        "id": "dbBjdnrO-tRb"
      },
      "execution_count": null,
      "outputs": [
        {
          "output_type": "stream",
          "name": "stdout",
          "text": [
            "{'clf__criterion': 'gini', 'clf__max_depth': 10, 'clf__n_estimators': 100}\n",
            "0.6733333333333332\n"
          ]
        }
      ]
    },
    {
      "cell_type": "code",
      "source": [
        "for modelo in modelos_GM_Alt:\n",
        "  print(modelo[0], \":\")\n",
        "  print(\"---Parametros: \", modelo[1])\n",
        "  print(\"---f1 score:\", modelo[2])"
      ],
      "metadata": {
        "colab": {
          "base_uri": "https://localhost:8080/"
        },
        "outputId": "66be6ada-4502-4d88-d359-0866f8da83c5",
        "id": "6EdKLyh8-tRb"
      },
      "execution_count": null,
      "outputs": [
        {
          "output_type": "stream",
          "name": "stdout",
          "text": [
            "Logistic Reg :\n",
            "---Parametros:  {'C': 0.001, 'penalty': 'l1'}\n",
            "---f1 score: 0.6285714285714287\n",
            "K Vecinos :\n",
            "---Parametros:  {'n_neighbors': 5, 'p': 3, 'weights': 'uniform'}\n",
            "---f1 score: 0.5142857142857145\n",
            "Random Forest :\n",
            "---Parametros:  {'clf__criterion': 'gini', 'clf__max_depth': 10, 'clf__n_estimators': 100}\n",
            "---f1 score: 0.6733333333333332\n"
          ]
        }
      ]
    },
    {
      "cell_type": "markdown",
      "source": [
        "*   Busco parametros con todo el corpus -> nos da mejores parametros\n",
        "*   Con ese modelo hago cross validation sobre todos los datos\n",
        "*   Me da una media y desviacion estandar (este es el error)\n",
        "** funcion que saca todas las metricas (buscar)\n",
        "*   tomamos este modelo con CV y le metemos todos los datos sin CV, solo entrenamiento\n",
        "*  El error de este debe ser igual o menor y se va para produccion\n",
        "---------------\n",
        "* Para el representativo de aglomerativo buscamos centroide por cada cluster\n"
      ],
      "metadata": {
        "id": "X8cByFsW-tRb"
      }
    },
    {
      "cell_type": "markdown",
      "source": [
        "# Mixutras Gaussianas Con probabilidad (3 clusters / 3 representantes)"
      ],
      "metadata": {
        "id": "7BY0zznUiS7-"
      }
    },
    {
      "cell_type": "code",
      "source": [
        "modelos_GM_3P = []\n",
        "X = tablaGM3P"
      ],
      "metadata": {
        "id": "cqMZKxM3iS8K"
      },
      "execution_count": null,
      "outputs": []
    },
    {
      "cell_type": "markdown",
      "source": [
        "##Regresion Logistica"
      ],
      "metadata": {
        "id": "F_dd8ScqiS8L"
      }
    },
    {
      "cell_type": "markdown",
      "source": [
        "###Regresion con CV"
      ],
      "metadata": {
        "id": "At8XI7hxiS8L"
      }
    },
    {
      "cell_type": "code",
      "source": [
        "cv = RepeatedKFold(n_splits=7, n_repeats=3, random_state=0)\n",
        "# create model\n",
        "model = LogisticRegression()\n",
        "# evaluate model\n",
        "scores = cross_val_score(model, X, y, scoring='f1', cv=cv, n_jobs=-1)\n",
        "# report performance\n",
        "print(scores)\n",
        "np.mean(scores)"
      ],
      "metadata": {
        "colab": {
          "base_uri": "https://localhost:8080/"
        },
        "outputId": "46c44868-43f9-4348-f696-b2e8eebe1c18",
        "id": "v6tML_KaiS8M"
      },
      "execution_count": null,
      "outputs": [
        {
          "output_type": "stream",
          "name": "stdout",
          "text": [
            "[0.66666667 1.         0.         0.75       0.75       0.57142857\n",
            " 0.85714286 0.66666667 1.         0.         0.85714286 0.75\n",
            " 0.75       0.66666667 0.75       0.4        0.4        0.33333333\n",
            " 0.85714286 0.88888889 1.        ]\n"
          ]
        },
        {
          "output_type": "execute_result",
          "data": {
            "text/plain": [
              "0.6626228269085412"
            ]
          },
          "metadata": {},
          "execution_count": 42
        }
      ]
    },
    {
      "cell_type": "markdown",
      "source": [
        "###Gridsearch"
      ],
      "metadata": {
        "id": "eg8nhXCqiS8N"
      }
    },
    {
      "cell_type": "code",
      "source": [
        "\n",
        "grid={\"C\":np.logspace(-3,3,7), \"penalty\":[\"l1\",\"l2\"]}# l1 lasso l2 ridge\n",
        "logreg=LogisticRegression(solver='liblinear', max_iter=300)\n",
        "logreg_cv=GridSearchCV(logreg, grid, cv=cv)\n",
        "logreg_cv.fit(X,y)\n",
        "print(\"best parameters: \",logreg_cv.best_params_)\n",
        "print(\"accuracy :\",logreg_cv.best_score_)\n",
        "\n",
        "modelos_GM_3P.append( [\"Logistic Reg\", logreg_cv.best_params_, logreg_cv.best_score_ ] )"
      ],
      "metadata": {
        "colab": {
          "base_uri": "https://localhost:8080/"
        },
        "outputId": "29e60f58-ee50-4863-f41d-b9b4673fe579",
        "id": "LlhwYfEQiS8N"
      },
      "execution_count": null,
      "outputs": [
        {
          "output_type": "stream",
          "name": "stdout",
          "text": [
            "best parameters:  {'C': 10.0, 'penalty': 'l1'}\n",
            "accuracy : 0.6952380952380953\n"
          ]
        }
      ]
    },
    {
      "cell_type": "markdown",
      "source": [
        "##K-vecinos mas cercanos"
      ],
      "metadata": {
        "id": "c7NYABIEiS8N"
      }
    },
    {
      "cell_type": "markdown",
      "source": [
        "### CV"
      ],
      "metadata": {
        "id": "CcgUu7BuiS8O"
      }
    },
    {
      "cell_type": "code",
      "source": [
        "cv = RepeatedKFold(n_splits=7, n_repeats=3, random_state=0)\n",
        "# create model\n",
        "model = KNeighborsClassifier(n_neighbors=3)\n",
        "# evaluate model\n",
        "scores = cross_val_score(model, X, y, scoring='f1', cv=cv, n_jobs=-1)\n",
        "# report performance\n",
        "print(scores)\n",
        "np.mean(scores)"
      ],
      "metadata": {
        "colab": {
          "base_uri": "https://localhost:8080/"
        },
        "outputId": "88eb9805-9c12-46b7-bc47-f4bca822c399",
        "id": "iR8A_XigiS8O"
      },
      "execution_count": null,
      "outputs": [
        {
          "output_type": "stream",
          "name": "stdout",
          "text": [
            "[0.8        1.         0.         0.75       0.75       0.75\n",
            " 0.85714286 0.57142857 1.         0.         0.75       0.88888889\n",
            " 0.57142857 0.66666667 0.75       0.66666667 0.57142857 0.66666667\n",
            " 0.75       0.88888889 1.        ]\n"
          ]
        },
        {
          "output_type": "execute_result",
          "data": {
            "text/plain": [
              "0.6975812547241118"
            ]
          },
          "metadata": {},
          "execution_count": 44
        }
      ]
    },
    {
      "cell_type": "markdown",
      "source": [
        "### GridSearch"
      ],
      "metadata": {
        "id": "1zAOVVwviS8P"
      }
    },
    {
      "cell_type": "code",
      "source": [
        "params = {\n",
        "    'n_neighbors': range(2,6),\n",
        "    'weights': ['uniform', 'distance'],\n",
        "    'p': [1,2,3]\n",
        "    }\n",
        "\n",
        "kn_cv = GridSearchCV(\n",
        "    KNeighborsClassifier(),\n",
        "    params,\n",
        "    cv=cv,\n",
        "    n_jobs=-1\n",
        ")\n",
        "\n",
        "kn_cv.fit(X,y)\n",
        "print(\"best parameters \",kn_cv.best_params_)\n",
        "print(\"accuracy :\",kn_cv.best_score_)\n",
        "\n",
        "modelos_GM_3P.append( [\"K Vecinos\", kn_cv.best_params_, kn_cv.best_score_ ] )"
      ],
      "metadata": {
        "colab": {
          "base_uri": "https://localhost:8080/"
        },
        "outputId": "6d68ac12-b6b7-4a5e-c533-121655935909",
        "id": "f4pGT91LiS8P"
      },
      "execution_count": null,
      "outputs": [
        {
          "output_type": "stream",
          "name": "stdout",
          "text": [
            "best parameters  {'n_neighbors': 5, 'p': 3, 'weights': 'distance'}\n",
            "accuracy : 0.6761904761904761\n"
          ]
        }
      ]
    },
    {
      "cell_type": "markdown",
      "source": [],
      "metadata": {
        "id": "l8dBMs95iS8Q"
      }
    },
    {
      "cell_type": "markdown",
      "source": [
        "##Random Forest"
      ],
      "metadata": {
        "id": "ol9japXGiS8Q"
      }
    },
    {
      "cell_type": "code",
      "source": [
        "pipeline = Pipeline((\n",
        "    ('clf', RandomForestClassifier(random_state=0)),\n",
        "    ))\n",
        "\n",
        "parameters = {\n",
        "    'clf__n_estimators': [10, 100, 200],\n",
        "    'clf__criterion': ['gini', 'entropy'],\n",
        "    'clf__max_depth': [10, 100, 1000]\n",
        "    }\n",
        "grid = GridSearchCV(pipeline, param_grid = parameters, scoring=\"f1\", cv=10, n_jobs=-1)\n",
        "clf = RandomForestClassifier(n_estimators=1000)\n",
        "grid.fit(X,y)\n",
        "print(grid.best_params_)\n",
        "print(grid.best_score_)\n",
        "clf_randomForest = grid.best_estimator_\n",
        "\n",
        "modelos_GM_3P.append( [\"Random Forest\", grid.best_params_, grid.best_score_ ] )"
      ],
      "metadata": {
        "colab": {
          "base_uri": "https://localhost:8080/"
        },
        "outputId": "686d6ccf-5f67-4494-d52a-7de38a799c2e",
        "id": "r9YsXfk0iS8Q"
      },
      "execution_count": null,
      "outputs": [
        {
          "output_type": "stream",
          "name": "stdout",
          "text": [
            "{'clf__criterion': 'gini', 'clf__max_depth': 10, 'clf__n_estimators': 100}\n",
            "0.7866666666666667\n"
          ]
        }
      ]
    },
    {
      "cell_type": "code",
      "source": [
        "for modelo in modelos_GM_3P:\n",
        "  print(modelo[0], \":\")\n",
        "  print(\"---Parametros: \", modelo[1])\n",
        "  print(\"---f1 score:\", modelo[2])"
      ],
      "metadata": {
        "colab": {
          "base_uri": "https://localhost:8080/"
        },
        "outputId": "af94c851-dc45-4e33-d202-48be6d74753c",
        "id": "JsL8XN6SiS8R"
      },
      "execution_count": null,
      "outputs": [
        {
          "output_type": "stream",
          "name": "stdout",
          "text": [
            "Logistic Reg :\n",
            "---Parametros:  {'C': 10.0, 'penalty': 'l1'}\n",
            "---f1 score: 0.6952380952380953\n",
            "K Vecinos :\n",
            "---Parametros:  {'n_neighbors': 5, 'p': 3, 'weights': 'distance'}\n",
            "---f1 score: 0.6761904761904761\n",
            "Random Forest :\n",
            "---Parametros:  {'clf__criterion': 'gini', 'clf__max_depth': 10, 'clf__n_estimators': 100}\n",
            "---f1 score: 0.7866666666666667\n"
          ]
        }
      ]
    },
    {
      "cell_type": "markdown",
      "source": [
        "*   Busco parametros con todo el corpus -> nos da mejores parametros\n",
        "*   Con ese modelo hago cross validation sobre todos los datos\n",
        "*   Me da una media y desviacion estandar (este es el error)\n",
        "** funcion que saca todas las metricas (buscar)\n",
        "*   tomamos este modelo con CV y le metemos todos los datos sin CV, solo entrenamiento\n",
        "*  El error de este debe ser igual o menor y se va para produccion\n",
        "---------------\n",
        "* Para el representativo de aglomerativo buscamos centroide por cada cluster\n"
      ],
      "metadata": {
        "id": "4dNSWERqiS8R"
      }
    },
    {
      "cell_type": "markdown",
      "source": [
        "# Mixutras Gaussianas Con probabilidad (3 clusters / 3 representantes aleatorios)"
      ],
      "metadata": {
        "id": "-YgYiXS6kbjW"
      }
    },
    {
      "cell_type": "code",
      "source": [
        "modelos_GM_Alt2 = []\n",
        "X = tablaGM_Alt2"
      ],
      "metadata": {
        "id": "d5jUEcztkbjf"
      },
      "execution_count": null,
      "outputs": []
    },
    {
      "cell_type": "markdown",
      "source": [
        "##Regresion Logistica"
      ],
      "metadata": {
        "id": "zoEpoAdqkbjg"
      }
    },
    {
      "cell_type": "markdown",
      "source": [
        "###Regresion con CV"
      ],
      "metadata": {
        "id": "GI8PxPfIkbjg"
      }
    },
    {
      "cell_type": "code",
      "source": [
        "cv = RepeatedKFold(n_splits=7, n_repeats=3, random_state=0)\n",
        "# create model\n",
        "model = LogisticRegression()\n",
        "# evaluate model\n",
        "scores = cross_val_score(model, X, y, scoring='f1', cv=cv, n_jobs=-1)\n",
        "# report performance\n",
        "print(scores)\n",
        "np.mean(scores)"
      ],
      "metadata": {
        "colab": {
          "base_uri": "https://localhost:8080/"
        },
        "outputId": "7f1058bd-9b5c-4acb-9dc5-2f7b47991a8c",
        "id": "5BOjJ7cykbjg"
      },
      "execution_count": null,
      "outputs": [
        {
          "output_type": "stream",
          "name": "stdout",
          "text": [
            "[0.33333333 0.75       0.         1.         0.66666667 0.\n",
            " 1.         0.57142857 0.75       0.         1.         0.57142857\n",
            " 0.85714286 0.33333333 0.66666667 0.         0.75       0.33333333\n",
            " 0.85714286 0.75       0.88888889]\n"
          ]
        },
        {
          "output_type": "execute_result",
          "data": {
            "text/plain": [
              "0.5752078609221467"
            ]
          },
          "metadata": {},
          "execution_count": 25
        }
      ]
    },
    {
      "cell_type": "markdown",
      "source": [
        "###Gridsearch"
      ],
      "metadata": {
        "id": "onGMx8RSkbjh"
      }
    },
    {
      "cell_type": "code",
      "source": [
        "\n",
        "grid={\"C\":np.logspace(-3,3,7), \"penalty\":[\"l1\",\"l2\"]}# l1 lasso l2 ridge\n",
        "logreg=LogisticRegression(solver='liblinear', max_iter=300)\n",
        "logreg_cv=GridSearchCV(logreg, grid, cv=cv)\n",
        "logreg_cv.fit(X,y)\n",
        "print(\"best parameters: \",logreg_cv.best_params_)\n",
        "print(\"accuracy :\",logreg_cv.best_score_)\n",
        "\n",
        "modelos_GM_Alt2.append( [\"Logistic Reg\", logreg_cv.best_params_, logreg_cv.best_score_ ] )"
      ],
      "metadata": {
        "colab": {
          "base_uri": "https://localhost:8080/"
        },
        "outputId": "a4ebff99-f218-4218-c019-f08e018db6cd",
        "id": "fcrI6oIYkbjh"
      },
      "execution_count": null,
      "outputs": [
        {
          "output_type": "stream",
          "name": "stdout",
          "text": [
            "best parameters:  {'C': 0.001, 'penalty': 'l2'}\n",
            "accuracy : 0.5523809523809524\n"
          ]
        }
      ]
    },
    {
      "cell_type": "markdown",
      "source": [
        "##K-vecinos mas cercanos"
      ],
      "metadata": {
        "id": "u4ZFiQAgkbji"
      }
    },
    {
      "cell_type": "markdown",
      "source": [
        "### CV"
      ],
      "metadata": {
        "id": "6-7LWhHhkbji"
      }
    },
    {
      "cell_type": "code",
      "source": [
        "cv = RepeatedKFold(n_splits=7, n_repeats=3, random_state=0)\n",
        "# create model\n",
        "model = KNeighborsClassifier(n_neighbors=3)\n",
        "# evaluate model\n",
        "scores = cross_val_score(model, X, y, scoring='f1', cv=cv, n_jobs=-1)\n",
        "# report performance\n",
        "print(scores)\n",
        "np.mean(scores)"
      ],
      "metadata": {
        "colab": {
          "base_uri": "https://localhost:8080/"
        },
        "outputId": "35217e51-d338-474e-e8e3-333681e6f812",
        "id": "8QgMeb7ekbji"
      },
      "execution_count": null,
      "outputs": [
        {
          "output_type": "stream",
          "name": "stdout",
          "text": [
            "[0.57142857 0.33333333 0.         0.75       0.66666667 0.\n",
            " 1.         0.33333333 0.88888889 0.         0.57142857 0.33333333\n",
            " 0.8        0.57142857 0.66666667 0.4        0.57142857 0.33333333\n",
            " 0.57142857 0.66666667 0.75      ]\n"
          ]
        },
        {
          "output_type": "execute_result",
          "data": {
            "text/plain": [
              "0.5133030990173848"
            ]
          },
          "metadata": {},
          "execution_count": 27
        }
      ]
    },
    {
      "cell_type": "markdown",
      "source": [
        "### GridSearch"
      ],
      "metadata": {
        "id": "6S-0Ra-xkbjj"
      }
    },
    {
      "cell_type": "code",
      "source": [
        "params = {\n",
        "    'n_neighbors': range(2,6),\n",
        "    'weights': ['uniform', 'distance'],\n",
        "    'p': [1,2,3]\n",
        "    }\n",
        "\n",
        "kn_cv = GridSearchCV(\n",
        "    KNeighborsClassifier(),\n",
        "    params,\n",
        "    cv=cv,\n",
        "    n_jobs=-1\n",
        ")\n",
        "\n",
        "kn_cv.fit(X,y)\n",
        "print(\"best parameters \",kn_cv.best_params_)\n",
        "print(\"accuracy :\",kn_cv.best_score_)\n",
        "\n",
        "modelos_GM_Alt2.append( [\"K Vecinos\", kn_cv.best_params_, kn_cv.best_score_ ] )"
      ],
      "metadata": {
        "colab": {
          "base_uri": "https://localhost:8080/"
        },
        "outputId": "81b79d38-099f-43ac-e2ca-97d286a369ce",
        "id": "v51IpIAHkbjj"
      },
      "execution_count": null,
      "outputs": [
        {
          "output_type": "stream",
          "name": "stdout",
          "text": [
            "best parameters  {'n_neighbors': 5, 'p': 3, 'weights': 'uniform'}\n",
            "accuracy : 0.5142857142857142\n"
          ]
        }
      ]
    },
    {
      "cell_type": "markdown",
      "source": [],
      "metadata": {
        "id": "qPaWll1Ikbjk"
      }
    },
    {
      "cell_type": "markdown",
      "source": [
        "##Random Forest"
      ],
      "metadata": {
        "id": "BlgRkE9jkbjk"
      }
    },
    {
      "cell_type": "code",
      "source": [
        "pipeline = Pipeline((\n",
        "    ('clf', RandomForestClassifier(random_state=0)),\n",
        "    ))\n",
        "\n",
        "parameters = {\n",
        "    'clf__n_estimators': [10, 100, 200],\n",
        "    'clf__criterion': ['gini', 'entropy'],\n",
        "    'clf__max_depth': [10, 100, 1000]\n",
        "    }\n",
        "grid = GridSearchCV(pipeline, param_grid = parameters, scoring=\"f1\", cv=10, n_jobs=-1)\n",
        "clf = RandomForestClassifier(n_estimators=1000)\n",
        "grid.fit(X,y)\n",
        "print(grid.best_params_)\n",
        "print(grid.best_score_)\n",
        "clf_randomForest = grid.best_estimator_\n",
        "\n",
        "modelos_GM_Alt2.append( [\"Random Forest\", grid.best_params_, grid.best_score_ ] )"
      ],
      "metadata": {
        "colab": {
          "base_uri": "https://localhost:8080/"
        },
        "outputId": "5a4eabc7-359e-4e00-9079-a21160c9dae0",
        "id": "XH-CSPrykbjk"
      },
      "execution_count": null,
      "outputs": [
        {
          "output_type": "stream",
          "name": "stdout",
          "text": [
            "{'clf__criterion': 'entropy', 'clf__max_depth': 10, 'clf__n_estimators': 100}\n",
            "0.6833333333333333\n"
          ]
        }
      ]
    },
    {
      "cell_type": "code",
      "source": [
        "for modelo in modelos_GM_Alt2:\n",
        "  print(modelo[0], \":\")\n",
        "  print(\"---Parametros: \", modelo[1])\n",
        "  print(\"---f1 score:\", modelo[2])"
      ],
      "metadata": {
        "colab": {
          "base_uri": "https://localhost:8080/"
        },
        "outputId": "ab7f4833-d7d8-49a3-d203-e375eb5bed28",
        "id": "NNky8013kbjl"
      },
      "execution_count": null,
      "outputs": [
        {
          "output_type": "stream",
          "name": "stdout",
          "text": [
            "Logistic Reg :\n",
            "---Parametros:  {'C': 0.001, 'penalty': 'l2'}\n",
            "---f1 score: 0.5523809523809524\n",
            "K Vecinos :\n",
            "---Parametros:  {'n_neighbors': 5, 'p': 3, 'weights': 'uniform'}\n",
            "---f1 score: 0.5142857142857142\n",
            "Random Forest :\n",
            "---Parametros:  {'clf__criterion': 'entropy', 'clf__max_depth': 10, 'clf__n_estimators': 100}\n",
            "---f1 score: 0.6833333333333333\n"
          ]
        }
      ]
    },
    {
      "cell_type": "markdown",
      "source": [
        "*   Busco parametros con todo el corpus -> nos da mejores parametros\n",
        "*   Con ese modelo hago cross validation sobre todos los datos\n",
        "*   Me da una media y desviacion estandar (este es el error)\n",
        "** funcion que saca todas las metricas (buscar)\n",
        "*   tomamos este modelo con CV y le metemos todos los datos sin CV, solo entrenamiento\n",
        "*  El error de este debe ser igual o menor y se va para produccion\n",
        "---------------\n",
        "* Para el representativo de aglomerativo buscamos centroide por cada cluster\n"
      ],
      "metadata": {
        "id": "ZM9lnQCCkbjl"
      }
    },
    {
      "cell_type": "markdown",
      "source": [
        "# KMedias (2 a 6 clusters)"
      ],
      "metadata": {
        "id": "DvSnSwH_ZiNP"
      }
    },
    {
      "cell_type": "code",
      "source": [
        "modelos_KM = []"
      ],
      "metadata": {
        "id": "_DedG-6qZiNP"
      },
      "execution_count": null,
      "outputs": []
    },
    {
      "cell_type": "markdown",
      "source": [
        "##Regresion Logistica"
      ],
      "metadata": {
        "id": "-Zfk5a6zZiNP"
      }
    },
    {
      "cell_type": "markdown",
      "source": [
        "###Regresion con CV"
      ],
      "metadata": {
        "id": "i0eioXvzZiNP"
      }
    },
    {
      "cell_type": "code",
      "source": [
        "cv = RepeatedKFold(n_splits=7, n_repeats=3, random_state=0)\n",
        "# create model\n",
        "model = LogisticRegression()\n",
        "# evaluate model\n",
        "scores = cross_val_score(model, X, y, scoring='f1', cv=cv, n_jobs=-1)\n",
        "# report performance\n",
        "print(scores)\n",
        "np.mean(scores)"
      ],
      "metadata": {
        "colab": {
          "base_uri": "https://localhost:8080/"
        },
        "outputId": "ab619cf9-58c4-4e25-fb12-891cf2c050c2",
        "id": "UzcyGMEuZiNQ"
      },
      "execution_count": null,
      "outputs": [
        {
          "output_type": "stream",
          "name": "stdout",
          "text": [
            "[0.66666667 0.85714286 0.         0.75       0.75       0.85714286\n",
            " 0.4        0.5        0.66666667 0.         1.         0.75\n",
            " 0.85714286 0.85714286 0.85714286 0.66666667 0.66666667 0.33333333\n",
            " 0.85714286 0.57142857 0.66666667]\n"
          ]
        },
        {
          "output_type": "execute_result",
          "data": {
            "text/plain": [
              "0.6443310657596372"
            ]
          },
          "metadata": {},
          "execution_count": 56
        }
      ]
    },
    {
      "cell_type": "markdown",
      "source": [
        "###Gridsearch"
      ],
      "metadata": {
        "id": "bsnlNJ0ZZiNQ"
      }
    },
    {
      "cell_type": "code",
      "source": [
        "best = []\n",
        "for i in range(2,7):\n",
        "  X = tablaKMeans(i, data_km)\n",
        "  grid={\"C\":np.logspace(-3,3,7), \"penalty\":[\"l1\",\"l2\"]}# l1 lasso l2 ridge\n",
        "  logreg=LogisticRegression(solver='liblinear', max_iter=300)\n",
        "  logreg_cv=GridSearchCV(logreg, grid, cv=cv)\n",
        "  logreg_cv.fit(X,y)\n",
        "  if best == [] or logreg_cv.best_score_> best[2]:\n",
        "    best = [\"Logistic Reg\", logreg_cv.best_params_, logreg_cv.best_score_, i]\n",
        "\n",
        "modelos_KM.append( best )"
      ],
      "metadata": {
        "colab": {
          "base_uri": "https://localhost:8080/"
        },
        "outputId": "227aaa45-59f8-49f4-afd1-a4fb051bfdd7",
        "id": "rhms4BxKZiNQ"
      },
      "execution_count": null,
      "outputs": [
        {
          "output_type": "stream",
          "name": "stdout",
          "text": [
            "[175, 77]\n",
            "[94, 352, 393]\n",
            "[527, 94, 386, 468]\n",
            "[127, 386, 85, 379, 381]\n",
            "[127, 77, 381, 90, 468, 252]\n"
          ]
        }
      ]
    },
    {
      "cell_type": "markdown",
      "source": [
        "##K-vecinos mas cercanos"
      ],
      "metadata": {
        "id": "_57wxYo3ZiNQ"
      }
    },
    {
      "cell_type": "markdown",
      "source": [
        "### CV"
      ],
      "metadata": {
        "id": "FVg-5_HdZiNQ"
      }
    },
    {
      "cell_type": "code",
      "source": [
        "cv = RepeatedKFold(n_splits=7, n_repeats=3, random_state=0)\n",
        "# create model\n",
        "model = KNeighborsClassifier(n_neighbors=3)\n",
        "# evaluate model\n",
        "scores = cross_val_score(model, X, y, scoring='f1', cv=cv, n_jobs=-1)\n",
        "# report performance\n",
        "print(scores)\n",
        "np.mean(scores)"
      ],
      "metadata": {
        "colab": {
          "base_uri": "https://localhost:8080/"
        },
        "outputId": "780ee083-43e1-414b-b50b-adf750d609fb",
        "id": "P09tXxN3ZiNR"
      },
      "execution_count": null,
      "outputs": [
        {
          "output_type": "stream",
          "name": "stdout",
          "text": [
            "[0.4        0.85714286 0.         0.88888889 0.85714286 0.88888889\n",
            " 0.88888889 1.         0.88888889 0.         0.66666667 0.88888889\n",
            " 0.33333333 1.         0.75       0.75       0.85714286 0.4\n",
            " 0.8        0.57142857 0.85714286]\n"
          ]
        },
        {
          "output_type": "execute_result",
          "data": {
            "text/plain": [
              "0.6925925925925926"
            ]
          },
          "metadata": {},
          "execution_count": 52
        }
      ]
    },
    {
      "cell_type": "markdown",
      "source": [
        "### GridSearch"
      ],
      "metadata": {
        "id": "Y5O0bYoGZiNR"
      }
    },
    {
      "cell_type": "code",
      "source": [
        "best = []\n",
        "for i in range(2,7):\n",
        "  X = tablaKMeans(i, data_km)\n",
        "  params = {\n",
        "      'n_neighbors': range(2,6),\n",
        "      'weights': ['uniform', 'distance'],\n",
        "      'p': [1,2,3]\n",
        "      }\n",
        "  kn_cv = GridSearchCV(\n",
        "      KNeighborsClassifier(),\n",
        "      params,\n",
        "      cv=cv,\n",
        "      n_jobs=-1\n",
        "  )\n",
        "  kn_cv.fit(X,y)\n",
        "  if best == [] or kn_cv.best_score_> best[2]:\n",
        "    best = [\"K Vecinos\", kn_cv.best_params_, kn_cv.best_score_, i]\n",
        "\n",
        "modelos_KM.append( best )"
      ],
      "metadata": {
        "colab": {
          "base_uri": "https://localhost:8080/"
        },
        "outputId": "70bc9404-91fd-4971-8828-f0190b6f34e8",
        "id": "KJ-EZuzMZiNR"
      },
      "execution_count": null,
      "outputs": [
        {
          "output_type": "stream",
          "name": "stdout",
          "text": [
            "[175, 77]\n",
            "[94, 352, 393]\n",
            "[94, 386, 527, 468]\n",
            "[94, 252, 468, 391, 77]\n",
            "[527, 161, 252, 77, 468, 447]\n"
          ]
        }
      ]
    },
    {
      "cell_type": "markdown",
      "source": [],
      "metadata": {
        "id": "SduRJ1ARZiNR"
      }
    },
    {
      "cell_type": "markdown",
      "source": [
        "##Random Forest"
      ],
      "metadata": {
        "id": "QF8xaw_5ZiNR"
      }
    },
    {
      "cell_type": "code",
      "source": [
        "best = []\n",
        "\n",
        "for i in range(2,7):\n",
        "  X = tablaKMeans(i, data_km)\n",
        "  pipeline = Pipeline((\n",
        "      ('clf', RandomForestClassifier(random_state=0)),\n",
        "      ))\n",
        "\n",
        "  parameters = {\n",
        "      'clf__n_estimators': [10, 100, 200],\n",
        "      'clf__criterion': ['gini', 'entropy'],\n",
        "      'clf__max_depth': [10, 100, 1000]\n",
        "      }\n",
        "  grid = GridSearchCV(pipeline, param_grid = parameters, scoring=\"f1\", cv=10, n_jobs=-1)\n",
        "  clf = RandomForestClassifier(n_estimators=1000)\n",
        "  grid.fit(X,y)\n",
        "  if best == [] or grid.best_score_> best[2]:\n",
        "    best = [\"Random Forest\", grid.best_params_, grid.best_score_, i]\n",
        "\n",
        "modelos_KM.append( best )"
      ],
      "metadata": {
        "colab": {
          "base_uri": "https://localhost:8080/"
        },
        "outputId": "60975320-ba9e-45cc-acc0-b74c5510fbee",
        "id": "O398YhzXZiNR"
      },
      "execution_count": null,
      "outputs": [
        {
          "output_type": "stream",
          "name": "stdout",
          "text": [
            "[175, 77]\n",
            "[94, 352, 393]\n",
            "[94, 386, 468, 527]\n",
            "[94, 77, 468, 391, 252]\n",
            "[447, 252, 527, 468, 161, 77]\n"
          ]
        }
      ]
    },
    {
      "cell_type": "code",
      "source": [
        "for modelo in modelos_KM:\n",
        "  print(modelo[0], \":\")\n",
        "  print(\"---Parametros: \", modelo[1])\n",
        "  print(\"---f1 score:\", modelo[2])\n",
        "  print(\"---vecinos: \", modelo[3])"
      ],
      "metadata": {
        "colab": {
          "base_uri": "https://localhost:8080/"
        },
        "outputId": "b9d2ba77-7808-4dbc-baad-218a87a0e2ae",
        "id": "ivmFD1WtZiNR"
      },
      "execution_count": null,
      "outputs": [
        {
          "output_type": "stream",
          "name": "stdout",
          "text": [
            "Logistic Reg :\n",
            "---Parametros:  {'C': 1000.0, 'penalty': 'l1'}\n",
            "---f1 score: 0.7904761904761906\n",
            "---vecinos:  5\n",
            "K Vecinos :\n",
            "---Parametros:  {'n_neighbors': 2, 'p': 1, 'weights': 'distance'}\n",
            "---f1 score: 0.6761904761904763\n",
            "---vecinos:  3\n",
            "K Vecinos :\n",
            "---Parametros:  {'n_neighbors': 2, 'p': 1, 'weights': 'distance'}\n",
            "---f1 score: 0.6761904761904763\n",
            "---vecinos:  3\n",
            "K Vecinos :\n",
            "---Parametros:  {'clf__criterion': 'gini', 'clf__max_depth': 10, 'clf__n_estimators': 200}\n",
            "---f1 score: 0.8266666666666665\n",
            "---vecinos:  5\n"
          ]
        }
      ]
    },
    {
      "cell_type": "markdown",
      "source": [
        "*   Busco parametros con todo el corpus -> nos da mejores parametros\n",
        "*   Con ese modelo hago cross validation sobre todos los datos\n",
        "*   Me da una media y desviacion estandar (este es el error)\n",
        "** funcion que saca todas las metricas (buscar)\n",
        "*   tomamos este modelo con CV y le metemos todos los datos sin CV, solo entrenamiento\n",
        "*  El error de este debe ser igual o menor y se va para produccion\n",
        "---------------\n",
        "* Para el representativo de aglomerativo buscamos centroide por cada cluster\n"
      ],
      "metadata": {
        "id": "oXSkcU01ZiNS"
      }
    },
    {
      "cell_type": "markdown",
      "source": [
        "# KMedias (3 clusters / 3 Representantes aleatorios)"
      ],
      "metadata": {
        "id": "uLoQ4eDjmx8u"
      }
    },
    {
      "cell_type": "code",
      "source": [
        "modelos_KM_Alt3 = []\n",
        "X = tablaKM_Alt3"
      ],
      "metadata": {
        "id": "HG0xSOLEmx9B"
      },
      "execution_count": null,
      "outputs": []
    },
    {
      "cell_type": "markdown",
      "source": [
        "##Regresion Logistica"
      ],
      "metadata": {
        "id": "pdp-95f3mx9C"
      }
    },
    {
      "cell_type": "markdown",
      "source": [
        "###Regresion con CV"
      ],
      "metadata": {
        "id": "sI6Jv5Kxmx9C"
      }
    },
    {
      "cell_type": "code",
      "source": [
        "cv = RepeatedKFold(n_splits=7, n_repeats=3, random_state=0)\n",
        "# create model\n",
        "model = LogisticRegression()\n",
        "# evaluate model\n",
        "scores = cross_val_score(model, X, y, scoring='f1', cv=cv, n_jobs=-1)\n",
        "# report performance\n",
        "print(scores)\n",
        "np.mean(scores)"
      ],
      "metadata": {
        "colab": {
          "base_uri": "https://localhost:8080/"
        },
        "outputId": "c6503919-f38b-4d61-8f88-5519078c31b1",
        "id": "49Gj_-Q9mx9D"
      },
      "execution_count": null,
      "outputs": [
        {
          "output_type": "stream",
          "name": "stdout",
          "text": [
            "[0.57142857 0.75       0.         0.75       0.75       0.88888889\n",
            " 0.88888889 0.57142857 0.57142857 0.         0.57142857 0.75\n",
            " 0.33333333 0.88888889 0.75       0.57142857 0.57142857 0.33333333\n",
            " 0.66666667 0.57142857 0.88888889]\n"
          ]
        },
        {
          "output_type": "execute_result",
          "data": {
            "text/plain": [
              "0.6018518518518519"
            ]
          },
          "metadata": {},
          "execution_count": 56
        }
      ]
    },
    {
      "cell_type": "markdown",
      "source": [
        "###Gridsearch"
      ],
      "metadata": {
        "id": "VrMdRgYNmx9E"
      }
    },
    {
      "cell_type": "code",
      "source": [
        "best = []\n",
        "\n",
        "grid={\"C\":np.logspace(-3,3,7), \"penalty\":[\"l1\",\"l2\"]}# l1 lasso l2 ridge\n",
        "logreg=LogisticRegression(solver='liblinear', max_iter=300)\n",
        "logreg_cv=GridSearchCV(logreg, grid, cv=cv)\n",
        "logreg_cv.fit(X,y)\n",
        "best = [\"Logistic Reg\", logreg_cv.best_params_, logreg_cv.best_score_]\n",
        "\n",
        "modelos_KM_Alt3.append( best )"
      ],
      "metadata": {
        "id": "q9zm9Ijdmx9F"
      },
      "execution_count": null,
      "outputs": []
    },
    {
      "cell_type": "markdown",
      "source": [
        "##K-vecinos mas cercanos"
      ],
      "metadata": {
        "id": "IoMbhQwsmx9F"
      }
    },
    {
      "cell_type": "markdown",
      "source": [
        "### CV"
      ],
      "metadata": {
        "id": "fypB24Pnmx9G"
      }
    },
    {
      "cell_type": "code",
      "source": [
        "cv = RepeatedKFold(n_splits=7, n_repeats=3, random_state=0)\n",
        "# create model\n",
        "model = KNeighborsClassifier(n_neighbors=3)\n",
        "# evaluate model\n",
        "scores = cross_val_score(model, X, y, scoring='f1', cv=cv, n_jobs=-1)\n",
        "# report performance\n",
        "print(scores)\n",
        "np.mean(scores)"
      ],
      "metadata": {
        "colab": {
          "base_uri": "https://localhost:8080/"
        },
        "outputId": "0f46bc0f-40a9-4079-edba-397d3aa234a7",
        "id": "1RwKuekmmx9G"
      },
      "execution_count": null,
      "outputs": [
        {
          "output_type": "stream",
          "name": "stdout",
          "text": [
            "[0.57142857 0.66666667 0.         0.75       0.57142857 0.57142857\n",
            " 0.75       0.         0.75       0.         0.75       0.85714286\n",
            " 0.4        0.66666667 0.57142857 0.66666667 0.57142857 0.4\n",
            " 0.33333333 0.66666667 0.75      ]\n"
          ]
        },
        {
          "output_type": "execute_result",
          "data": {
            "text/plain": [
              "0.5363945578231293"
            ]
          },
          "metadata": {},
          "execution_count": 58
        }
      ]
    },
    {
      "cell_type": "markdown",
      "source": [
        "### GridSearch"
      ],
      "metadata": {
        "id": "S9uixFXWmx9H"
      }
    },
    {
      "cell_type": "code",
      "source": [
        "best = []\n",
        "\n",
        "\n",
        "params = {\n",
        "    'n_neighbors': range(2,6),\n",
        "    'weights': ['uniform', 'distance'],\n",
        "    'p': [1,2,3]\n",
        "    }\n",
        "kn_cv = GridSearchCV(\n",
        "    KNeighborsClassifier(),\n",
        "    params,\n",
        "    cv=cv,\n",
        "    n_jobs=-1\n",
        ")\n",
        "kn_cv.fit(X,y)\n",
        "\n",
        "\n",
        "best = [\"K medias\", kn_cv.best_params_, kn_cv.best_score_]\n",
        "\n",
        "modelos_KM_Alt3.append( best )"
      ],
      "metadata": {
        "id": "XCKbO-_kmx9I"
      },
      "execution_count": null,
      "outputs": []
    },
    {
      "cell_type": "markdown",
      "source": [],
      "metadata": {
        "id": "vV3EkgvLmx9I"
      }
    },
    {
      "cell_type": "markdown",
      "source": [
        "##Random Forest"
      ],
      "metadata": {
        "id": "0X0DbKXZmx9I"
      }
    },
    {
      "cell_type": "code",
      "source": [
        "best = []\n",
        "\n",
        "\n",
        "pipeline = Pipeline((\n",
        "    ('clf', RandomForestClassifier(random_state=0)),\n",
        "    ))\n",
        "\n",
        "parameters = {\n",
        "    'clf__n_estimators': [10, 100, 200],\n",
        "    'clf__criterion': ['gini', 'entropy'],\n",
        "    'clf__max_depth': [10, 100, 1000]\n",
        "    }\n",
        "grid = GridSearchCV(pipeline, param_grid = parameters, scoring=\"f1\", cv=10, n_jobs=-1)\n",
        "clf = RandomForestClassifier(n_estimators=1000)\n",
        "grid.fit(X,y)\n",
        "\n",
        "best = [\"Random Forest\", grid.best_params_, grid.best_score_]\n",
        "\n",
        "modelos_KM_Alt3.append( best )"
      ],
      "metadata": {
        "id": "NOsCgiMvmx9J"
      },
      "execution_count": null,
      "outputs": []
    },
    {
      "cell_type": "code",
      "source": [
        "for modelo in modelos_KM_Alt3:\n",
        "  print(modelo[0], \":\")\n",
        "  print(\"---Parametros: \", modelo[1])\n",
        "  print(\"---f1 score:\", modelo[2])"
      ],
      "metadata": {
        "colab": {
          "base_uri": "https://localhost:8080/"
        },
        "outputId": "aae3d677-daee-44d0-ff1f-1bd60e34129d",
        "id": "7D911YD_mx9J"
      },
      "execution_count": null,
      "outputs": [
        {
          "output_type": "stream",
          "name": "stdout",
          "text": [
            "Logistic Reg :\n",
            "---Parametros:  {'C': 0.001, 'penalty': 'l1'}\n",
            "---f1 score: 0.6285714285714287\n",
            "K medias :\n",
            "---Parametros:  {'n_neighbors': 5, 'p': 2, 'weights': 'uniform'}\n",
            "---f1 score: 0.523809523809524\n",
            "Random Forest :\n",
            "---Parametros:  {'clf__criterion': 'gini', 'clf__max_depth': 10, 'clf__n_estimators': 200}\n",
            "---f1 score: 0.649047619047619\n"
          ]
        }
      ]
    },
    {
      "cell_type": "markdown",
      "source": [
        "*   Busco parametros con todo el corpus -> nos da mejores parametros\n",
        "*   Con ese modelo hago cross validation sobre todos los datos\n",
        "*   Me da una media y desviacion estandar (este es el error)\n",
        "** funcion que saca todas las metricas (buscar)\n",
        "*   tomamos este modelo con CV y le metemos todos los datos sin CV, solo entrenamiento\n",
        "*  El error de este debe ser igual o menor y se va para produccion\n",
        "---------------\n",
        "* Para el representativo de aglomerativo buscamos centroide por cada cluster\n"
      ],
      "metadata": {
        "id": "uJ-90Jufmx9K"
      }
    },
    {
      "cell_type": "markdown",
      "source": [
        "# KMedias (5 clusters / 5 Representantes aleatorios)"
      ],
      "metadata": {
        "id": "iww_2sffodeg"
      }
    },
    {
      "cell_type": "code",
      "source": [
        "modelos_KM_Alt5 = []\n",
        "X = tablaKM_Alt5"
      ],
      "metadata": {
        "id": "v1CmsCr5odez"
      },
      "execution_count": null,
      "outputs": []
    },
    {
      "cell_type": "markdown",
      "source": [
        "##Regresion Logistica"
      ],
      "metadata": {
        "id": "o6t-OCK7ode1"
      }
    },
    {
      "cell_type": "markdown",
      "source": [
        "###Regresion con CV"
      ],
      "metadata": {
        "id": "6Gj2uhwqode1"
      }
    },
    {
      "cell_type": "code",
      "source": [
        "cv = RepeatedKFold(n_splits=7, n_repeats=3, random_state=0)\n",
        "# create model\n",
        "model = LogisticRegression()\n",
        "# evaluate model\n",
        "scores = cross_val_score(model, X, y, scoring='f1', cv=cv, n_jobs=-1)\n",
        "# report performance\n",
        "print(scores)\n",
        "np.mean(scores)"
      ],
      "metadata": {
        "colab": {
          "base_uri": "https://localhost:8080/"
        },
        "outputId": "9779f585-73cf-4af7-e6a3-ff9987591d19",
        "id": "OiCqaIsQode2"
      },
      "execution_count": null,
      "outputs": [
        {
          "output_type": "stream",
          "name": "stdout",
          "text": [
            "[0.66666667 0.75       0.         0.33333333 0.85714286 0.66666667\n",
            " 0.85714286 0.8        1.         0.         0.66666667 0.88888889\n",
            " 0.4        0.85714286 0.85714286 0.85714286 0.66666667 0.\n",
            " 1.         0.33333333 0.57142857]\n"
          ]
        },
        {
          "output_type": "execute_result",
          "data": {
            "text/plain": [
              "0.6204459561602418"
            ]
          },
          "metadata": {},
          "execution_count": 49
        }
      ]
    },
    {
      "cell_type": "markdown",
      "source": [
        "###Gridsearch"
      ],
      "metadata": {
        "id": "KDKP9_dYode2"
      }
    },
    {
      "cell_type": "code",
      "source": [
        "best = []\n",
        "\n",
        "grid={\"C\":np.logspace(-3,3,7), \"penalty\":[\"l1\",\"l2\"]}# l1 lasso l2 ridge\n",
        "logreg=LogisticRegression(solver='liblinear', max_iter=300)\n",
        "logreg_cv=GridSearchCV(logreg, grid, cv=cv)\n",
        "logreg_cv.fit(X,y)\n",
        "best = [\"Logistic Reg\", logreg_cv.best_params_, logreg_cv.best_score_]\n",
        "\n",
        "modelos_KM_Alt5.append( best )"
      ],
      "metadata": {
        "id": "usJptuPTode3"
      },
      "execution_count": null,
      "outputs": []
    },
    {
      "cell_type": "markdown",
      "source": [
        "##K-vecinos mas cercanos"
      ],
      "metadata": {
        "id": "aJoe-RRZode3"
      }
    },
    {
      "cell_type": "markdown",
      "source": [
        "### CV"
      ],
      "metadata": {
        "id": "GT7kHzHkode7"
      }
    },
    {
      "cell_type": "code",
      "source": [
        "cv = RepeatedKFold(n_splits=7, n_repeats=3, random_state=0)\n",
        "# create model\n",
        "model = KNeighborsClassifier(n_neighbors=3)\n",
        "# evaluate model\n",
        "scores = cross_val_score(model, X, y, scoring='f1', cv=cv, n_jobs=-1)\n",
        "# report performance\n",
        "print(scores)\n",
        "np.mean(scores)"
      ],
      "metadata": {
        "colab": {
          "base_uri": "https://localhost:8080/"
        },
        "outputId": "c14e8064-4659-41b2-de2c-04e77ab8af91",
        "id": "wWXPWWkuode7"
      },
      "execution_count": null,
      "outputs": [
        {
          "output_type": "stream",
          "name": "stdout",
          "text": [
            "[0.         0.4        0.         0.57142857 1.         0.88888889\n",
            " 0.33333333 0.8        0.         0.         0.88888889 0.33333333\n",
            " 0.         0.57142857 0.57142857 0.57142857 0.66666667 0.4\n",
            " 0.85714286 0.57142857 0.85714286]\n"
          ]
        },
        {
          "output_type": "execute_result",
          "data": {
            "text/plain": [
              "0.48964474678760395"
            ]
          },
          "metadata": {},
          "execution_count": 51
        }
      ]
    },
    {
      "cell_type": "markdown",
      "source": [
        "### GridSearch"
      ],
      "metadata": {
        "id": "C92v-qFxode8"
      }
    },
    {
      "cell_type": "code",
      "source": [
        "best = []\n",
        "\n",
        "\n",
        "params = {\n",
        "    'n_neighbors': range(2,6),\n",
        "    'weights': ['uniform', 'distance'],\n",
        "    'p': [1,2,3]\n",
        "    }\n",
        "kn_cv = GridSearchCV(\n",
        "    KNeighborsClassifier(),\n",
        "    params,\n",
        "    cv=cv,\n",
        "    n_jobs=-1\n",
        ")\n",
        "kn_cv.fit(X,y)\n",
        "\n",
        "\n",
        "best = [\"K medias\", kn_cv.best_params_, kn_cv.best_score_]\n",
        "\n",
        "modelos_KM_Alt5.append( best )"
      ],
      "metadata": {
        "id": "XbLmrUaeode9"
      },
      "execution_count": null,
      "outputs": []
    },
    {
      "cell_type": "markdown",
      "source": [],
      "metadata": {
        "id": "5gAA3XSVode-"
      }
    },
    {
      "cell_type": "markdown",
      "source": [
        "##Random Forest"
      ],
      "metadata": {
        "id": "ZORTvwa9ode-"
      }
    },
    {
      "cell_type": "code",
      "source": [
        "best = []\n",
        "\n",
        "\n",
        "pipeline = Pipeline((\n",
        "    ('clf', RandomForestClassifier(random_state=0)),\n",
        "    ))\n",
        "\n",
        "parameters = {\n",
        "    'clf__n_estimators': [10, 100, 200],\n",
        "    'clf__criterion': ['gini', 'entropy'],\n",
        "    'clf__max_depth': [10, 100, 1000]\n",
        "    }\n",
        "grid = GridSearchCV(pipeline, param_grid = parameters, scoring=\"f1\", cv=10, n_jobs=-1)\n",
        "clf = RandomForestClassifier(n_estimators=1000)\n",
        "grid.fit(X,y)\n",
        "\n",
        "best = [\"Random Forest\", grid.best_params_, grid.best_score_]\n",
        "\n",
        "modelos_KM_Alt5.append( best )"
      ],
      "metadata": {
        "id": "k9NZPLteode-"
      },
      "execution_count": null,
      "outputs": []
    },
    {
      "cell_type": "code",
      "source": [
        "for modelo in modelos_KM_Alt5:\n",
        "  print(modelo[0], \":\")\n",
        "  print(\"---Parametros: \", modelo[1])\n",
        "  print(\"---f1 score:\", modelo[2])"
      ],
      "metadata": {
        "colab": {
          "base_uri": "https://localhost:8080/"
        },
        "outputId": "8bd50ff4-9de8-4d1e-d177-2a1ac7346ff3",
        "id": "-ip1HGItode_"
      },
      "execution_count": null,
      "outputs": [
        {
          "output_type": "stream",
          "name": "stdout",
          "text": [
            "Logistic Reg :\n",
            "---Parametros:  {'C': 0.01, 'penalty': 'l2'}\n",
            "---f1 score: 0.6285714285714287\n",
            "K medias :\n",
            "---Parametros:  {'n_neighbors': 5, 'p': 2, 'weights': 'uniform'}\n",
            "---f1 score: 0.5619047619047619\n",
            "Random Forest :\n",
            "---Parametros:  {'clf__criterion': 'gini', 'clf__max_depth': 10, 'clf__n_estimators': 200}\n",
            "---f1 score: 0.6466666666666667\n"
          ]
        }
      ]
    },
    {
      "cell_type": "markdown",
      "source": [
        "*   Busco parametros con todo el corpus -> nos da mejores parametros\n",
        "*   Con ese modelo hago cross validation sobre todos los datos\n",
        "*   Me da una media y desviacion estandar (este es el error)\n",
        "** funcion que saca todas las metricas (buscar)\n",
        "*   tomamos este modelo con CV y le metemos todos los datos sin CV, solo entrenamiento\n",
        "*  El error de este debe ser igual o menor y se va para produccion\n",
        "---------------\n",
        "* Para el representativo de aglomerativo buscamos centroide por cada cluster\n"
      ],
      "metadata": {
        "id": "1FoXw1pQode_"
      }
    },
    {
      "cell_type": "markdown",
      "source": [],
      "metadata": {
        "id": "nN8R2R8_wdmG"
      }
    },
    {
      "cell_type": "code",
      "source": [
        "modelos_J_4 = []\n",
        "X = tablaJ"
      ],
      "metadata": {
        "id": "yJ_-UZpAJ2Dq"
      },
      "execution_count": null,
      "outputs": []
    },
    {
      "cell_type": "markdown",
      "source": [
        "# Jerarquico Aglomerativo  (3 clusters / 3 representantes)"
      ],
      "metadata": {
        "id": "h5eZGg04ynTr"
      }
    },
    {
      "cell_type": "code",
      "source": [
        "modelos_J_3 = []\n",
        "X = tablaJ"
      ],
      "metadata": {
        "id": "BPmg_rtCynTs"
      },
      "execution_count": null,
      "outputs": []
    },
    {
      "cell_type": "markdown",
      "source": [
        "##Regresion Logistica"
      ],
      "metadata": {
        "id": "P0bt4bsLynTs"
      }
    },
    {
      "cell_type": "markdown",
      "source": [
        "###Regresion con CV"
      ],
      "metadata": {
        "id": "SjCl6cKIynTs"
      }
    },
    {
      "cell_type": "code",
      "source": [
        "cv = RepeatedKFold(n_splits=7, n_repeats=3, random_state=0)\n",
        "# create model\n",
        "model = LogisticRegression()\n",
        "# evaluate model\n",
        "scores = cross_val_score(model, X, y, scoring='f1', cv=cv, n_jobs=-1)\n",
        "# report performance\n",
        "print(scores)\n",
        "np.mean(scores)"
      ],
      "metadata": {
        "colab": {
          "base_uri": "https://localhost:8080/"
        },
        "outputId": "e17c9e0f-58a7-4d2c-c591-93e8a98a7dde",
        "id": "43gMTByeynTs"
      },
      "execution_count": null,
      "outputs": [
        {
          "output_type": "stream",
          "name": "stdout",
          "text": [
            "[0.8        0.57142857 0.         0.75       0.85714286 0.66666667\n",
            " 0.57142857 0.4        0.88888889 0.         0.85714286 0.85714286\n",
            " 0.66666667 0.85714286 0.66666667 0.75       0.57142857 0.4\n",
            " 1.         0.75       0.75      ]\n"
          ]
        },
        {
          "output_type": "execute_result",
          "data": {
            "text/plain": [
              "0.6491307634164777"
            ]
          },
          "metadata": {},
          "execution_count": 14
        }
      ]
    },
    {
      "cell_type": "markdown",
      "source": [
        "###Gridsearch"
      ],
      "metadata": {
        "id": "Eq17JRCPynTs"
      }
    },
    {
      "cell_type": "code",
      "source": [
        "\n",
        "grid={\"C\":np.logspace(-3,3,7), \"penalty\":[\"l1\",\"l2\"]}# l1 lasso l2 ridge\n",
        "logreg=LogisticRegression(solver='liblinear', max_iter=300)\n",
        "logreg_cv=GridSearchCV(logreg, grid, cv=cv)\n",
        "logreg_cv.fit(X,y)\n",
        "print(\"best parameters: \",logreg_cv.best_params_)\n",
        "print(\"accuracy :\",logreg_cv.best_score_)\n",
        "\n",
        "modelos_J_3.append( [\"Logistic Reg\", logreg_cv.best_params_, logreg_cv.best_score_ ] )"
      ],
      "metadata": {
        "colab": {
          "base_uri": "https://localhost:8080/"
        },
        "outputId": "a96945ff-8e97-4d32-f267-74b1da4f7f67",
        "id": "oWV0EzktynTt"
      },
      "execution_count": null,
      "outputs": [
        {
          "output_type": "stream",
          "name": "stdout",
          "text": [
            "best parameters:  {'C': 100.0, 'penalty': 'l1'}\n",
            "accuracy : 0.6761904761904762\n"
          ]
        }
      ]
    },
    {
      "cell_type": "markdown",
      "source": [
        "##K-vecinos mas cercanos"
      ],
      "metadata": {
        "id": "V2VdHmoJynTt"
      }
    },
    {
      "cell_type": "markdown",
      "source": [
        "### CV"
      ],
      "metadata": {
        "id": "9t65zX2IynTt"
      }
    },
    {
      "cell_type": "code",
      "source": [
        "cv = RepeatedKFold(n_splits=7, n_repeats=3, random_state=0)\n",
        "# create model\n",
        "model = KNeighborsClassifier(n_neighbors=3)\n",
        "# evaluate model\n",
        "scores = cross_val_score(model, X, y, scoring='f1', cv=cv, n_jobs=-1)\n",
        "# report performance\n",
        "print(scores)\n",
        "np.mean(scores)"
      ],
      "metadata": {
        "colab": {
          "base_uri": "https://localhost:8080/"
        },
        "outputId": "81521449-7e47-4c44-9395-8989b4076505",
        "id": "ytxbkMfuynTt"
      },
      "execution_count": null,
      "outputs": [
        {
          "output_type": "stream",
          "name": "stdout",
          "text": [
            "[0.57142857 0.85714286 0.         0.88888889 0.85714286 0.66666667\n",
            " 0.88888889 0.66666667 0.88888889 0.         0.88888889 0.88888889\n",
            " 0.66666667 0.85714286 0.85714286 0.75       0.57142857 0.4\n",
            " 0.85714286 0.75       1.        ]\n"
          ]
        },
        {
          "output_type": "execute_result",
          "data": {
            "text/plain": [
              "0.7034769463340892"
            ]
          },
          "metadata": {},
          "execution_count": 16
        }
      ]
    },
    {
      "cell_type": "markdown",
      "source": [
        "### GridSearch"
      ],
      "metadata": {
        "id": "bL1z60_zynTt"
      }
    },
    {
      "cell_type": "code",
      "source": [
        "params = {\n",
        "    'n_neighbors': range(2,6),\n",
        "    'weights': ['uniform', 'distance'],\n",
        "    'p': [1,2,3]\n",
        "    }\n",
        "\n",
        "kn_cv = GridSearchCV(\n",
        "    KNeighborsClassifier(),\n",
        "    params,\n",
        "    cv=cv,\n",
        "    n_jobs=-1\n",
        ")\n",
        "\n",
        "kn_cv.fit(X,y)\n",
        "print(\"best parameters \",kn_cv.best_params_)\n",
        "print(\"accuracy :\",kn_cv.best_score_)\n",
        "\n",
        "modelos_J_3.append( [\"K Vecinos\", kn_cv.best_params_, kn_cv.best_score_ ] )"
      ],
      "metadata": {
        "colab": {
          "base_uri": "https://localhost:8080/"
        },
        "outputId": "d062ccd0-f83f-4c12-c3bb-f4e9a9e4e823",
        "id": "YqdBX2vzynTt"
      },
      "execution_count": null,
      "outputs": [
        {
          "output_type": "stream",
          "name": "stdout",
          "text": [
            "best parameters  {'n_neighbors': 2, 'p': 1, 'weights': 'distance'}\n",
            "accuracy : 0.6761904761904763\n"
          ]
        }
      ]
    },
    {
      "cell_type": "markdown",
      "source": [],
      "metadata": {
        "id": "MCqOtMRuynTt"
      }
    },
    {
      "cell_type": "markdown",
      "source": [
        "##Random Forest"
      ],
      "metadata": {
        "id": "JgvNtRJWynTt"
      }
    },
    {
      "cell_type": "code",
      "source": [
        "pipeline = Pipeline((\n",
        "    ('clf', RandomForestClassifier(random_state=0)),\n",
        "    ))\n",
        "\n",
        "parameters = {\n",
        "    'clf__n_estimators': [10, 100, 200],\n",
        "    'clf__criterion': ['gini', 'entropy'],\n",
        "    'clf__max_depth': [10, 100, 1000]\n",
        "    }\n",
        "grid = GridSearchCV(pipeline, param_grid = parameters, scoring=\"f1\", cv=10, n_jobs=-1)\n",
        "clf = RandomForestClassifier(n_estimators=1000)\n",
        "grid.fit(X,y)\n",
        "print(grid.best_params_)\n",
        "print(grid.best_score_)\n",
        "clf_randomForest = grid.best_estimator_\n",
        "\n",
        "modelos_J_3.append( [\"Random Forest\", grid.best_params_, grid.best_score_ ] )"
      ],
      "metadata": {
        "id": "84cVBf7pynTt",
        "colab": {
          "base_uri": "https://localhost:8080/"
        },
        "outputId": "19d27462-e1f2-4a32-9186-dd70e7d1d6aa"
      },
      "execution_count": null,
      "outputs": [
        {
          "output_type": "stream",
          "name": "stdout",
          "text": [
            "{'clf__criterion': 'gini', 'clf__max_depth': 10, 'clf__n_estimators': 100}\n",
            "0.7557142857142858\n"
          ]
        }
      ]
    },
    {
      "cell_type": "code",
      "source": [
        "for modelo in modelos_J_3:\n",
        "  print(modelo[0], \":\")\n",
        "  print(\"---Parametros: \", modelo[1])\n",
        "  print(\"---f1 score:\", modelo[2])"
      ],
      "metadata": {
        "id": "a_hhbRycynTt",
        "colab": {
          "base_uri": "https://localhost:8080/"
        },
        "outputId": "7b041c2a-31c5-4105-fd42-10198b691227"
      },
      "execution_count": null,
      "outputs": [
        {
          "output_type": "stream",
          "name": "stdout",
          "text": [
            "Logistic Reg :\n",
            "---Parametros:  {'C': 100.0, 'penalty': 'l1'}\n",
            "---f1 score: 0.6761904761904762\n",
            "K Vecinos :\n",
            "---Parametros:  {'n_neighbors': 2, 'p': 1, 'weights': 'distance'}\n",
            "---f1 score: 0.6761904761904763\n",
            "Random Forest :\n",
            "---Parametros:  {'clf__criterion': 'gini', 'clf__max_depth': 10, 'clf__n_estimators': 100}\n",
            "---f1 score: 0.7557142857142858\n"
          ]
        }
      ]
    },
    {
      "cell_type": "markdown",
      "source": [
        "# Jerarquico Aglomerativo  (3 clusters / 3 representantes diferentes)"
      ],
      "metadata": {
        "id": "qwflNE5HKA_-"
      }
    },
    {
      "cell_type": "code",
      "source": [
        "modelos_J_4 = []\n",
        "X = tablaJ"
      ],
      "metadata": {
        "id": "E8bID3cSKA__"
      },
      "execution_count": null,
      "outputs": []
    },
    {
      "cell_type": "markdown",
      "source": [
        "##Regresion Logistica"
      ],
      "metadata": {
        "id": "i28_nJZJKA__"
      }
    },
    {
      "cell_type": "markdown",
      "source": [
        "###Regresion con CV"
      ],
      "metadata": {
        "id": "6dU2d2Q_KA__"
      }
    },
    {
      "cell_type": "code",
      "source": [
        "cv = RepeatedKFold(n_splits=7, n_repeats=3, random_state=0)\n",
        "# create model\n",
        "model = LogisticRegression()\n",
        "# evaluate model\n",
        "scores = cross_val_score(model, X, y, scoring='f1', cv=cv, n_jobs=-1)\n",
        "# report performance\n",
        "print(scores)\n",
        "np.mean(scores)"
      ],
      "metadata": {
        "colab": {
          "base_uri": "https://localhost:8080/"
        },
        "outputId": "83313c76-e2ce-4474-f4d8-033a6f3ff82f",
        "id": "q7TugWIVKA__"
      },
      "execution_count": null,
      "outputs": [
        {
          "output_type": "stream",
          "name": "stdout",
          "text": [
            "[0.66666667 0.88888889 0.         0.33333333 0.75       0.75\n",
            " 1.         0.75       1.         0.         0.75       0.88888889\n",
            " 0.75       0.         0.75       0.66666667 0.33333333 0.5\n",
            " 0.66666667 0.88888889 0.88888889]\n"
          ]
        },
        {
          "output_type": "execute_result",
          "data": {
            "text/plain": [
              "0.6296296296296295"
            ]
          },
          "metadata": {},
          "execution_count": 59
        }
      ]
    },
    {
      "cell_type": "markdown",
      "source": [
        "###Gridsearch"
      ],
      "metadata": {
        "id": "JKVrlIIQKA__"
      }
    },
    {
      "cell_type": "code",
      "source": [
        "\n",
        "grid={\"C\":np.logspace(-3,3,7), \"penalty\":[\"l1\",\"l2\"]}# l1 lasso l2 ridge\n",
        "logreg=LogisticRegression(solver='liblinear', max_iter=300)\n",
        "logreg_cv=GridSearchCV(logreg, grid, cv=cv)\n",
        "logreg_cv.fit(X,y)\n",
        "print(\"best parameters: \",logreg_cv.best_params_)\n",
        "print(\"accuracy :\",logreg_cv.best_score_)\n",
        "\n",
        "modelos_J_4.append( [\"Logistic Reg\", logreg_cv.best_params_, logreg_cv.best_score_ ] )"
      ],
      "metadata": {
        "colab": {
          "base_uri": "https://localhost:8080/"
        },
        "outputId": "4d5e9c0b-40bf-4975-9a6e-71c176b4c658",
        "id": "AQ5AwNgrKA__"
      },
      "execution_count": null,
      "outputs": [
        {
          "output_type": "stream",
          "name": "stdout",
          "text": [
            "best parameters:  {'C': 100.0, 'penalty': 'l1'}\n",
            "accuracy : 0.6380952380952382\n"
          ]
        }
      ]
    },
    {
      "cell_type": "markdown",
      "source": [
        "##K-vecinos mas cercanos"
      ],
      "metadata": {
        "id": "Q7i_rz20KA__"
      }
    },
    {
      "cell_type": "markdown",
      "source": [
        "### CV"
      ],
      "metadata": {
        "id": "yVhkcJeXKA__"
      }
    },
    {
      "cell_type": "code",
      "source": [
        "cv = RepeatedKFold(n_splits=7, n_repeats=3, random_state=0)\n",
        "# create model\n",
        "model = KNeighborsClassifier(n_neighbors=3)\n",
        "# evaluate model\n",
        "scores = cross_val_score(model, X, y, scoring='f1', cv=cv, n_jobs=-1)\n",
        "# report performance\n",
        "print(scores)\n",
        "np.mean(scores)"
      ],
      "metadata": {
        "colab": {
          "base_uri": "https://localhost:8080/"
        },
        "outputId": "93a8f21c-13d4-4e2f-a47b-a71df4bedff0",
        "id": "c3To8RdJKBAA"
      },
      "execution_count": null,
      "outputs": [
        {
          "output_type": "stream",
          "name": "stdout",
          "text": [
            "[0.57142857 1.         0.         0.88888889 0.57142857 0.75\n",
            " 0.85714286 0.57142857 0.75       0.         0.85714286 0.85714286\n",
            " 0.85714286 0.66666667 0.75       0.8        0.57142857 0.4\n",
            " 0.66666667 1.         1.        ]\n"
          ]
        },
        {
          "output_type": "execute_result",
          "data": {
            "text/plain": [
              "0.6850718065003779"
            ]
          },
          "metadata": {},
          "execution_count": 61
        }
      ]
    },
    {
      "cell_type": "markdown",
      "source": [
        "### GridSearch"
      ],
      "metadata": {
        "id": "WGBgP-T3KBAA"
      }
    },
    {
      "cell_type": "code",
      "source": [
        "params = {\n",
        "    'n_neighbors': range(2,6),\n",
        "    'weights': ['uniform', 'distance'],\n",
        "    'p': [1,2,3]\n",
        "    }\n",
        "\n",
        "kn_cv = GridSearchCV(\n",
        "    KNeighborsClassifier(),\n",
        "    params,\n",
        "    cv=cv,\n",
        "    n_jobs=-1\n",
        ")\n",
        "\n",
        "kn_cv.fit(X,y)\n",
        "print(\"best parameters \",kn_cv.best_params_)\n",
        "print(\"accuracy :\",kn_cv.best_score_)\n",
        "\n",
        "modelos_J_4.append( [\"K Vecinos\", kn_cv.best_params_, kn_cv.best_score_ ] )"
      ],
      "metadata": {
        "colab": {
          "base_uri": "https://localhost:8080/"
        },
        "outputId": "67ce3363-bf1c-4b1b-b640-9ea4edef94f0",
        "id": "yJ9tDhOmKBAA"
      },
      "execution_count": null,
      "outputs": [
        {
          "output_type": "stream",
          "name": "stdout",
          "text": [
            "best parameters  {'n_neighbors': 4, 'p': 1, 'weights': 'uniform'}\n",
            "accuracy : 0.7142857142857143\n"
          ]
        }
      ]
    },
    {
      "cell_type": "markdown",
      "source": [],
      "metadata": {
        "id": "7m0Ts4W2KBAA"
      }
    },
    {
      "cell_type": "markdown",
      "source": [
        "##Random Forest"
      ],
      "metadata": {
        "id": "oUSU5OVSKBAA"
      }
    },
    {
      "cell_type": "code",
      "source": [
        "pipeline = Pipeline((\n",
        "    ('clf', RandomForestClassifier(random_state=0)),\n",
        "    ))\n",
        "\n",
        "parameters = {\n",
        "    'clf__n_estimators': [10, 100, 200],\n",
        "    'clf__criterion': ['gini', 'entropy'],\n",
        "    'clf__max_depth': [10, 100, 1000]\n",
        "    }\n",
        "grid = GridSearchCV(pipeline, param_grid = parameters, scoring=\"f1\", cv=10, n_jobs=-1)\n",
        "clf = RandomForestClassifier(n_estimators=1000)\n",
        "grid.fit(X,y)\n",
        "print(grid.best_params_)\n",
        "print(grid.best_score_)\n",
        "clf_randomForest = grid.best_estimator_\n",
        "\n",
        "modelos_J_4.append( [\"Random Forest\", grid.best_params_, grid.best_score_ ] )"
      ],
      "metadata": {
        "colab": {
          "base_uri": "https://localhost:8080/"
        },
        "outputId": "384ae0c2-eea7-45fe-bd13-0dc40b0c725a",
        "id": "KpSj9lWVKBAA"
      },
      "execution_count": null,
      "outputs": [
        {
          "output_type": "stream",
          "name": "stdout",
          "text": [
            "{'clf__criterion': 'entropy', 'clf__max_depth': 10, 'clf__n_estimators': 10}\n",
            "0.7623809523809524\n"
          ]
        }
      ]
    },
    {
      "cell_type": "code",
      "source": [
        "for modelo in modelos_J_4:\n",
        "  print(modelo[0], \":\")\n",
        "  print(\"---Parametros: \", modelo[1])\n",
        "  print(\"---f1 score:\", modelo[2])"
      ],
      "metadata": {
        "colab": {
          "base_uri": "https://localhost:8080/"
        },
        "outputId": "17a3b099-c180-488a-d041-54c07bacf41e",
        "id": "H2Y3wDbpKBAA"
      },
      "execution_count": null,
      "outputs": [
        {
          "output_type": "stream",
          "name": "stdout",
          "text": [
            "Logistic Reg :\n",
            "---Parametros:  {'C': 100.0, 'penalty': 'l1'}\n",
            "---f1 score: 0.6380952380952382\n",
            "K Vecinos :\n",
            "---Parametros:  {'n_neighbors': 4, 'p': 1, 'weights': 'uniform'}\n",
            "---f1 score: 0.7142857142857143\n",
            "Random Forest :\n",
            "---Parametros:  {'clf__criterion': 'entropy', 'clf__max_depth': 10, 'clf__n_estimators': 10}\n",
            "---f1 score: 0.7623809523809524\n"
          ]
        }
      ]
    },
    {
      "cell_type": "markdown",
      "source": [
        "# Jerarquico Aglomerativo  (3 clusters / 6 representantes)"
      ],
      "metadata": {
        "id": "T7-GFVUzLHwT"
      }
    },
    {
      "cell_type": "code",
      "source": [
        "modelos_J_5 = []\n",
        "X = tablaJ"
      ],
      "metadata": {
        "id": "4BZy0DqoLHwT"
      },
      "execution_count": null,
      "outputs": []
    },
    {
      "cell_type": "markdown",
      "source": [
        "##Regresion Logistica"
      ],
      "metadata": {
        "id": "mBerDBpnLHwT"
      }
    },
    {
      "cell_type": "markdown",
      "source": [
        "###Regresion con CV"
      ],
      "metadata": {
        "id": "ihfuNAUWLHwT"
      }
    },
    {
      "cell_type": "code",
      "source": [
        "cv = RepeatedKFold(n_splits=7, n_repeats=3, random_state=0)\n",
        "# create model\n",
        "model = LogisticRegression()\n",
        "# evaluate model\n",
        "scores = cross_val_score(model, X, y, scoring='f1', cv=cv, n_jobs=-1)\n",
        "# report performance\n",
        "print(scores)\n",
        "np.mean(scores)"
      ],
      "metadata": {
        "colab": {
          "base_uri": "https://localhost:8080/"
        },
        "outputId": "30c5dea8-5361-4792-f3a2-aa640596dd86",
        "id": "JdZvoDIMLHwT"
      },
      "execution_count": null,
      "outputs": [
        {
          "output_type": "stream",
          "name": "stdout",
          "text": [
            "[0.66666667 0.75       0.         0.57142857 0.57142857 0.66666667\n",
            " 0.85714286 0.8        1.         0.         0.85714286 0.88888889\n",
            " 0.66666667 0.85714286 0.85714286 0.85714286 0.4        0.5\n",
            " 0.8        0.75       0.75      ]\n"
          ]
        },
        {
          "output_type": "execute_result",
          "data": {
            "text/plain": [
              "0.6698790627362057"
            ]
          },
          "metadata": {},
          "execution_count": 48
        }
      ]
    },
    {
      "cell_type": "markdown",
      "source": [
        "###Gridsearch"
      ],
      "metadata": {
        "id": "Xki59lluLHwU"
      }
    },
    {
      "cell_type": "code",
      "source": [
        "\n",
        "grid={\"C\":np.logspace(-3,3,7), \"penalty\":[\"l1\",\"l2\"]}# l1 lasso l2 ridge\n",
        "logreg=LogisticRegression(solver='liblinear', max_iter=300)\n",
        "logreg_cv=GridSearchCV(logreg, grid, cv=cv)\n",
        "logreg_cv.fit(X,y)\n",
        "print(\"best parameters: \",logreg_cv.best_params_)\n",
        "print(\"accuracy :\",logreg_cv.best_score_)\n",
        "\n",
        "modelos_J_5.append( [\"Logistic Reg\", logreg_cv.best_params_, logreg_cv.best_score_ ] )"
      ],
      "metadata": {
        "colab": {
          "base_uri": "https://localhost:8080/"
        },
        "outputId": "4606088d-a93a-4164-9e46-9de88b98ad00",
        "id": "72HbdGkPLHwU"
      },
      "execution_count": null,
      "outputs": [
        {
          "output_type": "stream",
          "name": "stdout",
          "text": [
            "best parameters:  {'C': 1000.0, 'penalty': 'l1'}\n",
            "accuracy : 0.6666666666666667\n"
          ]
        }
      ]
    },
    {
      "cell_type": "markdown",
      "source": [
        "##K-vecinos mas cercanos"
      ],
      "metadata": {
        "id": "YanXouPwLHwU"
      }
    },
    {
      "cell_type": "markdown",
      "source": [
        "### CV"
      ],
      "metadata": {
        "id": "d7w38X-5LHwU"
      }
    },
    {
      "cell_type": "code",
      "source": [
        "cv = RepeatedKFold(n_splits=7, n_repeats=3, random_state=0)\n",
        "# create model\n",
        "model = KNeighborsClassifier(n_neighbors=3)\n",
        "# evaluate model\n",
        "scores = cross_val_score(model, X, y, scoring='f1', cv=cv, n_jobs=-1)\n",
        "# report performance\n",
        "print(scores)\n",
        "np.mean(scores)"
      ],
      "metadata": {
        "colab": {
          "base_uri": "https://localhost:8080/"
        },
        "outputId": "b8781b7d-0033-41b0-910a-8b9330e040a6",
        "id": "_v6azb5xLHwU"
      },
      "execution_count": null,
      "outputs": [
        {
          "output_type": "stream",
          "name": "stdout",
          "text": [
            "[0.66666667 1.         0.         0.75       0.85714286 0.66666667\n",
            " 1.         0.4        0.88888889 0.         0.88888889 0.85714286\n",
            " 0.85714286 1.         0.85714286 0.8        0.75       0.4\n",
            " 0.85714286 0.88888889 1.        ]\n"
          ]
        },
        {
          "output_type": "execute_result",
          "data": {
            "text/plain": [
              "0.7326530612244899"
            ]
          },
          "metadata": {},
          "execution_count": 50
        }
      ]
    },
    {
      "cell_type": "markdown",
      "source": [
        "### GridSearch"
      ],
      "metadata": {
        "id": "kGLPVITxLHwU"
      }
    },
    {
      "cell_type": "code",
      "source": [
        "params = {\n",
        "    'n_neighbors': range(2,6),\n",
        "    'weights': ['uniform', 'distance'],\n",
        "    'p': [1,2,3]\n",
        "    }\n",
        "\n",
        "kn_cv = GridSearchCV(\n",
        "    KNeighborsClassifier(),\n",
        "    params,\n",
        "    cv=cv,\n",
        "    n_jobs=-1\n",
        ")\n",
        "\n",
        "kn_cv.fit(X,y)\n",
        "print(\"best parameters \",kn_cv.best_params_)\n",
        "print(\"accuracy :\",kn_cv.best_score_)\n",
        "\n",
        "modelos_J_5.append( [\"K Vecinos\", kn_cv.best_params_, kn_cv.best_score_ ] )"
      ],
      "metadata": {
        "colab": {
          "base_uri": "https://localhost:8080/"
        },
        "outputId": "ecb8bc14-007f-4af3-ccf1-c60acdab3b2c",
        "id": "UD0YXwSZLHwU"
      },
      "execution_count": null,
      "outputs": [
        {
          "output_type": "stream",
          "name": "stdout",
          "text": [
            "best parameters  {'n_neighbors': 4, 'p': 2, 'weights': 'distance'}\n",
            "accuracy : 0.6952380952380954\n"
          ]
        }
      ]
    },
    {
      "cell_type": "markdown",
      "source": [],
      "metadata": {
        "id": "6qyPzhNLLHwU"
      }
    },
    {
      "cell_type": "markdown",
      "source": [
        "##Random Forest"
      ],
      "metadata": {
        "id": "EaR0GjaOLHwU"
      }
    },
    {
      "cell_type": "code",
      "source": [
        "pipeline = Pipeline((\n",
        "    ('clf', RandomForestClassifier(random_state=0)),\n",
        "    ))\n",
        "\n",
        "parameters = {\n",
        "    'clf__n_estimators': [10, 100, 200],\n",
        "    'clf__criterion': ['gini', 'entropy'],\n",
        "    'clf__max_depth': [10, 100, 1000]\n",
        "    }\n",
        "grid = GridSearchCV(pipeline, param_grid = parameters, scoring=\"f1\", cv=10, n_jobs=-1)\n",
        "clf = RandomForestClassifier(n_estimators=1000)\n",
        "grid.fit(X,y)\n",
        "print(grid.best_params_)\n",
        "print(grid.best_score_)\n",
        "clf_randomForest = grid.best_estimator_\n",
        "\n",
        "modelos_J_5.append( [\"Random Forest\", grid.best_params_, grid.best_score_ ] )"
      ],
      "metadata": {
        "colab": {
          "base_uri": "https://localhost:8080/"
        },
        "outputId": "adbb146f-41e5-4154-85be-ca116bbcfee9",
        "id": "KdbHvvk4LHwU"
      },
      "execution_count": null,
      "outputs": [
        {
          "output_type": "stream",
          "name": "stdout",
          "text": [
            "{'clf__criterion': 'entropy', 'clf__max_depth': 10, 'clf__n_estimators': 100}\n",
            "0.7823809523809524\n"
          ]
        }
      ]
    },
    {
      "cell_type": "code",
      "source": [
        "for modelo in modelos_J_5:\n",
        "  print(modelo[0], \":\")\n",
        "  print(\"---Parametros: \", modelo[1])\n",
        "  print(\"---f1 score:\", modelo[2])"
      ],
      "metadata": {
        "colab": {
          "base_uri": "https://localhost:8080/"
        },
        "outputId": "b1c0aa82-60ef-44a6-ee7e-3c5b84401dce",
        "id": "GYYZfaVhLHwV"
      },
      "execution_count": null,
      "outputs": [
        {
          "output_type": "stream",
          "name": "stdout",
          "text": [
            "Logistic Reg :\n",
            "---Parametros:  {'C': 1000.0, 'penalty': 'l1'}\n",
            "---f1 score: 0.6666666666666667\n",
            "K Vecinos :\n",
            "---Parametros:  {'n_neighbors': 4, 'p': 2, 'weights': 'distance'}\n",
            "---f1 score: 0.6952380952380954\n",
            "Random Forest :\n",
            "---Parametros:  {'clf__criterion': 'entropy', 'clf__max_depth': 10, 'clf__n_estimators': 100}\n",
            "---f1 score: 0.7823809523809524\n"
          ]
        }
      ]
    }
  ]
}